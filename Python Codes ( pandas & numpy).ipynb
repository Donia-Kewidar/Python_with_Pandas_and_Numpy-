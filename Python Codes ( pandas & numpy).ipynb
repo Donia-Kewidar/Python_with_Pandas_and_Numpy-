{
 "cells": [
  {
   "cell_type": "markdown",
   "id": "ae4e4208",
   "metadata": {},
   "source": [
    "# Python Codes ( pandas & numpy)"
   ]
  },
  {
   "cell_type": "markdown",
   "id": "9130f2e6",
   "metadata": {},
   "source": [
    "### List Comprehensions - (do.. for)"
   ]
  },
  {
   "cell_type": "code",
   "execution_count": 1,
   "id": "02b10dee",
   "metadata": {},
   "outputs": [
    {
     "data": {
      "text/plain": [
       "['Dumbledore', 'Beeblebrox', 'Skywalker', 'Hermione', 'Leia']"
      ]
     },
     "execution_count": 1,
     "metadata": {},
     "output_type": "execute_result"
    }
   ],
   "source": [
    "names = ['dumbledore', 'beeblebrox', 'skywalker', 'hermione', 'leia']\n",
    "capitalized_names = []\n",
    "for name in names:\n",
    "    capitalized_names.append(name.title())\n",
    "\n",
    "# equals (do.. for)\n",
    "capitalized_names = [name.title() for name in names]\n",
    "capitalized_names"
   ]
  },
  {
   "cell_type": "markdown",
   "id": "f1abbc3f",
   "metadata": {},
   "source": [
    "### adding conditionals (do.. for.. if)"
   ]
  },
  {
   "cell_type": "code",
   "execution_count": 2,
   "id": "2d17db68",
   "metadata": {},
   "outputs": [
    {
     "data": {
      "text/plain": [
       "[0, 4, 4, 6, 16, 8, 36, 10, 64]"
      ]
     },
     "execution_count": 2,
     "metadata": {},
     "output_type": "execute_result"
    }
   ],
   "source": [
    "squares = [x**2 for x in range(9) if x % 2 == 0]\n",
    "# to add else statements, move the conditionals to the beginning\n",
    "squares = [x**2 if x % 2 == 0 else x + 3 for x in range(9)]\n",
    "squares"
   ]
  },
  {
   "cell_type": "markdown",
   "id": "7b967a47",
   "metadata": {},
   "source": [
    "### Example"
   ]
  },
  {
   "cell_type": "code",
   "execution_count": 3,
   "id": "1e18b723",
   "metadata": {},
   "outputs": [
    {
     "name": "stdout",
     "output_type": "stream",
     "text": [
      "['Rick', 'Morty', 'Summer', 'Jerry', 'Beth']\n",
      "[3, 6, 9, 12, 15, 18, 21, 24, 27, 30, 33, 36, 39, 42, 45, 48, 51, 54, 57, 60]\n",
      "['Rick', 'Summer Smith', 'Beth Smith']\n"
     ]
    }
   ],
   "source": [
    "# example 1\n",
    "names = [\"Rick S\", \"Morty Smith\", \"Summer Smith\", \"Jerry Smith\", \"Beth Smith\"]\n",
    "first_names = [name.split(' ')[0] for name in names]\n",
    "print(first_names)\n",
    "\n",
    "\n",
    "# example 2\n",
    "multiples_3 = [i*3 for i in range(1,21)]\n",
    "print(multiples_3)\n",
    "\n",
    "# example 3\n",
    "scores = {\n",
    "             \"Rick\": 70,\n",
    "             \"Morty Smith\": 35,\n",
    "             \"Summer Smith\": 82,\n",
    "             \"Jerry Smith\": 23,\n",
    "             \"Beth Smith\": 98\n",
    "          }\n",
    "passed = [name for name, score in scores.items() if score>=65]\n",
    "print(passed)\n"
   ]
  },
  {
   "cell_type": "markdown",
   "id": "0ff3fe76",
   "metadata": {},
   "source": [
    "### Lambda Functions"
   ]
  },
  {
   "cell_type": "code",
   "execution_count": 4,
   "id": "21af007d",
   "metadata": {},
   "outputs": [
    {
     "data": {
      "text/plain": [
       "28"
      ]
     },
     "execution_count": 4,
     "metadata": {},
     "output_type": "execute_result"
    }
   ],
   "source": [
    "# Lambda Functions - lambda (arg1, arg2): do_a_thing_and_return_it\n",
    "multiply = lambda x, y: x * y\n",
    "\n",
    "# Equivalent of:\n",
    "def multiply(x, y):\n",
    "    return x * y\n",
    "\n",
    "# Can call both of the above like:\n",
    "multiply(4, 7)"
   ]
  },
  {
   "cell_type": "markdown",
   "id": "8e1c8eea",
   "metadata": {},
   "source": [
    "### map() - apply lambda function to a list"
   ]
  },
  {
   "cell_type": "code",
   "execution_count": 5,
   "id": "18cc2322",
   "metadata": {},
   "outputs": [
    {
     "name": "stdout",
     "output_type": "stream",
     "text": [
      "[57.0, 58.2, 50.6, 27.2]\n"
     ]
    }
   ],
   "source": [
    "# example of using map() to apply lambda function to a list\n",
    "numbers = [\n",
    "              [34, 63, 88, 71, 29],\n",
    "              [90, 78, 51, 27, 45],\n",
    "              [63, 37, 85, 46, 22],\n",
    "              [51, 22, 34, 11, 18]\n",
    "           ]\n",
    "mean = lambda num_list: sum(num_list)/len(num_list)\n",
    "averages = list(map(mean, numbers))\n",
    "# or\n",
    "averages = list(map(lambda num_list: sum(num_list)/len(num_list), numbers))\n",
    "print(averages)\n"
   ]
  },
  {
   "cell_type": "markdown",
   "id": "106317da",
   "metadata": {},
   "source": [
    "### filter() - apply lambda function to a list"
   ]
  },
  {
   "cell_type": "code",
   "execution_count": 6,
   "id": "f096211e",
   "metadata": {},
   "outputs": [
    {
     "name": "stdout",
     "output_type": "stream",
     "text": [
      "['Chicago', 'Denver', 'Boston']\n"
     ]
    }
   ],
   "source": [
    "# example of using filter() to apply lambda function to a list\n",
    "cities = [\"New York City\", \"Los Angeles\", \"Chicago\", \"Mountain View\", \"Denver\", \"Boston\"]\n",
    "is_short = lambda name: len(name) < 10\n",
    "short_cities = list(filter(is_short, cities))\n",
    "# or\n",
    "short_cities = list(filter(lambda name: len(name) < 10, cities))\n",
    "print(short_cities)"
   ]
  },
  {
   "cell_type": "markdown",
   "id": "ba5cc279",
   "metadata": {},
   "source": [
    "### Generators"
   ]
  },
  {
   "cell_type": "code",
   "execution_count": 7,
   "id": "1649bcc5",
   "metadata": {},
   "outputs": [
    {
     "name": "stdout",
     "output_type": "stream",
     "text": [
      "0\n",
      "1\n",
      "2\n",
      "3\n",
      "4\n",
      "Lesson 1: Why Python Programming\n",
      "Lesson 2: Data Types and Operators\n",
      "Lesson 3: Control Flow\n",
      "Lesson 4: Functions\n",
      "Lesson 5: Scripting\n",
      "[0, 1, 2, 3]\n",
      "[4, 5, 6, 7]\n",
      "[8, 9, 10, 11]\n",
      "[12, 13, 14, 15]\n",
      "[16, 17, 18, 19]\n",
      "[20, 21, 22, 23]\n",
      "[24]\n"
     ]
    }
   ],
   "source": [
    "# Generators\n",
    "def my_range(x):\n",
    "    i = 0\n",
    "    while i < x:\n",
    "        yield i\n",
    "        i += 1\n",
    "# since this returns an iterator, we can convert it to a list\n",
    "# or iterate through it in a loop to view its contents\n",
    "for x in my_range(5):\n",
    "    print(x)\n",
    "'''\n",
    "0\n",
    "1\n",
    "2\n",
    "3\n",
    "4\n",
    "'''\n",
    "\n",
    "# You can create a generator in the same way you'd normally write a list comprehension, except with\n",
    "# parentheses instead of square brackets.\n",
    "# this list comprehension produces a list of squares\n",
    "sq_list = [x**2 for x in range(10)]\n",
    "# this generator produces an iterator of squares\n",
    "sq_iterator = (x**2 for x in range(10))\n",
    "\n",
    "# example\n",
    "# generator function that works like the built-in function enumerate\n",
    "lessons = [\"Why Python Programming\", \"Data Types and Operators\", \"Control Flow\", \"Functions\", \"Scripting\"]\n",
    "def my_enumerate(iterable, start=0):\n",
    "    i = start\n",
    "    for element in iterable:\n",
    "        yield i, element\n",
    "        i = i + 1\n",
    "for i, lesson in my_enumerate(lessons, 1):\n",
    "    print(\"Lesson {}: {}\".format(i, lesson))\n",
    "'''\n",
    "Lesson 1: Why Python Programming\n",
    "Lesson 2: Data Types and Operators\n",
    "Lesson 3: Control Flow\n",
    "Lesson 4: Functions\n",
    "Lesson 5: Scripting\n",
    "'''\n",
    "\n",
    "# example\n",
    "# If you have an iterable that is too large to fit in memory in full\n",
    "# (e.g., when dealing with large files), being able to take and use\n",
    "# chunks of it at a time can be very valuable.\n",
    "# Implementing a generator function, chunker, that takes in an\n",
    "# iterable and yields a chunk of a specified size at a time.\n",
    "def chunker(iterable, size):\n",
    "    for i in range(0, len(iterable), size):\n",
    "        yield iterable[i:i + size]\n",
    "for chunk in chunker(range(25), 4):\n",
    "    print(list(chunk))"
   ]
  },
  {
   "cell_type": "markdown",
   "id": "e3cc2397",
   "metadata": {},
   "source": [
    "### Create list"
   ]
  },
  {
   "cell_type": "code",
   "execution_count": 8,
   "id": "4c9022a0",
   "metadata": {},
   "outputs": [
    {
     "data": {
      "text/plain": [
       "[1, 3.4, 'a string', True]"
      ]
     },
     "execution_count": 8,
     "metadata": {},
     "output_type": "execute_result"
    }
   ],
   "source": [
    "list_of_random_things = [1, 3.4, 'a string', True]\n",
    "list_of_random_things"
   ]
  },
  {
   "cell_type": "markdown",
   "id": "52458ccf",
   "metadata": {},
   "source": [
    "### access list elements"
   ]
  },
  {
   "cell_type": "code",
   "execution_count": 9,
   "id": "16e127b5",
   "metadata": {},
   "outputs": [
    {
     "data": {
      "text/plain": [
       "1"
      ]
     },
     "execution_count": 9,
     "metadata": {},
     "output_type": "execute_result"
    }
   ],
   "source": [
    "list_of_random_things[0]"
   ]
  },
  {
   "cell_type": "code",
   "execution_count": 10,
   "id": "21730f2d",
   "metadata": {},
   "outputs": [
    {
     "data": {
      "text/plain": [
       "True"
      ]
     },
     "execution_count": 10,
     "metadata": {},
     "output_type": "execute_result"
    }
   ],
   "source": [
    "list_of_random_things[-1] #last element"
   ]
  },
  {
   "cell_type": "code",
   "execution_count": 11,
   "id": "05ec45f2",
   "metadata": {},
   "outputs": [
    {
     "data": {
      "text/plain": [
       "True"
      ]
     },
     "execution_count": 11,
     "metadata": {},
     "output_type": "execute_result"
    }
   ],
   "source": [
    "list_of_random_things[len(list_of_random_things) - 1] #last element"
   ]
  },
  {
   "cell_type": "code",
   "execution_count": 12,
   "id": "69f5f483",
   "metadata": {},
   "outputs": [
    {
     "data": {
      "text/plain": [
       "'a string'"
      ]
     },
     "execution_count": 12,
     "metadata": {},
     "output_type": "execute_result"
    }
   ],
   "source": [
    "list_of_random_things[len(list_of_random_things) - 2]"
   ]
  },
  {
   "cell_type": "markdown",
   "id": "760ae2a2",
   "metadata": {},
   "source": [
    "### Slicing [:]"
   ]
  },
  {
   "cell_type": "code",
   "execution_count": 13,
   "id": "e407122b",
   "metadata": {},
   "outputs": [
    {
     "data": {
      "text/plain": [
       "[3.4, 'a string']"
      ]
     },
     "execution_count": 13,
     "metadata": {},
     "output_type": "execute_result"
    }
   ],
   "source": [
    "list_of_random_things[1:3] # returns [3.4, 'a string']"
   ]
  },
  {
   "cell_type": "code",
   "execution_count": 14,
   "id": "3b05f934",
   "metadata": {},
   "outputs": [
    {
     "data": {
      "text/plain": [
       "[1, 3.4]"
      ]
     },
     "execution_count": 14,
     "metadata": {},
     "output_type": "execute_result"
    }
   ],
   "source": [
    "list_of_random_things[:2] # returns [1, 3.4]"
   ]
  },
  {
   "cell_type": "code",
   "execution_count": 15,
   "id": "e4d2d8b5",
   "metadata": {},
   "outputs": [
    {
     "data": {
      "text/plain": [
       "[3.4, 'a string', True]"
      ]
     },
     "execution_count": 15,
     "metadata": {},
     "output_type": "execute_result"
    }
   ],
   "source": [
    "list_of_random_things[1:] # returns all of the elements to the end of the list [3.4, 'a string', True]"
   ]
  },
  {
   "cell_type": "markdown",
   "id": "fcb57cab",
   "metadata": {},
   "source": [
    "### in , not in"
   ]
  },
  {
   "cell_type": "code",
   "execution_count": 16,
   "id": "ad21c16a",
   "metadata": {},
   "outputs": [
    {
     "data": {
      "text/plain": [
       "True"
      ]
     },
     "execution_count": 16,
     "metadata": {},
     "output_type": "execute_result"
    }
   ],
   "source": [
    "'this' in 'this is a string' # True"
   ]
  },
  {
   "cell_type": "code",
   "execution_count": 17,
   "id": "af6319a3",
   "metadata": {},
   "outputs": [
    {
     "data": {
      "text/plain": [
       "True"
      ]
     },
     "execution_count": 17,
     "metadata": {},
     "output_type": "execute_result"
    }
   ],
   "source": [
    "'in' in 'this is a string' # True"
   ]
  },
  {
   "cell_type": "code",
   "execution_count": 18,
   "id": "4932c4c1",
   "metadata": {},
   "outputs": [
    {
     "data": {
      "text/plain": [
       "False"
      ]
     },
     "execution_count": 18,
     "metadata": {},
     "output_type": "execute_result"
    }
   ],
   "source": [
    "'isa' in 'this is a string' # False"
   ]
  },
  {
   "cell_type": "code",
   "execution_count": 19,
   "id": "d56a7b81",
   "metadata": {},
   "outputs": [
    {
     "data": {
      "text/plain": [
       "True"
      ]
     },
     "execution_count": 19,
     "metadata": {},
     "output_type": "execute_result"
    }
   ],
   "source": [
    "5 not in [1, 2, 3, 4, 6] # True"
   ]
  },
  {
   "cell_type": "code",
   "execution_count": 20,
   "id": "a075530c",
   "metadata": {},
   "outputs": [
    {
     "data": {
      "text/plain": [
       "False"
      ]
     },
     "execution_count": 20,
     "metadata": {},
     "output_type": "execute_result"
    }
   ],
   "source": [
    "5 in [1, 2, 3, 4, 6] # False"
   ]
  },
  {
   "cell_type": "markdown",
   "id": "e355e193",
   "metadata": {},
   "source": [
    "### Mutable and ordered"
   ]
  },
  {
   "cell_type": "code",
   "execution_count": 21,
   "id": "22faf007",
   "metadata": {},
   "outputs": [
    {
     "name": "stdout",
     "output_type": "stream",
     "text": [
      "[0, 2, 3, 4, 5]\n"
     ]
    }
   ],
   "source": [
    "my_lst = [1, 2, 3, 4, 5]\n",
    "my_lst[0] = 0\n",
    "print(my_lst)"
   ]
  },
  {
   "cell_type": "markdown",
   "id": "526a7ba0",
   "metadata": {},
   "source": [
    "### length of list"
   ]
  },
  {
   "cell_type": "code",
   "execution_count": 22,
   "id": "c9e09329",
   "metadata": {},
   "outputs": [
    {
     "data": {
      "text/plain": [
       "4"
      ]
     },
     "execution_count": 22,
     "metadata": {},
     "output_type": "execute_result"
    }
   ],
   "source": [
    "len(list_of_random_things)"
   ]
  },
  {
   "cell_type": "markdown",
   "id": "4609809e",
   "metadata": {},
   "source": [
    "### smallest and greatest element in list"
   ]
  },
  {
   "cell_type": "code",
   "execution_count": 23,
   "id": "16d85a18",
   "metadata": {},
   "outputs": [
    {
     "data": {
      "text/plain": [
       "1"
      ]
     },
     "execution_count": 23,
     "metadata": {},
     "output_type": "execute_result"
    }
   ],
   "source": [
    "my_list=[1,2,4,6,9,8]\n",
    "# returns the smallest element of the list\n",
    "min(my_list)"
   ]
  },
  {
   "cell_type": "code",
   "execution_count": 24,
   "id": "0359d6cb",
   "metadata": {},
   "outputs": [
    {
     "data": {
      "text/plain": [
       "9"
      ]
     },
     "execution_count": 24,
     "metadata": {},
     "output_type": "execute_result"
    }
   ],
   "source": [
    "# returns the greatest element of the list. This works because the the max function is defined in terms of the greater than comparison operator. The max function is undefined for lists that contain elements from different, incomparable types.\n",
    "max(my_list)"
   ]
  },
  {
   "cell_type": "markdown",
   "id": "4a079e81",
   "metadata": {},
   "source": [
    "### Sort list"
   ]
  },
  {
   "cell_type": "code",
   "execution_count": 25,
   "id": "8e6c9f11",
   "metadata": {},
   "outputs": [
    {
     "data": {
      "text/plain": [
       "[1, 2, 4, 6, 8, 9]"
      ]
     },
     "execution_count": 25,
     "metadata": {},
     "output_type": "execute_result"
    }
   ],
   "source": [
    "# returns a copy of a list in order from smallest to largest,\n",
    "# leaving the list unchanged.\n",
    "sorted(my_list)"
   ]
  },
  {
   "cell_type": "markdown",
   "id": "0e0ec9c2",
   "metadata": {},
   "source": [
    "### join"
   ]
  },
  {
   "cell_type": "code",
   "execution_count": 26,
   "id": "68f4f950",
   "metadata": {},
   "outputs": [
    {
     "name": "stdout",
     "output_type": "stream",
     "text": [
      "Grace-Kelly\n"
     ]
    }
   ],
   "source": [
    "# join() returns a string consisting of the list elements joined by a separator string.\n",
    "# Takes only a list of strings as an argument\n",
    "name = \"-\".join([\"Grace\", \"Kelly\"])\n",
    "print(name) # Grace-Kelly"
   ]
  },
  {
   "cell_type": "markdown",
   "id": "3d0f5e3d",
   "metadata": {},
   "source": [
    "### create a new list  "
   ]
  },
  {
   "cell_type": "code",
   "execution_count": 27,
   "id": "12eb81c3",
   "metadata": {},
   "outputs": [
    {
     "data": {
      "text/plain": [
       "['New York City', 'Mountain View', 'Chicago', 'Los Angeles']"
      ]
     },
     "execution_count": 27,
     "metadata": {},
     "output_type": "execute_result"
    }
   ],
   "source": [
    "cities = ['new york city', 'mountain view', 'chicago', 'los angeles']\n",
    "capitalized_cities = []\n",
    "for city in cities:\n",
    "    capitalized_cities.append(city.title())\n",
    "capitalized_cities    "
   ]
  },
  {
   "cell_type": "markdown",
   "id": "54d6264d",
   "metadata": {},
   "source": [
    "### Adding an element to the end of a list - append()"
   ]
  },
  {
   "cell_type": "code",
   "execution_count": 28,
   "id": "c76a8853",
   "metadata": {},
   "outputs": [
    {
     "name": "stdout",
     "output_type": "stream",
     "text": [
      "['a', 'b', 'c', 'd', 'z']\n"
     ]
    }
   ],
   "source": [
    "letters = ['a', 'b', 'c', 'd']\n",
    "letters.append('z')\n",
    "print(letters) # ['a', 'b', 'c', 'd', 'z']\n",
    "# Note: letters[i] = 'z'; wouldn't work, use append()"
   ]
  },
  {
   "cell_type": "markdown",
   "id": "6e596642",
   "metadata": {},
   "source": [
    "### Modifying a new list"
   ]
  },
  {
   "cell_type": "code",
   "execution_count": 29,
   "id": "4e613ff3",
   "metadata": {},
   "outputs": [
    {
     "data": {
      "text/plain": [
       "['New York City', 'Mountain View', 'Chicago', 'Los Angeles']"
      ]
     },
     "execution_count": 29,
     "metadata": {},
     "output_type": "execute_result"
    }
   ],
   "source": [
    "cities = ['new york city', 'mountain view', 'chicago', 'los angeles']\n",
    "for index in range(len(cities)):\n",
    "    cities[index] = cities[index].title()\n",
    "cities    "
   ]
  },
  {
   "cell_type": "markdown",
   "id": "a91d8a27",
   "metadata": {},
   "source": [
    "### Print a formatted string from parameters in list"
   ]
  },
  {
   "cell_type": "code",
   "execution_count": 30,
   "id": "5ead5580",
   "metadata": {},
   "outputs": [
    {
     "name": "stdout",
     "output_type": "stream",
     "text": [
      "<ul>\n",
      "<li>first string</li>\n",
      "<li>second string</li>\n",
      "</ul>\n"
     ]
    }
   ],
   "source": [
    "items = ['first string', 'second string']\n",
    "html_str = \"<ul>\\n\"\n",
    "for item in items:\n",
    "    html_str += \"<li>{}</li>\\n\".format(item)\n",
    "html_str += \"</ul>\"\n",
    "print(html_str)"
   ]
  },
  {
   "cell_type": "markdown",
   "id": "6634b864",
   "metadata": {},
   "source": [
    "### Convert an iterable (tuple, string, set, dictionary) to a list - list()"
   ]
  },
  {
   "cell_type": "code",
   "execution_count": 31,
   "id": "6e43c7a6",
   "metadata": {},
   "outputs": [
    {
     "name": "stdout",
     "output_type": "stream",
     "text": [
      "['a', 'e', 'i', 'o', 'u']\n"
     ]
    }
   ],
   "source": [
    "# vowel string\n",
    "vowelString = 'aeiou'\n",
    "print(list(vowelString))"
   ]
  },
  {
   "cell_type": "code",
   "execution_count": 32,
   "id": "41548087",
   "metadata": {},
   "outputs": [
    {
     "name": "stdout",
     "output_type": "stream",
     "text": [
      "['a', 'e', 'i', 'o', 'u']\n"
     ]
    }
   ],
   "source": [
    "# vowel tuple\n",
    "vowelTuple = ('a', 'e', 'i', 'o', 'u')\n",
    "print(list(vowelTuple))"
   ]
  },
  {
   "cell_type": "code",
   "execution_count": 33,
   "id": "b0202628",
   "metadata": {},
   "outputs": [
    {
     "name": "stdout",
     "output_type": "stream",
     "text": [
      "['a', 'e', 'i', 'o', 'u']\n"
     ]
    }
   ],
   "source": [
    "# vowel list\n",
    "vowelList = ['a', 'e', 'i', 'o', 'u']\n",
    "print(list(vowelList))\n",
    "\n",
    "# All Print: ['a', 'e', 'i', 'o', 'u']"
   ]
  },
  {
   "cell_type": "markdown",
   "id": "add459be",
   "metadata": {},
   "source": [
    "### Tuples()\n",
    "#### immutable ordered sequences of elements.\n",
    "They are often used to store related pieces of information.The parentheses are optional when defining tuples.\n",
    "Are ordered - can lookup elements by index.\n",
    "Are immutable - can not be changed. You can't add and remove items from tuples, or sort them in place.\n",
    "\n"
   ]
  },
  {
   "cell_type": "code",
   "execution_count": 34,
   "id": "a584bbd4",
   "metadata": {},
   "outputs": [
    {
     "data": {
      "text/plain": [
       "(13.4125, 103.866667)"
      ]
     },
     "execution_count": 34,
     "metadata": {},
     "output_type": "execute_result"
    }
   ],
   "source": [
    "# create tuple\n",
    "location = (13.4125, 103.866667)\n",
    "location"
   ]
  },
  {
   "cell_type": "markdown",
   "id": "5f448460",
   "metadata": {},
   "source": [
    "### access tuple"
   ]
  },
  {
   "cell_type": "code",
   "execution_count": 35,
   "id": "3a088947",
   "metadata": {},
   "outputs": [
    {
     "name": "stdout",
     "output_type": "stream",
     "text": [
      "Latitude: 13.4125\n",
      "Longitude: 103.866667\n"
     ]
    }
   ],
   "source": [
    "print(\"Latitude:\", location[0])\n",
    "print(\"Longitude:\", location[1])"
   ]
  },
  {
   "cell_type": "markdown",
   "id": "ce517d2a",
   "metadata": {},
   "source": [
    "### tuple packing "
   ]
  },
  {
   "cell_type": "code",
   "execution_count": 36,
   "id": "f4466a19",
   "metadata": {},
   "outputs": [
    {
     "data": {
      "text/plain": [
       "(52, 40, 100)"
      ]
     },
     "execution_count": 36,
     "metadata": {},
     "output_type": "execute_result"
    }
   ],
   "source": [
    "# can also be used to assign multiple variables in a compact way\n",
    "dimensions = 52, 40, 100\n",
    "dimensions"
   ]
  },
  {
   "cell_type": "markdown",
   "id": "74d50cc9",
   "metadata": {},
   "source": [
    "### tuple unpacking "
   ]
  },
  {
   "cell_type": "code",
   "execution_count": 37,
   "id": "643aa06c",
   "metadata": {},
   "outputs": [
    {
     "name": "stdout",
     "output_type": "stream",
     "text": [
      "The dimensions are 52 x 40 x 100\n"
     ]
    }
   ],
   "source": [
    "# tuple unpacking\n",
    "length, width, height = dimensions\n",
    "print(\"The dimensions are {} x {} x {}\".format(length, width, height))"
   ]
  },
  {
   "cell_type": "markdown",
   "id": "131bdfd5",
   "metadata": {},
   "source": [
    "### Sets{}\n",
    "#### mutable, unordered collections of unique elements.\n",
    "Are unordered - can not lookup elements by index.\n",
    "Are mutable - can be changed.\n",
    "Sets support the in operator the same as lists do.\n",
    "One application of a set is to quickly remove duplicates from a list.\n",
    "You cannot have the same item twice and you cannot sort sets. For these two properties a list would be more appropriate.\n",
    "You can add elements to sets using the add() method, and remove elements using the pop() method, similar to lists. Although, when you pop an element from a set, a random element is removed. Remember that sets, unlike lists, are unordered so there is no \"last element\".\n",
    "Other operations you can perform with sets include those of mathematical sets. Methods like union, intersection, and difference are easy to perform with sets, and are much faster than such operators with other containers."
   ]
  },
  {
   "cell_type": "markdown",
   "id": "19ef37e2",
   "metadata": {},
   "source": [
    "### create sets"
   ]
  },
  {
   "cell_type": "code",
   "execution_count": 38,
   "id": "e2327d19",
   "metadata": {},
   "outputs": [
    {
     "name": "stdout",
     "output_type": "stream",
     "text": [
      "{1, 2, 3, 6}\n"
     ]
    }
   ],
   "source": [
    "numbers = [1, 2, 6, 3, 1, 1, 6]\n",
    "unique_nums = set(numbers)\n",
    "print(unique_nums) # {1, 2, 3, 6}"
   ]
  },
  {
   "cell_type": "markdown",
   "id": "75595596",
   "metadata": {},
   "source": [
    "### check for element"
   ]
  },
  {
   "cell_type": "code",
   "execution_count": 39,
   "id": "a1af90db",
   "metadata": {},
   "outputs": [
    {
     "name": "stdout",
     "output_type": "stream",
     "text": [
      "False\n"
     ]
    }
   ],
   "source": [
    "fruit = {\"apple\", \"banana\", \"orange\", \"grapefruit\"}\n",
    "print(\"watermelon\" in fruit)"
   ]
  },
  {
   "cell_type": "markdown",
   "id": "4f1e98f1",
   "metadata": {},
   "source": [
    "### add an element"
   ]
  },
  {
   "cell_type": "code",
   "execution_count": 40,
   "id": "ca86ac2d",
   "metadata": {},
   "outputs": [
    {
     "name": "stdout",
     "output_type": "stream",
     "text": [
      "{'orange', 'banana', 'grapefruit', 'watermelon', 'apple'}\n"
     ]
    }
   ],
   "source": [
    "fruit.add(\"watermelon\")\n",
    "print(fruit)"
   ]
  },
  {
   "cell_type": "markdown",
   "id": "be49a7bd",
   "metadata": {},
   "source": [
    "### remove a random element"
   ]
  },
  {
   "cell_type": "code",
   "execution_count": 41,
   "id": "8f4a4883",
   "metadata": {},
   "outputs": [
    {
     "name": "stdout",
     "output_type": "stream",
     "text": [
      "orange\n",
      "{'banana', 'grapefruit', 'watermelon', 'apple'}\n"
     ]
    }
   ],
   "source": [
    "print(fruit.pop())\n",
    "print(fruit)"
   ]
  },
  {
   "cell_type": "markdown",
   "id": "957358c9",
   "metadata": {},
   "source": [
    "### Dicts{}\n",
    "#### mutable data type that stores mappings of unique keys to values.\n",
    "Are ordered - can lookup elements by key.\n",
    "Are mutable - can be changed.\n",
    "Dictionaries can have keys of any immutable type, like integers or tuples, not just strings. It's not even necessary for every key to have the same type!\n",
    "We can look up values or insert new values in the dictionary using square brackets that enclose the key."
   ]
  },
  {
   "cell_type": "markdown",
   "id": "08ce1ce8",
   "metadata": {},
   "source": [
    "### create dict"
   ]
  },
  {
   "cell_type": "code",
   "execution_count": 42,
   "id": "916de259",
   "metadata": {},
   "outputs": [
    {
     "data": {
      "text/plain": [
       "{'hydrogen': 1, 'helium': 2, 'carbon': 6}"
      ]
     },
     "execution_count": 42,
     "metadata": {},
     "output_type": "execute_result"
    }
   ],
   "source": [
    "elements = {\"hydrogen\": 1, \"helium\": 2, \"carbon\": 6}\n",
    "elements"
   ]
  },
  {
   "cell_type": "markdown",
   "id": "10d4a84f",
   "metadata": {},
   "source": [
    "### accessing an element's value"
   ]
  },
  {
   "cell_type": "code",
   "execution_count": 43,
   "id": "b1f4f0ef",
   "metadata": {},
   "outputs": [
    {
     "name": "stdout",
     "output_type": "stream",
     "text": [
      "2\n"
     ]
    }
   ],
   "source": [
    "print(elements[\"helium\"])"
   ]
  },
  {
   "cell_type": "markdown",
   "id": "5b85f071",
   "metadata": {},
   "source": [
    "### adding element"
   ]
  },
  {
   "cell_type": "code",
   "execution_count": 44,
   "id": "51ea5070",
   "metadata": {},
   "outputs": [
    {
     "data": {
      "text/plain": [
       "{'hydrogen': 1, 'helium': 2, 'carbon': 6, 'lithium': 3}"
      ]
     },
     "execution_count": 44,
     "metadata": {},
     "output_type": "execute_result"
    }
   ],
   "source": [
    "elements[\"lithium\"] = 3 \n",
    "elements"
   ]
  },
  {
   "cell_type": "markdown",
   "id": "d2d9d1c1",
   "metadata": {},
   "source": [
    "### Iterating through a dictionary"
   ]
  },
  {
   "cell_type": "code",
   "execution_count": 45,
   "id": "b0b2a3ff",
   "metadata": {},
   "outputs": [
    {
     "name": "stdout",
     "output_type": "stream",
     "text": [
      "hydrogen\n",
      "helium\n",
      "carbon\n",
      "lithium\n",
      "Actor: hydrogen    Role: 1\n",
      "Actor: helium    Role: 2\n",
      "Actor: carbon    Role: 6\n",
      "Actor: lithium    Role: 3\n"
     ]
    }
   ],
   "source": [
    "# Just keys\n",
    "for key in elements:\n",
    "    print(key)\n",
    "# Keys and values\n",
    "for key, value in elements.items():\n",
    "    print(\"Actor: {}    Role: {}\".format(key, value))"
   ]
  },
  {
   "cell_type": "markdown",
   "id": "5f53d102",
   "metadata": {},
   "source": [
    "### check whether a value is in a dictionary"
   ]
  },
  {
   "cell_type": "code",
   "execution_count": 46,
   "id": "43ff3997",
   "metadata": {},
   "outputs": [
    {
     "name": "stdout",
     "output_type": "stream",
     "text": [
      "True\n"
     ]
    }
   ],
   "source": [
    "# check whether a value is in a dictionary, the same way we check whether a value is in a list or set with the in keyword.\n",
    "print(\"carbon\" in elements) # True"
   ]
  },
  {
   "cell_type": "markdown",
   "id": "99632c22",
   "metadata": {},
   "source": [
    "### get() looks up values in a dictionary"
   ]
  },
  {
   "cell_type": "code",
   "execution_count": 47,
   "id": "884f6b8b",
   "metadata": {},
   "outputs": [
    {
     "name": "stdout",
     "output_type": "stream",
     "text": [
      "None\n",
      "There's no such element!\n",
      "3\n"
     ]
    }
   ],
   "source": [
    "# get() looks up values in a dictionary, but unlike square brackets, get returns None (or a default value of your choice) if the key isn't found.\n",
    "# If you expect lookups to sometimes fail, get might be a better tool than normal square bracket lookups.\n",
    "print(elements.get(\"dilithium\")) # None\n",
    "print(elements.get('kryptonite', 'There\\'s no such element!'))\n",
    "# \"There's no such element!\"\n",
    "print(elements.get(\"lithium\"))"
   ]
  },
  {
   "cell_type": "markdown",
   "id": "e41f6792",
   "metadata": {},
   "source": [
    "### identify operators"
   ]
  },
  {
   "cell_type": "code",
   "execution_count": 48,
   "id": "06e45a56",
   "metadata": {},
   "outputs": [
    {
     "name": "stdout",
     "output_type": "stream",
     "text": [
      "True\n",
      "False\n"
     ]
    }
   ],
   "source": [
    "n = elements.get(\"dilithium\")\n",
    "print(n is None) # True\n",
    "print(n is not None) # False"
   ]
  },
  {
   "cell_type": "markdown",
   "id": "b7bb3c7a",
   "metadata": {},
   "source": [
    "### Equality (==) and identity (is)"
   ]
  },
  {
   "cell_type": "code",
   "execution_count": 49,
   "id": "ff838314",
   "metadata": {},
   "outputs": [
    {
     "name": "stdout",
     "output_type": "stream",
     "text": [
      "True\n",
      "True\n",
      "True\n",
      "False\n"
     ]
    }
   ],
   "source": [
    "a = [1, 2, 3]\n",
    "b = a\n",
    "c = [1, 2, 3]\n",
    "print(a == b) # True\n",
    "print(a is b) # True\n",
    "print(a == c) # True\n",
    "print(a is c) # False\n",
    "# List a and list b are equal and identical.\n",
    "# List c is equal to a (and b for that matter) since they have the same contents. But a and c (and b for that matter, again) point to two different objects, i.e., they aren't identical objects.\n",
    "# That is the difference between checking for equality vs. identity."
   ]
  },
  {
   "cell_type": "markdown",
   "id": "2b5d83cc",
   "metadata": {},
   "source": [
    "### Compound Data Structures"
   ]
  },
  {
   "cell_type": "code",
   "execution_count": 50,
   "id": "5ab2f9e2",
   "metadata": {},
   "outputs": [
    {
     "name": "stdout",
     "output_type": "stream",
     "text": [
      "elements =  {'hydrogen': {'number': 1, 'weight': 1.00794, 'symbol': 'H'}, 'helium': {'number': 2, 'weight': 4.002602, 'symbol': 'He'}, 'oxygen': {'number': 8, 'weight': 15.999, 'symbol': 'O'}}\n"
     ]
    }
   ],
   "source": [
    "elements = {\"hydrogen\": {\"number\": 1,\n",
    "                         \"weight\": 1.00794,\n",
    "                         \"symbol\": \"H\"},\n",
    "              \"helium\": {\"number\": 2,\n",
    "                         \"weight\": 4.002602,\n",
    "                         \"symbol\": \"He\"}}\n",
    "helium = elements[\"helium\"]  # get the helium dictionary\n",
    "hydrogen_weight = elements[\"hydrogen\"][\"weight\"]  # get hydrogen's weight\n",
    "oxygen = {\"number\":8,\"weight\":15.999,\"symbol\":\"O\"}  # create a new oxygen dictionary \n",
    "elements[\"oxygen\"] = oxygen  # assign 'oxygen' as a key to the elements dictionary\n",
    "print('elements = ', elements)"
   ]
  },
  {
   "cell_type": "markdown",
   "id": "22b3df86",
   "metadata": {},
   "source": [
    "### Dict frequency counter"
   ]
  },
  {
   "cell_type": "code",
   "execution_count": 51,
   "id": "f600201a",
   "metadata": {},
   "outputs": [
    {
     "name": "stdout",
     "output_type": "stream",
     "text": [
      "{'great': 2, 'expectations': 1, 'the': 2, 'adventures': 2, 'of': 2, 'sherlock': 1, 'holmes': 1, 'gasby': 1, 'hamlet': 1, 'huckleberry': 1, 'fin': 1}\n"
     ]
    }
   ],
   "source": [
    "words =  ['great', 'expectations','the', 'adventures', 'of', 'sherlock','holmes',\n",
    "          'the','great','gasby','hamlet','adventures','of','huckleberry','fin'];\n",
    "word_counter = {}\n",
    "for word in words:\n",
    "    word_counter[word] = word_counter.get(word,0)+1;\n",
    "print(word_counter);\n"
   ]
  },
  {
   "cell_type": "markdown",
   "id": "6403d13b",
   "metadata": {},
   "source": [
    "## Numpy "
   ]
  },
  {
   "cell_type": "markdown",
   "id": "bbea39bd",
   "metadata": {},
   "source": [
    "#### Read this about how data is arranged in numpy and using reshape: https://stackoverflow.com/questions/22053050/difference-between-numpy-array-shape-r-1-and-r"
   ]
  },
  {
   "cell_type": "code",
   "execution_count": 52,
   "id": "3cd643ba",
   "metadata": {},
   "outputs": [],
   "source": [
    "import numpy as np"
   ]
  },
  {
   "cell_type": "markdown",
   "id": "deac6127",
   "metadata": {},
   "source": [
    "### create ndarray"
   ]
  },
  {
   "cell_type": "code",
   "execution_count": 53,
   "id": "570c56bd",
   "metadata": {},
   "outputs": [
    {
     "name": "stdout",
     "output_type": "stream",
     "text": [
      "x =  [1 2 3 4 5]\n",
      "x has dimensions: (5,)\n",
      "The elements in x are of type: int32\n"
     ]
    }
   ],
   "source": [
    "# Create a 1D ndarray that contains only integers\n",
    "x = np.array([1, 2, 3, 4, 5])\n",
    "print('x = ', x) # x = [1 2 3 4 5]\n",
    "print('x has dimensions:', x.shape) # x has dimensions: (5,)\n",
    "print('The elements in x are of type:', x.dtype) # The elements in x are of type: int64"
   ]
  },
  {
   "cell_type": "code",
   "execution_count": 54,
   "id": "cefce16f",
   "metadata": {},
   "outputs": [
    {
     "name": "stdout",
     "output_type": "stream",
     "text": [
      "Y has dimensions: (4, 3)\n",
      "Y has a total of 12 elements\n",
      "Y is an object of type: <class 'numpy.ndarray'>\n",
      "The elements in Y are of type: int32\n"
     ]
    }
   ],
   "source": [
    "# Create a rank 2 ndarray that only contains integers\n",
    "Y = np.array([[1,2,3],[4,5,6],[7,8,9], [10,11,12]])\n",
    "print('Y has dimensions:', Y.shape) # Y has dimensions: (4, 3)\n",
    "print('Y has a total of', Y.size, 'elements') # Y has a total of 12 elements\n",
    "print('Y is an object of type:', type(Y)) # Y is an object of type: class 'numpy.ndarray'\n",
    "print('The elements in Y are of type:', Y.dtype) # The elements in Y are of type: int64"
   ]
  },
  {
   "cell_type": "markdown",
   "id": "39136b8f",
   "metadata": {},
   "source": [
    "### Create ndarray with dtype"
   ]
  },
  {
   "cell_type": "code",
   "execution_count": 55,
   "id": "082a5eda",
   "metadata": {},
   "outputs": [
    {
     "data": {
      "text/plain": [
       "array([1, 2, 3, 4, 5], dtype=int64)"
      ]
     },
     "execution_count": 55,
     "metadata": {},
     "output_type": "execute_result"
    }
   ],
   "source": [
    "# Specify the dtype when creating the ndarray\n",
    "x = np.array([1.5, 2.2, 3.7, 4.0, 5.9], dtype = np.int64)\n",
    "x"
   ]
  },
  {
   "cell_type": "markdown",
   "id": "2e044e7b",
   "metadata": {},
   "source": [
    "### save and load"
   ]
  },
  {
   "cell_type": "code",
   "execution_count": 56,
   "id": "5ee76876",
   "metadata": {},
   "outputs": [],
   "source": [
    "# Save the array into a file\n",
    "np.save('my_array', x)\n",
    "\n",
    "# Load the saved array from current directory\n",
    "y = np.load('my_array.npy')"
   ]
  },
  {
   "cell_type": "markdown",
   "id": "7877a9e6",
   "metadata": {},
   "source": [
    "### zeros"
   ]
  },
  {
   "cell_type": "code",
   "execution_count": 57,
   "id": "245b4fe1",
   "metadata": {},
   "outputs": [
    {
     "data": {
      "text/plain": [
       "array([[0., 0., 0., 0.],\n",
       "       [0., 0., 0., 0.],\n",
       "       [0., 0., 0., 0.]])"
      ]
     },
     "execution_count": 57,
     "metadata": {},
     "output_type": "execute_result"
    }
   ],
   "source": [
    "# Create ndarray using built-in functions\n",
    "# 3 x 4 ndarray full of zeros\n",
    "# np.zeros(shape)\n",
    "X = np.zeros((3,4))\n",
    "X"
   ]
  },
  {
   "cell_type": "markdown",
   "id": "dbbcea23",
   "metadata": {},
   "source": [
    "### one"
   ]
  },
  {
   "cell_type": "code",
   "execution_count": 58,
   "id": "6614fa12",
   "metadata": {},
   "outputs": [
    {
     "data": {
      "text/plain": [
       "array([[1., 1.],\n",
       "       [1., 1.],\n",
       "       [1., 1.]])"
      ]
     },
     "execution_count": 58,
     "metadata": {},
     "output_type": "execute_result"
    }
   ],
   "source": [
    "# a 3 x 2 ndarray full of ones\n",
    "# np.ones(shape)\n",
    "X = np.ones((3,2))\n",
    "X"
   ]
  },
  {
   "cell_type": "markdown",
   "id": "69734ab2",
   "metadata": {},
   "source": [
    "### full"
   ]
  },
  {
   "cell_type": "code",
   "execution_count": 59,
   "id": "747ea5cf",
   "metadata": {},
   "outputs": [
    {
     "data": {
      "text/plain": [
       "array([[5, 5, 5],\n",
       "       [5, 5, 5]])"
      ]
     },
     "execution_count": 59,
     "metadata": {},
     "output_type": "execute_result"
    }
   ],
   "source": [
    "# 2 x 3 ndarray full of fives\n",
    "# np.full(shape, constant value)\n",
    "X = np.full((2,3), 5)\n",
    "X"
   ]
  },
  {
   "cell_type": "markdown",
   "id": "7a809458",
   "metadata": {},
   "source": [
    "### Identity Matrix"
   ]
  },
  {
   "cell_type": "code",
   "execution_count": 60,
   "id": "516d42c6",
   "metadata": {},
   "outputs": [
    {
     "data": {
      "text/plain": [
       "array([[1., 0., 0., 0., 0.],\n",
       "       [0., 1., 0., 0., 0.],\n",
       "       [0., 0., 1., 0., 0.],\n",
       "       [0., 0., 0., 1., 0.],\n",
       "       [0., 0., 0., 0., 1.]])"
      ]
     },
     "execution_count": 60,
     "metadata": {},
     "output_type": "execute_result"
    }
   ],
   "source": [
    "# Since all Identity Matrices are square, the np.eye() function only takes a single integer as an argument\n",
    "# 5 x 5 Identity matrix\n",
    "X = np.eye(5)\n",
    "X"
   ]
  },
  {
   "cell_type": "markdown",
   "id": "3560c0f6",
   "metadata": {},
   "source": [
    "### Diagonal Matrix"
   ]
  },
  {
   "cell_type": "code",
   "execution_count": 61,
   "id": "ac314209",
   "metadata": {},
   "outputs": [
    {
     "data": {
      "text/plain": [
       "array([[10,  0,  0,  0],\n",
       "       [ 0, 20,  0,  0],\n",
       "       [ 0,  0, 30,  0],\n",
       "       [ 0,  0,  0, 50]])"
      ]
     },
     "execution_count": 61,
     "metadata": {},
     "output_type": "execute_result"
    }
   ],
   "source": [
    "# 4 x 4 diagonal matrix that contains the numbers 10,20,30, and 50 on its main diagonal\n",
    "X = np.diag([10,20,30,50])\n",
    "X"
   ]
  },
  {
   "cell_type": "markdown",
   "id": "c6eb235b",
   "metadata": {},
   "source": [
    "### Arange"
   ]
  },
  {
   "cell_type": "code",
   "execution_count": 62,
   "id": "db938e90",
   "metadata": {},
   "outputs": [
    {
     "data": {
      "text/plain": [
       "array([0, 1, 2, 3, 4, 5, 6, 7, 8, 9])"
      ]
     },
     "execution_count": 62,
     "metadata": {},
     "output_type": "execute_result"
    }
   ],
   "source": [
    "# rank 1 ndarray that has sequential integers from 0 to 9\n",
    "# x = [0 1 2 3 4 5 6 7 8 9]\n",
    "x = np.arange(10)\n",
    "x"
   ]
  },
  {
   "cell_type": "code",
   "execution_count": 63,
   "id": "e44a6c47",
   "metadata": {},
   "outputs": [
    {
     "data": {
      "text/plain": [
       "array([4, 5, 6, 7, 8, 9])"
      ]
     },
     "execution_count": 63,
     "metadata": {},
     "output_type": "execute_result"
    }
   ],
   "source": [
    "# rank 1 ndarray that has sequential integers from 4 to 9\n",
    "# [start, stop)\n",
    "# x = [4 5 6 7 8 9]\n",
    "x = np.arange(4,10)\n",
    "x"
   ]
  },
  {
   "cell_type": "code",
   "execution_count": 64,
   "id": "6f1933f9",
   "metadata": {},
   "outputs": [
    {
     "data": {
      "text/plain": [
       "array([ 1,  4,  7, 10, 13])"
      ]
     },
     "execution_count": 64,
     "metadata": {},
     "output_type": "execute_result"
    }
   ],
   "source": [
    "# rank 1 ndarray that has evenly spaced integers from 1 to 13 in steps of 3.\n",
    "# np.arange(start,stop,step)\n",
    "# x = [ 1 4 7 10 13]\n",
    "x = np.arange(1,14,3)\n",
    "x"
   ]
  },
  {
   "cell_type": "markdown",
   "id": "9850904e",
   "metadata": {},
   "source": [
    "### Linspace"
   ]
  },
  {
   "cell_type": "code",
   "execution_count": 65,
   "id": "2cdbbbfb",
   "metadata": {},
   "outputs": [
    {
     "data": {
      "text/plain": [
       "array([ 0.        ,  2.77777778,  5.55555556,  8.33333333, 11.11111111,\n",
       "       13.88888889, 16.66666667, 19.44444444, 22.22222222, 25.        ])"
      ]
     },
     "execution_count": 65,
     "metadata": {},
     "output_type": "execute_result"
    }
   ],
   "source": [
    "# Even though the np.arange() function allows for non-integer steps,\n",
    "# such as 0.3, the output is usually inconsistent, due to the finite\n",
    "# floating point precision. For this reason, in the cases where\n",
    "# non-integer steps are required, it is usually better to use linspace()\n",
    "# becayse np.linspace() uses the number of elements we want in a\n",
    "# particular interval, instead of the step between values.\n",
    "# linspace returns N evenly spaced numbers over the closed interval [start, stop]\n",
    "# np.linspace(start, stop, N)\n",
    "# x = [ 0. 2.77777778 5.55555556 8.33333333 11.11111111 13.88888889 16.66666667 19.44444444 22.22222222 25. ]\n",
    "x = np.linspace(0,25,10)\n",
    "x"
   ]
  },
  {
   "cell_type": "markdown",
   "id": "a3d73778",
   "metadata": {},
   "source": [
    "### Reshape"
   ]
  },
  {
   "cell_type": "code",
   "execution_count": 66,
   "id": "673c0c14",
   "metadata": {},
   "outputs": [
    {
     "data": {
      "text/plain": [
       "array([[ 0,  1,  2,  3,  4],\n",
       "       [ 5,  6,  7,  8,  9],\n",
       "       [10, 11, 12, 13, 14],\n",
       "       [15, 16, 17, 18, 19]])"
      ]
     },
     "execution_count": 66,
     "metadata": {},
     "output_type": "execute_result"
    }
   ],
   "source": [
    "# np.reshape(ndarray, new_shape)\n",
    "# converts the given ndarray into the specified new_shape\n",
    "x = np.arange(20)\n",
    "x = np.reshape(x, (4,5))\n",
    "# or\n",
    "x = np.arange(20).reshape(4, 5) # does the same thing as above\n",
    "x"
   ]
  },
  {
   "cell_type": "code",
   "execution_count": 67,
   "id": "49f60863",
   "metadata": {},
   "outputs": [
    {
     "data": {
      "text/plain": [
       "array([[ 0.,  5.],\n",
       "       [10., 15.],\n",
       "       [20., 25.],\n",
       "       [30., 35.],\n",
       "       [40., 45.]])"
      ]
     },
     "execution_count": 67,
     "metadata": {},
     "output_type": "execute_result"
    }
   ],
   "source": [
    "# and the same thing with with linshape\n",
    "y = np.linspace(0,50,10, endpoint=False).reshape(5,2)\n",
    "y\n",
    "# One great feature about NumPy, is that some functions can also be\n",
    "# applied as methods. This allows us to apply different functions in\n",
    "# sequence in just one line of code"
   ]
  },
  {
   "cell_type": "markdown",
   "id": "e32ee146",
   "metadata": {},
   "source": [
    "### slicing"
   ]
  },
  {
   "cell_type": "code",
   "execution_count": 68,
   "id": "4d7f4826",
   "metadata": {},
   "outputs": [
    {
     "data": {
      "text/plain": [
       "array([[ 7,  8,  9],\n",
       "       [12, 13, 14],\n",
       "       [17, 18, 19]])"
      ]
     },
     "execution_count": 68,
     "metadata": {},
     "output_type": "execute_result"
    }
   ],
   "source": [
    "# Slicing\n",
    "# ndarray[start:end]\n",
    "# ndarray[start:]\n",
    "# ndarray[:end]\n",
    "# ndarray[<start>:<stop>:<step>]\n",
    "\n",
    "# In methods one and three, the end index is excluded [,)\n",
    "X = np.arange(20).reshape(4, 5)\n",
    "\n",
    "# select all the elements that are in the 2nd through 4th rows and in the 3rd to 5th columns\n",
    "Z = X[1:4,2:5]\n",
    "# or\n",
    "Z = X[1:,2:5]\n",
    "Z\n"
   ]
  },
  {
   "cell_type": "code",
   "execution_count": 69,
   "id": "ab0c0ef8",
   "metadata": {},
   "outputs": [
    {
     "data": {
      "text/plain": [
       "array([10, 11, 12, 13, 14])"
      ]
     },
     "execution_count": 69,
     "metadata": {},
     "output_type": "execute_result"
    }
   ],
   "source": [
    "# elements = a_list[<start>:<stop>:<step>]\n",
    "# select all the elements in the 3rd row\n",
    "v = X[2,:] # v = [10 11 12 13 14]\n",
    "v"
   ]
  },
  {
   "cell_type": "code",
   "execution_count": 70,
   "id": "888f1a49",
   "metadata": {},
   "outputs": [
    {
     "data": {
      "text/plain": [
       "array([ 2,  7, 12, 17])"
      ]
     },
     "execution_count": 70,
     "metadata": {},
     "output_type": "execute_result"
    }
   ],
   "source": [
    "# select all the elements in the 3rd column\n",
    "q = X[:,2] # q = [ 2 7 12 17]\n",
    "q"
   ]
  },
  {
   "cell_type": "code",
   "execution_count": 71,
   "id": "a963a63f",
   "metadata": {},
   "outputs": [
    {
     "data": {
      "text/plain": [
       "array([[ 2],\n",
       "       [ 7],\n",
       "       [12],\n",
       "       [17]])"
      ]
     },
     "execution_count": 71,
     "metadata": {},
     "output_type": "execute_result"
    }
   ],
   "source": [
    "# select all the elements in the 3rd column but return a rank 2 ndarray\n",
    "R = X[:,2:3]\n",
    "R\n",
    "# Note: Slicing creates a view, not a copy\n",
    "# when we make assignments, such as: Z = X[1:4,2:5]\n",
    "# the slice of the original array X is not copied in the variable Z.\n",
    "# Rather, X and Z are now just two different names for the same ndarray.\n",
    "# We say that slicing only creates a view of the original array.\n",
    "# This means if we make changes to Z, X changes as well."
   ]
  },
  {
   "cell_type": "markdown",
   "id": "afea414e",
   "metadata": {},
   "source": [
    "### Random"
   ]
  },
  {
   "cell_type": "code",
   "execution_count": 72,
   "id": "615c83a0",
   "metadata": {},
   "outputs": [
    {
     "data": {
      "text/plain": [
       "array([[0.41959359, 0.5747786 , 0.50697429],\n",
       "       [0.13197772, 0.5764121 , 0.57687711],\n",
       "       [0.09314015, 0.49619395, 0.70315142]])"
      ]
     },
     "execution_count": 72,
     "metadata": {},
     "output_type": "execute_result"
    }
   ],
   "source": [
    "# 3 x 3 ndarray with random floats in the half-open interval [0.0, 1.0).\n",
    "# np.random.random(shape)\n",
    "X = np.random.random((3,3))\n",
    "X"
   ]
  },
  {
   "cell_type": "code",
   "execution_count": 73,
   "id": "39cb51d5",
   "metadata": {},
   "outputs": [
    {
     "data": {
      "text/plain": [
       "array([[12, 12],\n",
       "       [ 7, 10],\n",
       "       [12, 10]])"
      ]
     },
     "execution_count": 73,
     "metadata": {},
     "output_type": "execute_result"
    }
   ],
   "source": [
    "# np.random.randint(start, stop, size = shape)\n",
    "# [start, stop)\n",
    "X = np.random.randint(4,15,size=(3,2))\n",
    "X"
   ]
  },
  {
   "cell_type": "code",
   "execution_count": 74,
   "id": "cb2e29cd",
   "metadata": {},
   "outputs": [
    {
     "data": {
      "text/plain": [
       "array([[ 0.071197  ,  0.00145669,  0.0262274 , ...,  0.0352518 ,\n",
       "         0.03909626, -0.01916458],\n",
       "       [-0.03446428, -0.05605525, -0.02618107, ..., -0.01781144,\n",
       "        -0.05428216, -0.02407524],\n",
       "       [-0.04067887, -0.03920505, -0.02578331, ..., -0.06239104,\n",
       "         0.04334007, -0.18805276],\n",
       "       ...,\n",
       "       [-0.00615385, -0.15966549, -0.05894788, ...,  0.1404494 ,\n",
       "         0.04952529,  0.08734955],\n",
       "       [ 0.04299342, -0.04153139,  0.07385462, ...,  0.11618683,\n",
       "        -0.04601097, -0.08376719],\n",
       "       [-0.04188597, -0.031305  , -0.02805612, ...,  0.02160913,\n",
       "        -0.12863018, -0.24425961]])"
      ]
     },
     "execution_count": 74,
     "metadata": {},
     "output_type": "execute_result"
    }
   ],
   "source": [
    "# create ndarrays with random numbers that satisfy certain statistical properties\n",
    "# 1000 x 1000 ndarray of random floats drawn from normal (Gaussian)\n",
    "# distribution with a mean of zero and a standard deviation of 0.1.\n",
    "# np.random.normal(mean, standard deviation, size=shape)\n",
    "X = np.random.normal(0, 0.1, size=(1000,1000))\n",
    "X"
   ]
  },
  {
   "cell_type": "markdown",
   "id": "df16907e",
   "metadata": {},
   "source": [
    "### Mutability"
   ]
  },
  {
   "cell_type": "code",
   "execution_count": 75,
   "id": "7934e534",
   "metadata": {},
   "outputs": [
    {
     "data": {
      "text/plain": [
       "array([[ 0,  1,  2,  3,  4],\n",
       "       [ 5,  6,  7,  8,  9],\n",
       "       [10, 11, 12, 13, 14],\n",
       "       [20, 20, 20, 20, 20]])"
      ]
     },
     "execution_count": 75,
     "metadata": {},
     "output_type": "execute_result"
    }
   ],
   "source": [
    "#Change ndarray\n",
    "x[3] = 20\n",
    "x"
   ]
  },
  {
   "cell_type": "code",
   "execution_count": 76,
   "id": "8b22ca1c",
   "metadata": {},
   "outputs": [
    {
     "data": {
      "text/plain": [
       "array([[ 2.00000000e+01,  1.45668801e-03,  2.62273961e-02, ...,\n",
       "         3.52517978e-02,  3.90962568e-02, -1.91645822e-02],\n",
       "       [-3.44642781e-02, -5.60552536e-02, -2.61810689e-02, ...,\n",
       "        -1.78114430e-02, -5.42821649e-02, -2.40752373e-02],\n",
       "       [-4.06788663e-02, -3.92050509e-02, -2.57833095e-02, ...,\n",
       "        -6.23910434e-02,  4.33400665e-02, -1.88052763e-01],\n",
       "       ...,\n",
       "       [-6.15384651e-03, -1.59665486e-01, -5.89478802e-02, ...,\n",
       "         1.40449396e-01,  4.95252893e-02,  8.73495544e-02],\n",
       "       [ 4.29934177e-02, -4.15313898e-02,  7.38546179e-02, ...,\n",
       "         1.16186830e-01, -4.60109694e-02, -8.37671901e-02],\n",
       "       [-4.18859717e-02, -3.13049966e-02, -2.80561240e-02, ...,\n",
       "         2.16091291e-02, -1.28630182e-01, -2.44259607e-01]])"
      ]
     },
     "execution_count": 76,
     "metadata": {},
     "output_type": "execute_result"
    }
   ],
   "source": [
    "X[0,0] = 20\n",
    "X"
   ]
  },
  {
   "cell_type": "markdown",
   "id": "50a276c3",
   "metadata": {},
   "source": [
    "### Delete"
   ]
  },
  {
   "cell_type": "code",
   "execution_count": 77,
   "id": "95887639",
   "metadata": {},
   "outputs": [
    {
     "data": {
      "text/plain": [
       "array([2, 3, 4])"
      ]
     },
     "execution_count": 77,
     "metadata": {},
     "output_type": "execute_result"
    }
   ],
   "source": [
    "# np.delete(ndarray, elements, axis)\n",
    "x = np.array([1, 2, 3, 4, 5])\n",
    "# delete the first and fifth element of x\n",
    "x = np.delete(x, [0,4])\n",
    "x"
   ]
  },
  {
   "cell_type": "code",
   "execution_count": 78,
   "id": "19aa9c07",
   "metadata": {},
   "outputs": [
    {
     "data": {
      "text/plain": [
       "array([[4, 5, 6],\n",
       "       [7, 8, 9]])"
      ]
     },
     "execution_count": 78,
     "metadata": {},
     "output_type": "execute_result"
    }
   ],
   "source": [
    "Y = np.array([[1,2,3],[4,5,6],[7,8,9]])\n",
    "# delete the first row of Y\n",
    "w = np.delete(Y, 0, axis=0)\n",
    "w"
   ]
  },
  {
   "cell_type": "code",
   "execution_count": 79,
   "id": "dc40907d",
   "metadata": {},
   "outputs": [
    {
     "data": {
      "text/plain": [
       "array([[2],\n",
       "       [5],\n",
       "       [8]])"
      ]
     },
     "execution_count": 79,
     "metadata": {},
     "output_type": "execute_result"
    }
   ],
   "source": [
    "# delete the first and last column of Y\n",
    "v = np.delete(Y, [0,2], axis=1)\n",
    "v"
   ]
  },
  {
   "cell_type": "markdown",
   "id": "e8a7186b",
   "metadata": {},
   "source": [
    "### Append"
   ]
  },
  {
   "cell_type": "code",
   "execution_count": 80,
   "id": "a35d0c30",
   "metadata": {},
   "outputs": [
    {
     "data": {
      "text/plain": [
       "array([2, 3, 4, 6])"
      ]
     },
     "execution_count": 80,
     "metadata": {},
     "output_type": "execute_result"
    }
   ],
   "source": [
    "# np.append(ndarray, elements, axis)\n",
    "# append the integer 6 to x\n",
    "x = np.append(x, 6)\n",
    "x"
   ]
  },
  {
   "cell_type": "code",
   "execution_count": 81,
   "id": "d966f5cb",
   "metadata": {},
   "outputs": [
    {
     "data": {
      "text/plain": [
       "array([2, 3, 4, 6, 7, 8])"
      ]
     },
     "execution_count": 81,
     "metadata": {},
     "output_type": "execute_result"
    }
   ],
   "source": [
    "# append the integer 7 and 8 to x\n",
    "x = np.append(x, [7,8])\n",
    "x"
   ]
  },
  {
   "cell_type": "code",
   "execution_count": 82,
   "id": "aa2e8283",
   "metadata": {},
   "outputs": [
    {
     "data": {
      "text/plain": [
       "array([[ 1,  2,  3],\n",
       "       [ 4,  5,  6],\n",
       "       [ 7,  8,  9],\n",
       "       [10, 11, 12]])"
      ]
     },
     "execution_count": 82,
     "metadata": {},
     "output_type": "execute_result"
    }
   ],
   "source": [
    "# append a new row containing 7,8,9 to y\n",
    "v = np.append(Y, [[10,11,12]], axis=0)\n",
    "v"
   ]
  },
  {
   "cell_type": "code",
   "execution_count": 83,
   "id": "57a1bc72",
   "metadata": {},
   "outputs": [
    {
     "data": {
      "text/plain": [
       "array([[ 1,  2,  3, 13],\n",
       "       [ 4,  5,  6, 14],\n",
       "       [ 7,  8,  9, 15]])"
      ]
     },
     "execution_count": 83,
     "metadata": {},
     "output_type": "execute_result"
    }
   ],
   "source": [
    "# append a new column containing 9 and 10 to y\n",
    "q = np.append(Y,[[13],[14],[15]], axis=1)\n",
    "q"
   ]
  },
  {
   "cell_type": "markdown",
   "id": "5e542754",
   "metadata": {},
   "source": [
    "### Insert"
   ]
  },
  {
   "cell_type": "code",
   "execution_count": 84,
   "id": "a38889f3",
   "metadata": {},
   "outputs": [
    {
     "data": {
      "text/plain": [
       "array([1, 2, 3, 4, 5, 6, 7])"
      ]
     },
     "execution_count": 84,
     "metadata": {},
     "output_type": "execute_result"
    }
   ],
   "source": [
    "# np.insert(ndarray, index, elements, axis)\n",
    "# inserts the given list of elements to ndarray right before\n",
    "# the given index along the specified axis\n",
    "x = np.array([1, 2, 5, 6, 7])\n",
    "Y = np.array([[1,2,3],[7,8,9]])\n",
    "# insert the integer 3 and 4 between 2 and 5 in x. \n",
    "x = np.insert(x,2,[3,4])\n",
    "x"
   ]
  },
  {
   "cell_type": "code",
   "execution_count": 85,
   "id": "d826b05d",
   "metadata": {},
   "outputs": [
    {
     "data": {
      "text/plain": [
       "array([[1, 2, 3],\n",
       "       [4, 5, 6],\n",
       "       [7, 8, 9]])"
      ]
     },
     "execution_count": 85,
     "metadata": {},
     "output_type": "execute_result"
    }
   ],
   "source": [
    "# insert a row between the first and last row of Y\n",
    "w = np.insert(Y,1,[4,5,6],axis=0)\n",
    "w"
   ]
  },
  {
   "cell_type": "code",
   "execution_count": 86,
   "id": "01b3b0ee",
   "metadata": {},
   "outputs": [
    {
     "data": {
      "text/plain": [
       "array([[1, 5, 2, 3],\n",
       "       [7, 5, 8, 9]])"
      ]
     },
     "execution_count": 86,
     "metadata": {},
     "output_type": "execute_result"
    }
   ],
   "source": [
    "# insert a column full of 5s between the first and second column of Y\n",
    "v = np.insert(Y,1,5, axis=1)\n",
    "v"
   ]
  },
  {
   "cell_type": "markdown",
   "id": "ffb6a23c",
   "metadata": {},
   "source": [
    "### Stacking"
   ]
  },
  {
   "cell_type": "code",
   "execution_count": 87,
   "id": "e686f65d",
   "metadata": {},
   "outputs": [
    {
     "data": {
      "text/plain": [
       "array([[1, 2],\n",
       "       [3, 4],\n",
       "       [5, 6]])"
      ]
     },
     "execution_count": 87,
     "metadata": {},
     "output_type": "execute_result"
    }
   ],
   "source": [
    "# NumPy also allows us to stack ndarrays on top of each other,\n",
    "# or to stack them side by side. The stacking is done using either\n",
    "# the np.vstack() function for vertical stacking, or the np.hstack()\n",
    "# function for horizontal stacking. It is important to note that in\n",
    "# order to stack ndarrays, the shape of the ndarrays must match.\n",
    "x = np.array([1,2])\n",
    "Y = np.array([[3,4],[5,6]])\n",
    "z = np.vstack((x,Y)) # [[1,2], [3,4], [5,6]]\n",
    "z"
   ]
  },
  {
   "cell_type": "code",
   "execution_count": 88,
   "id": "72d5abeb",
   "metadata": {},
   "outputs": [
    {
     "data": {
      "text/plain": [
       "array([[3, 4, 1],\n",
       "       [5, 6, 2]])"
      ]
     },
     "execution_count": 88,
     "metadata": {},
     "output_type": "execute_result"
    }
   ],
   "source": [
    "w = np.hstack((Y,x.reshape(2,1))) # [[3,4,1], [5,6,2]]\n",
    "w"
   ]
  },
  {
   "cell_type": "markdown",
   "id": "9b2c3c34",
   "metadata": {},
   "source": [
    "### Copy"
   ]
  },
  {
   "cell_type": "code",
   "execution_count": 89,
   "id": "536e9fe9",
   "metadata": {},
   "outputs": [
    {
     "data": {
      "text/plain": [
       "array([[-0.02618107, -0.16076046,  0.06577927],\n",
       "       [-0.02578331, -0.10714283,  0.0628496 ],\n",
       "       [-0.04222834, -0.04340953, -0.08993583]])"
      ]
     },
     "execution_count": 89,
     "metadata": {},
     "output_type": "execute_result"
    }
   ],
   "source": [
    "# if we want to create a new ndarray that contains a copy of the\n",
    "# values in the slice we need to use the np.copy()\n",
    "# create a copy of the slice using the np.copy() function\n",
    "Z = np.copy(X[1:4,2:5])\n",
    "Z"
   ]
  },
  {
   "cell_type": "code",
   "execution_count": 90,
   "id": "6496ad95",
   "metadata": {},
   "outputs": [
    {
     "data": {
      "text/plain": [
       "array([[-0.02618107, -0.16076046,  0.06577927],\n",
       "       [-0.02578331, -0.10714283,  0.0628496 ],\n",
       "       [-0.04222834, -0.04340953, -0.08993583]])"
      ]
     },
     "execution_count": 90,
     "metadata": {},
     "output_type": "execute_result"
    }
   ],
   "source": [
    "#  create a copy of the slice using the copy as a method\n",
    "W = X[1:4,2:5].copy()\n",
    "W"
   ]
  },
  {
   "cell_type": "markdown",
   "id": "bb83fb3b",
   "metadata": {},
   "source": [
    "### Extract elements along the diagonal"
   ]
  },
  {
   "cell_type": "code",
   "execution_count": 91,
   "id": "a0245f77",
   "metadata": {},
   "outputs": [
    {
     "data": {
      "text/plain": [
       "array([ 2.00000000e+01, -5.60552536e-02, -2.57833095e-02, -4.34095285e-02,\n",
       "       -6.75709365e-02, -5.77945003e-02,  2.94235605e-02,  4.75797996e-03,\n",
       "       -1.76028337e-01,  1.61084446e-02,  1.13335484e-01,  7.46897875e-03,\n",
       "        2.58644336e-01, -7.09421941e-02,  1.13265852e-01, -9.17303982e-02,\n",
       "        3.17272375e-02, -2.51901178e-01, -3.56199979e-02, -1.64076538e-01,\n",
       "       -4.83252930e-02, -1.38387576e-02, -1.51296042e-01,  1.44707101e-01,\n",
       "       -2.90003970e-03,  8.53431023e-02, -2.19674741e-03,  6.61392805e-03,\n",
       "       -6.35629160e-02, -2.49566286e-02,  5.30040156e-02,  7.81756875e-02,\n",
       "       -1.32200048e-01,  1.11341028e-01, -1.78571107e-02,  3.23108558e-02,\n",
       "       -8.41911078e-03,  2.46656189e-02, -4.95798848e-02, -2.06727333e-01,\n",
       "        9.42865238e-02, -1.77563658e-01,  4.75005395e-02, -5.39610839e-02,\n",
       "       -8.56784469e-02, -9.25919458e-02,  4.05317470e-02,  4.69788420e-03,\n",
       "        8.43799788e-03,  9.01253981e-02, -9.13662665e-02,  9.26621574e-02,\n",
       "       -4.61585897e-02, -2.73844105e-03,  9.76465043e-02, -6.75607570e-03,\n",
       "       -2.20567783e-01,  7.52494213e-02,  1.19886636e-01, -1.19187933e-01,\n",
       "       -1.11381208e-01, -4.12196226e-02,  3.13746527e-03,  8.85675478e-02,\n",
       "        1.19299104e-01, -8.62385181e-02,  4.78251279e-02,  2.30271884e-03,\n",
       "       -1.20697082e-01, -3.58009430e-02, -6.45914886e-02, -1.86400493e-01,\n",
       "        2.57833703e-02,  7.85638796e-03, -4.39776218e-02, -3.24448231e-02,\n",
       "        1.30092122e-01, -2.93543942e-02, -3.58777520e-02, -1.27904671e-01,\n",
       "       -1.58076075e-02,  2.28601902e-02, -1.76221438e-01, -5.57494010e-03,\n",
       "        8.52196546e-02, -3.91272799e-02,  1.25725574e-01, -2.66753337e-01,\n",
       "        7.68938308e-02,  4.64658152e-03, -3.43611938e-02, -1.10315696e-01,\n",
       "       -5.53335309e-02,  8.48084342e-02,  5.59297428e-02, -4.68293543e-02,\n",
       "       -1.01853677e-01,  2.65010806e-02,  9.80170576e-02,  8.18187805e-02,\n",
       "        2.31998244e-02, -2.98963965e-02,  7.27103298e-02, -1.22341918e-01,\n",
       "       -6.92362696e-02,  4.15339713e-02, -1.23119744e-01,  3.42907437e-02,\n",
       "       -1.72411471e-02,  4.46872338e-02,  1.02802693e-02, -2.26560082e-01,\n",
       "        1.48839497e-01,  1.60292446e-01, -2.11417518e-02,  5.67262396e-02,\n",
       "        6.01704087e-02,  3.14559505e-02, -3.35178797e-02,  2.82510710e-01,\n",
       "        1.85522154e-01,  7.59450159e-02, -1.69608683e-01,  2.26577167e-01,\n",
       "        7.18367139e-02,  5.26739592e-02,  1.01323606e-02, -2.48467405e-02,\n",
       "       -1.30855527e-01,  1.48364402e-01,  1.00115956e-01,  5.10702907e-02,\n",
       "        4.70268457e-02, -2.16117236e-02,  1.37825504e-01, -3.86656242e-02,\n",
       "       -1.28590057e-02,  2.36756839e-02, -6.34615777e-02, -1.71730992e-02,\n",
       "        6.75570166e-02,  7.52332557e-03,  1.01426338e-01, -1.94995447e-01,\n",
       "       -6.81598901e-02, -9.06514662e-03, -1.20167771e-03, -6.59253714e-02,\n",
       "        1.61897778e-01,  1.27131452e-01, -8.38115074e-02,  1.07727649e-01,\n",
       "        1.12186216e-01, -2.30417951e-02, -5.09120021e-02, -1.10733689e-01,\n",
       "       -7.36843204e-03, -1.23639181e-01,  6.07430056e-02, -5.63516699e-02,\n",
       "       -4.48960499e-02,  7.52094203e-02, -4.41803326e-03, -8.01355826e-02,\n",
       "       -1.90383842e-01,  2.01988790e-01, -1.00396014e-01,  3.76154615e-02,\n",
       "        1.09838277e-01, -9.52330024e-03, -1.76398382e-01,  5.55370566e-02,\n",
       "       -1.27885429e-01, -8.51381938e-02,  1.40904269e-01,  2.46227315e-02,\n",
       "       -1.79830033e-01,  2.06637329e-02, -2.90923766e-01,  1.32925338e-01,\n",
       "        2.08292212e-01,  4.80266891e-02,  8.74303440e-02,  6.92935460e-02,\n",
       "        1.49101925e-01, -2.69662345e-02, -1.24234963e-01, -1.93823840e-01,\n",
       "       -4.77511011e-02,  9.47535215e-02, -1.15194617e-01, -1.59802447e-01,\n",
       "        2.96264191e-01, -4.31199341e-02, -3.43520077e-02,  7.26847648e-02,\n",
       "        2.31318649e-02, -1.25624466e-01, -8.34185153e-02,  2.00965779e-01,\n",
       "        5.11947991e-02,  4.67460511e-02, -7.32671082e-02, -1.39755615e-02,\n",
       "        2.35364382e-01, -4.52907386e-02, -9.71894071e-02,  9.09044759e-02,\n",
       "        1.08373070e-02, -5.18815933e-02, -1.63108991e-01,  7.60132503e-02,\n",
       "        2.41591472e-01,  6.34556134e-02,  4.14131050e-03,  1.20851399e-01,\n",
       "        1.47899994e-01, -8.45156407e-02, -5.49482109e-02, -1.24152073e-01,\n",
       "       -2.61505912e-01, -1.75997609e-01, -1.63264179e-01,  8.14165317e-02,\n",
       "       -2.02301250e-01,  5.53292545e-02, -2.97057719e-02, -6.15248535e-02,\n",
       "        7.96633282e-02, -8.71529760e-02,  1.07995980e-01, -9.22012579e-02,\n",
       "       -1.55378978e-02,  1.24605101e-02,  3.90315096e-02,  1.28632601e-01,\n",
       "       -3.12728556e-02,  1.37896124e-01, -8.01202981e-02, -7.28356157e-02,\n",
       "        6.44767396e-02, -6.78767635e-02,  7.14108497e-02, -2.21449342e-02,\n",
       "        6.61794843e-02, -3.69575335e-02, -1.16082890e-01, -6.69047074e-02,\n",
       "       -4.91145299e-02,  9.72340201e-03,  5.25086308e-02,  1.70519198e-02,\n",
       "        1.13703747e-01, -2.14041877e-01,  7.04137299e-03, -1.10020828e-01,\n",
       "       -1.34471194e-01, -4.32973715e-03, -1.65270859e-01, -9.64449573e-02,\n",
       "        4.07056183e-02,  5.56764280e-02,  1.37942902e-01,  1.30584842e-01,\n",
       "       -6.98154371e-02, -2.89663596e-02, -1.33186116e-02,  6.14136305e-02,\n",
       "       -8.06958277e-02, -1.03729541e-02,  3.62439611e-02,  7.93843771e-02,\n",
       "       -4.07878831e-02, -1.25727185e-01, -2.57129444e-02, -9.60449411e-02,\n",
       "        5.54745424e-02, -3.76703801e-02, -1.28163293e-01,  6.00856399e-02,\n",
       "       -5.18308275e-02,  2.13719422e-02,  5.70668408e-02, -1.06083296e-01,\n",
       "        2.82682734e-02, -1.01441928e-02,  2.60432494e-01,  6.85064714e-02,\n",
       "       -3.38874887e-02,  1.21761624e-01, -3.38007637e-02, -3.74925402e-02,\n",
       "       -5.18949125e-03, -1.88636246e-01, -2.10544271e-01, -1.96603675e-02,\n",
       "       -6.01596643e-02, -1.51464758e-01, -7.42656947e-03,  5.65845613e-03,\n",
       "        3.67764401e-02,  1.93536751e-01, -2.11001275e-01, -2.71821037e-02,\n",
       "       -1.65708269e-01,  1.14936228e-01, -8.28242584e-02,  2.09558814e-02,\n",
       "        1.81615246e-02,  5.66350936e-02, -4.87111470e-02,  7.52377607e-02,\n",
       "        5.49710725e-02, -5.73130696e-02,  1.12426960e-01, -8.04583061e-02,\n",
       "       -4.40881776e-02, -1.65753956e-01, -5.15748578e-02,  1.21379558e-01,\n",
       "        1.21150218e-01,  2.81509477e-01, -2.17889559e-01,  1.69078453e-02,\n",
       "        7.10979041e-02,  1.51630464e-01, -1.04516079e-01, -1.51797635e-01,\n",
       "        1.46850223e-01,  7.36466605e-03, -2.66816673e-03,  1.98029751e-01,\n",
       "       -6.75459005e-02, -1.19135082e-02, -2.31062293e-02,  1.09085815e-01,\n",
       "       -2.28578176e-01,  7.18099776e-02, -1.01131110e-01, -2.82220801e-02,\n",
       "       -3.96445791e-03, -7.95161421e-02, -1.61278906e-01, -6.82007585e-02,\n",
       "        8.55044480e-02,  5.07525952e-02,  6.45011428e-02, -1.36746186e-01,\n",
       "        1.69246781e-02,  9.16906094e-02, -6.61993616e-02,  1.26928928e-01,\n",
       "       -1.23809811e-01,  1.06259954e-01,  1.68040342e-01, -9.74163298e-03,\n",
       "        1.10488097e-01, -9.22373135e-02,  4.95091965e-02,  4.28439089e-02,\n",
       "        2.73591119e-02, -8.51659209e-02, -5.19381270e-02, -8.06745459e-03,\n",
       "        6.11726760e-02,  5.78260412e-02,  3.08610958e-02, -1.60930959e-01,\n",
       "        3.68421197e-02, -5.73506484e-02,  3.55305767e-01, -1.37578813e-01,\n",
       "        1.36565983e-01, -4.72990418e-02, -2.64083481e-02,  8.76596360e-02,\n",
       "        3.68081697e-02,  1.07601807e-01,  4.19247464e-02,  4.61834377e-02,\n",
       "        8.46254269e-02,  1.59259461e-01,  2.61156878e-02, -4.82568618e-02,\n",
       "       -6.13744780e-02,  1.32833445e-02, -4.52284531e-02, -2.21992587e-02,\n",
       "       -1.09446064e-01, -2.00381173e-01,  3.85892552e-02,  8.63694653e-02,\n",
       "       -7.39686521e-02,  1.04135394e-01,  5.06592868e-02, -5.20997623e-02,\n",
       "       -7.20965065e-02,  5.74967887e-02,  1.50903528e-01, -1.46863810e-01,\n",
       "       -1.29878060e-01,  1.99234088e-01,  1.90009653e-02,  9.62309059e-02,\n",
       "        8.31289187e-02,  1.76373540e-01, -5.25551283e-02,  9.66544106e-02,\n",
       "        1.54427151e-02, -1.61473586e-01, -8.24761826e-02, -1.07572788e-01,\n",
       "       -1.33165376e-01,  1.79410302e-01, -1.03513307e-01, -1.70082570e-01,\n",
       "       -9.11505752e-02, -7.50166863e-02, -4.87056531e-02, -6.98940325e-02,\n",
       "       -4.52638026e-02,  6.95546539e-02, -1.04079375e-01,  2.59526534e-02,\n",
       "       -8.63617807e-02, -1.53892765e-02,  4.95765220e-03,  1.26069132e-01,\n",
       "       -2.61425450e-03, -8.85951676e-02, -3.63232204e-02, -9.39801580e-02,\n",
       "        1.68840837e-01,  2.21256964e-01,  1.10456867e-01, -2.36927439e-01,\n",
       "        5.36549694e-02,  9.24555601e-02, -1.14328185e-03,  1.54064086e-01,\n",
       "       -9.47841459e-02, -3.69277925e-02, -3.43276978e-02,  3.59713048e-02,\n",
       "       -6.24239866e-02, -1.32884601e-02,  9.70188709e-02, -2.67256184e-02,\n",
       "       -5.05312262e-02, -1.39574794e-01,  3.63217008e-02,  2.09893222e-02,\n",
       "        1.50763926e-01, -2.03576609e-01,  7.52595656e-02, -1.45427025e-01,\n",
       "       -2.92707919e-02, -1.07965735e-01,  3.33412964e-02, -1.11316262e-01,\n",
       "        6.79296296e-02,  1.39933128e-01,  5.84610550e-03,  2.12117943e-01,\n",
       "        4.82504931e-02, -1.32768621e-01, -5.42223796e-02,  1.27803476e-01,\n",
       "       -1.26597154e-01, -2.47078220e-01,  4.11977906e-02,  4.31501685e-02,\n",
       "        2.22855968e-02, -1.48056261e-01,  6.17226834e-02,  1.28894069e-01,\n",
       "       -5.87152024e-02,  1.13236227e-01,  7.52048672e-02,  1.66486399e-01,\n",
       "        1.95878437e-01,  1.67959202e-01,  7.42485087e-02,  1.30467763e-01,\n",
       "       -1.59049738e-01, -9.87516963e-03, -1.69111456e-03,  3.70125860e-02,\n",
       "       -1.32673340e-01,  6.48945613e-02, -6.34438507e-02,  1.24882555e-01,\n",
       "       -7.61956592e-02,  1.21871752e-01, -6.21282689e-03,  1.75655295e-02,\n",
       "        1.21149455e-02,  9.32270854e-02, -6.78565353e-02,  4.31874554e-02,\n",
       "       -1.54570891e-01,  1.08879267e-01, -1.30953079e-02,  1.24955503e-02,\n",
       "       -9.17781369e-02,  4.21600229e-02,  1.03281730e-01,  1.89320277e-01,\n",
       "        4.21006830e-02, -1.36427409e-01,  1.69573044e-01, -8.59180639e-03,\n",
       "       -5.47488501e-02, -1.03509081e-01,  8.68212209e-02, -7.89659015e-02,\n",
       "        4.28548395e-02, -1.40931176e-01,  1.78637419e-02, -1.70893190e-04,\n",
       "        5.04871128e-03,  1.68493792e-02,  5.26358661e-03, -2.67697253e-02,\n",
       "       -1.30396648e-01, -6.40236121e-02,  1.62068735e-01, -6.89307932e-02,\n",
       "        1.49583056e-03,  3.22613157e-02,  6.28765212e-03,  8.44757109e-02,\n",
       "       -2.89328455e-02,  9.50757725e-02,  4.24455198e-02,  4.10934121e-02,\n",
       "       -1.43249568e-02,  5.98919733e-02, -5.52104441e-03, -1.71925739e-01,\n",
       "       -3.00624793e-02,  8.94661036e-03,  7.62880387e-03, -9.23939577e-02,\n",
       "        7.98288891e-03,  9.09004852e-02,  1.93171557e-01, -2.49513316e-02,\n",
       "       -6.93038870e-02, -1.18009437e-01, -9.43243775e-02,  1.57551589e-02,\n",
       "        1.31815610e-03, -2.42614447e-01,  2.64156309e-02,  1.51124984e-01,\n",
       "        4.72412418e-02,  2.39221945e-01, -3.18589984e-02, -2.35216283e-01,\n",
       "       -1.09643643e-01, -2.33186534e-02,  4.01065751e-02, -5.24014207e-02,\n",
       "        1.25530067e-01, -1.73197729e-01,  6.63174995e-02, -1.50384977e-01,\n",
       "       -8.13999185e-02, -2.60158774e-01,  2.35476065e-02,  2.15880992e-01,\n",
       "        2.78139414e-02, -2.72064737e-02, -7.38951854e-02,  9.00511707e-02,\n",
       "        6.78683913e-02, -2.18990950e-01, -1.41058172e-01, -6.10927393e-02,\n",
       "        1.04726895e-01,  4.27452180e-02, -1.75668693e-01, -6.42356409e-02,\n",
       "       -5.53816411e-02, -2.26426231e-02,  1.74838380e-02, -1.51643196e-01,\n",
       "       -1.06577140e-01, -1.65000854e-03, -1.46734347e-01,  1.33232578e-01,\n",
       "       -8.12161821e-02, -1.07210671e-01,  7.27026583e-03,  1.73591377e-01,\n",
       "        2.41359988e-01, -2.38548709e-02,  2.01560120e-01, -1.21863462e-01,\n",
       "       -1.71185956e-01, -1.31850055e-01,  6.25607128e-02,  5.05363595e-02,\n",
       "       -5.58018047e-02, -1.02743074e-01, -8.49881857e-02, -1.21676360e-01,\n",
       "        5.54058866e-02, -9.87017878e-02, -3.69349084e-02,  1.38658540e-01,\n",
       "        1.48922206e-01,  1.00348724e-01, -9.97682217e-02, -3.06882297e-02,\n",
       "        3.45737214e-02,  8.90542506e-02,  4.34195545e-02, -6.99758518e-02,\n",
       "        2.57078776e-02, -6.60701751e-02,  9.69985815e-02,  4.28309370e-02,\n",
       "       -6.62341833e-02, -6.04148387e-02, -1.71285393e-02,  3.41214875e-02,\n",
       "       -1.01580436e-01,  9.53687703e-02, -4.79675215e-02,  1.34723544e-02,\n",
       "       -1.41425376e-01,  1.67451695e-01,  9.69262652e-02,  1.06048190e-01,\n",
       "       -6.52630301e-02,  4.53231866e-02,  4.95079357e-02, -7.57923410e-02,\n",
       "        9.33880907e-02, -9.90780913e-02,  1.40575858e-01,  3.21937345e-03,\n",
       "       -1.62087143e-01, -4.12048318e-02,  7.94910378e-02, -1.15137035e-01,\n",
       "       -2.08956926e-01, -4.62892555e-02,  1.01656062e-01, -2.49548204e-02,\n",
       "        1.94887883e-01, -1.44792390e-01,  4.53688460e-02, -6.69957850e-02,\n",
       "        2.18105377e-02, -2.28261340e-02,  8.27886478e-02,  1.08264757e-01,\n",
       "       -8.44545216e-02, -5.00977412e-02,  1.48032255e-01,  5.27006634e-02,\n",
       "       -8.54634538e-02, -6.32162823e-02,  1.68925315e-02, -1.42557854e-01,\n",
       "        5.92244696e-02,  7.95911604e-02, -4.35677993e-02, -5.08365960e-02,\n",
       "        2.89517150e-03,  5.30393022e-02, -1.24735768e-02, -2.57525743e-02,\n",
       "       -1.19442363e-04,  2.29108810e-02, -7.88008394e-02, -9.98431893e-02,\n",
       "        9.67234001e-02, -9.71592700e-02, -3.77423636e-02,  2.72896246e-02,\n",
       "        1.07842551e-03,  2.86772167e-02, -1.78747009e-02,  1.62909795e-01,\n",
       "        5.52339335e-02,  5.39984402e-02,  8.91392056e-02,  2.42355010e-02,\n",
       "       -5.63557666e-02, -1.13970471e-01, -5.52646134e-02,  5.97245313e-02,\n",
       "        4.36710275e-02,  1.18855802e-01, -4.77942254e-02, -4.15795009e-03,\n",
       "       -6.32641983e-02,  1.66009952e-01,  1.94701260e-01,  9.28968523e-02,\n",
       "        3.91775790e-02,  4.15574628e-02,  6.22203171e-02, -4.26795994e-02,\n",
       "        1.46744461e-01,  6.90630159e-02, -3.47996412e-02, -1.24633456e-01,\n",
       "        1.78198288e-02, -1.46856542e-02, -7.87541511e-02, -9.63191663e-02,\n",
       "       -4.45283307e-02, -7.33788366e-02, -1.27831897e-01,  6.83631563e-02,\n",
       "        8.57881849e-02, -1.00448212e-01,  4.79561694e-02,  1.28670420e-01,\n",
       "       -8.54292923e-02, -6.07001451e-02,  1.28183429e-01, -4.33709707e-02,\n",
       "       -1.94325104e-02, -1.47185697e-01,  2.80629289e-02, -5.06064160e-02,\n",
       "       -1.06149289e-01,  3.29686278e-02, -1.47586197e-01, -8.18239505e-02,\n",
       "        1.22949966e-01, -1.30820569e-01,  1.37776043e-01,  7.56086157e-03,\n",
       "        1.87673605e-02,  3.03441314e-02,  1.48742583e-02, -1.36515563e-01,\n",
       "       -4.98730777e-04,  2.34680676e-03, -2.27886190e-01, -7.75575709e-02,\n",
       "       -1.27749435e-01, -1.22918535e-01,  1.18464967e-01, -7.36141450e-02,\n",
       "        8.83777132e-02, -9.40460260e-02, -1.62252478e-02, -1.37718961e-01,\n",
       "        7.61935335e-03,  7.21835517e-02,  7.90101526e-03, -5.96852979e-02,\n",
       "        1.64555829e-01, -1.70877464e-01, -8.94876257e-02, -1.76295568e-01,\n",
       "       -9.21977155e-02,  3.44773635e-02, -3.74106002e-02, -6.30495300e-02,\n",
       "        1.73900903e-04, -9.39972586e-02, -2.64015218e-02,  1.18589628e-01,\n",
       "        4.44220012e-03,  3.55499376e-02, -3.23558273e-02, -9.79207310e-02,\n",
       "        5.01614048e-02,  1.14374143e-01,  4.02278836e-02, -7.24785457e-02,\n",
       "       -2.02226581e-02, -3.42857381e-02, -5.59963018e-02,  1.44947413e-01,\n",
       "       -4.04288870e-02, -1.67363663e-02,  5.98361072e-02,  7.69767927e-02,\n",
       "        4.74260917e-02, -9.63202204e-02, -2.48694936e-02, -6.73601892e-03,\n",
       "        1.00511274e-01,  4.98221061e-02, -1.39156406e-01, -7.37033614e-02,\n",
       "        7.05696465e-04, -1.09494198e-01, -5.63402683e-02, -9.05687820e-02,\n",
       "       -6.78019208e-02, -2.19230816e-02,  1.22011151e-01,  6.60258070e-02,\n",
       "       -8.16723970e-02,  9.55470561e-02,  7.56813354e-02, -7.83455766e-02,\n",
       "        1.97741348e-01, -2.86157107e-02,  5.29975999e-02,  9.31122615e-02,\n",
       "        1.55139309e-01,  4.85529343e-02,  2.89809026e-02,  1.15813800e-02,\n",
       "       -1.04494069e-02, -6.45718555e-02,  3.85004753e-02, -1.89692896e-01,\n",
       "        3.95541694e-02,  6.17321352e-03, -1.87671300e-02, -1.14893340e-01,\n",
       "       -8.38974849e-02, -1.10439882e-01, -6.21007697e-02, -1.66594056e-01,\n",
       "       -3.16188717e-03,  7.63611457e-02, -1.18194695e-01, -2.46224699e-01,\n",
       "        1.18311127e-01,  6.30028736e-02, -9.42571333e-02,  7.88900791e-02,\n",
       "        1.19906802e-01, -5.50343718e-02, -1.00480544e-01, -8.61117372e-02,\n",
       "       -1.74266264e-02,  1.09001500e-02, -4.92126076e-02, -5.81019274e-02,\n",
       "       -7.58786971e-02,  6.73380420e-02, -1.02680111e-01,  7.64238376e-02,\n",
       "        4.95857928e-02, -1.21439292e-03, -5.37406203e-04, -1.57958753e-01,\n",
       "        1.45455833e-01, -8.55031051e-04,  1.22359701e-01,  2.12287515e-01,\n",
       "        1.24436871e-01, -1.02592838e-01,  1.60235523e-01,  1.07963183e-01,\n",
       "       -1.78293534e-01,  8.23244403e-03, -1.65655285e-01,  1.17959308e-01,\n",
       "       -1.00686109e-01,  5.20874455e-02, -1.62740264e-01,  1.00895766e-01,\n",
       "       -6.32453935e-02, -9.24372771e-02, -1.26292499e-01, -2.24187233e-02,\n",
       "       -2.38902650e-01, -3.08983174e-03, -2.31288542e-01,  1.32933364e-01,\n",
       "        2.95670682e-02,  3.69629823e-02, -3.14319666e-02,  4.54335799e-02,\n",
       "       -9.23121742e-02,  5.93978257e-02,  7.79408408e-02, -3.94559590e-02,\n",
       "       -8.07511148e-02, -1.46424230e-01, -1.11410330e-01,  1.15522285e-01,\n",
       "       -6.08397214e-02,  1.12274298e-01,  4.44868848e-03,  2.53984293e-01,\n",
       "       -1.61967039e-02,  2.29873282e-03, -1.39167692e-02,  3.72108027e-02,\n",
       "       -1.49524528e-01, -1.05428477e-01,  1.02209392e-01, -6.87058185e-03,\n",
       "        4.86792908e-02,  2.88923784e-01, -1.60923893e-01,  3.99926870e-02,\n",
       "        7.54450290e-02,  1.59447350e-01, -1.86304450e-01, -6.11661805e-02,\n",
       "        1.35014425e-01,  1.16811098e-01,  1.71804030e-02, -5.55153916e-02,\n",
       "        2.46399580e-02,  4.16366390e-02,  1.18573562e-01, -1.86330180e-01,\n",
       "        3.98930396e-02,  4.20705042e-02, -1.57537574e-01, -1.04179346e-01,\n",
       "       -4.72993006e-02, -1.22856096e-01,  6.67691615e-02,  1.41233668e-01,\n",
       "       -3.04322817e-03,  2.11788499e-01,  4.66147854e-03, -7.38901237e-02,\n",
       "       -1.46862940e-01, -1.56068410e-01, -4.42647188e-02, -1.24699866e-01,\n",
       "        1.20341674e-01,  7.72055249e-02, -4.55887045e-02,  1.69681774e-01,\n",
       "       -2.55476996e-02, -5.16397792e-02,  9.14621206e-02, -2.07442491e-01,\n",
       "       -3.67621187e-02, -2.24759091e-02,  8.87445311e-02,  1.62753453e-01,\n",
       "        1.26765905e-01, -3.70509756e-02, -1.07748127e-02,  5.57098190e-02,\n",
       "       -7.20136147e-02,  1.61207757e-02, -3.98549541e-02,  4.66265879e-03,\n",
       "       -8.22476185e-02, -1.15777431e-01, -1.59354724e-01, -4.83810143e-02,\n",
       "       -1.61985641e-01, -3.79672779e-03, -1.97400991e-01,  1.91488269e-01,\n",
       "       -1.11110928e-01,  9.05491020e-02,  2.59511141e-01,  7.47169333e-02,\n",
       "        2.93895638e-02,  1.22661086e-02,  3.69522546e-03, -8.13292630e-02,\n",
       "        8.16393897e-02,  3.84106082e-02,  4.55689860e-02,  1.08823521e-01,\n",
       "       -2.04561399e-02,  1.01190430e-01,  3.19828101e-02, -1.04497562e-01,\n",
       "       -4.22672179e-02, -3.85077565e-02,  2.46015895e-02,  6.73588145e-02,\n",
       "        1.44315222e-01, -9.52911901e-02, -2.12491999e-01, -3.82617123e-02,\n",
       "        1.16006750e-02,  1.68141389e-01, -1.10120412e-01,  7.01150428e-02,\n",
       "       -1.09914700e-01, -1.96053542e-01,  1.57095812e-02, -1.58639570e-01,\n",
       "       -7.62177668e-03, -1.94348527e-01, -1.01448057e-02, -6.79062450e-03,\n",
       "       -3.44869290e-02,  1.40449396e-01, -4.60109694e-02, -2.44259607e-01])"
      ]
     },
     "execution_count": 91,
     "metadata": {},
     "output_type": "execute_result"
    }
   ],
   "source": [
    "d0 = np.diag(X)\n",
    "d0"
   ]
  },
  {
   "cell_type": "code",
   "execution_count": 92,
   "id": "03c4515d",
   "metadata": {},
   "outputs": [
    {
     "data": {
      "text/plain": [
       "array([ 1.45668801e-03, -2.61810689e-02, -1.07142834e-01, -8.99358255e-02,\n",
       "       -3.73112995e-02,  8.31398663e-02, -6.15550610e-02,  8.61350164e-02,\n",
       "       -2.06798169e-05, -7.09202972e-02,  7.53462364e-02,  3.66135743e-02,\n",
       "        2.78268992e-02, -1.02660198e-01,  2.16499989e-02,  5.85709876e-02,\n",
       "       -1.94732079e-02,  9.31518707e-03,  1.51643250e-02, -1.20781128e-01,\n",
       "       -6.14615706e-03,  5.01730382e-02, -6.44768471e-03,  2.35005376e-01,\n",
       "        1.41130416e-01,  8.97409980e-02,  1.30629548e-01, -1.56993628e-01,\n",
       "        1.40219787e-01, -2.77346909e-02,  1.73987633e-01, -7.18296841e-02,\n",
       "        2.29407018e-01, -1.66021164e-02, -7.39684885e-02,  1.63414891e-01,\n",
       "       -5.38070002e-02,  2.30641960e-02, -5.57572316e-02, -5.68409422e-02,\n",
       "       -6.16684984e-03,  8.24019928e-02,  1.08795017e-01,  5.37960018e-02,\n",
       "        9.64892657e-02,  8.93772447e-02, -7.98306388e-02, -2.87722275e-01,\n",
       "       -1.18546127e-01,  1.49983393e-01,  2.16688362e-01, -6.28939762e-02,\n",
       "        4.09527551e-02,  3.08529629e-02,  1.39009981e-01, -6.85995205e-02,\n",
       "        1.50894391e-01, -1.77783778e-01, -6.95833746e-02, -1.37893354e-01,\n",
       "       -5.71746380e-02, -1.84435279e-02,  1.81586145e-02,  1.10567425e-01,\n",
       "       -5.01219250e-02, -1.49710045e-01, -1.18000842e-02, -1.78240192e-02,\n",
       "       -8.81003574e-02,  4.66494881e-04, -1.98964513e-02, -8.38274364e-02,\n",
       "       -6.55597551e-02, -2.26406143e-01,  9.83571661e-02,  1.32991756e-02,\n",
       "       -1.30932109e-02, -1.25061809e-01, -6.09314930e-02, -6.28028951e-04,\n",
       "        4.72065091e-02, -8.19181790e-02, -1.04813504e-01, -1.23844187e-01,\n",
       "        9.72809493e-02,  2.97170729e-02, -5.34041027e-02, -1.72085578e-01,\n",
       "       -1.28481968e-01,  1.39246139e-01,  1.32648893e-01,  5.84959110e-02,\n",
       "        1.17832880e-01,  6.24352292e-03,  3.69837088e-02,  1.58536426e-02,\n",
       "        6.18439051e-02, -4.04177733e-03, -5.66030245e-02,  1.50488569e-01,\n",
       "       -2.04448826e-02, -1.17017147e-01, -9.26003117e-02,  1.87076784e-02,\n",
       "       -8.14123922e-04,  3.75523647e-02, -1.99557071e-01,  3.13496611e-01,\n",
       "       -1.78132769e-01, -1.01663120e-01, -4.95411439e-02,  5.21658778e-02,\n",
       "        9.07561428e-02, -1.42577158e-01,  1.21440917e-01, -1.52145095e-01,\n",
       "       -5.51357909e-02,  1.68964585e-01, -4.37302593e-03, -5.36704813e-02,\n",
       "       -2.13306974e-01, -2.88595920e-02,  8.41438379e-02, -1.86760086e-02,\n",
       "        7.14504763e-02,  1.24033676e-01,  7.81651120e-02,  1.29042519e-01,\n",
       "       -8.11655567e-02, -1.63463345e-01, -1.70973046e-01, -1.12772825e-01,\n",
       "       -1.29372757e-01, -1.18433241e-01,  8.40419573e-02,  3.15335006e-02,\n",
       "        1.53833556e-02, -8.07459981e-02, -2.34321098e-02,  1.36313043e-01,\n",
       "       -7.07076934e-02,  5.72473962e-02, -2.10090040e-02,  9.44565373e-02,\n",
       "        2.64912341e-01,  1.74739117e-01, -1.87781542e-02, -6.61440373e-02,\n",
       "       -4.05964055e-02, -7.61985064e-02,  4.64267471e-02,  1.10029313e-01,\n",
       "        6.69970559e-02,  3.11458277e-02,  7.37812645e-02,  7.95110102e-02,\n",
       "       -1.19894027e-01, -5.69654304e-02,  2.05300530e-01,  3.12748879e-02,\n",
       "       -1.17928509e-01,  8.03594740e-02,  1.35189296e-02,  8.91587255e-02,\n",
       "       -1.61072436e-01,  4.20090071e-02,  1.05651983e-01, -1.58881039e-02,\n",
       "        8.72022023e-02, -1.33123988e-01,  4.55311992e-02, -1.89921052e-02,\n",
       "       -8.94386965e-02, -1.08219131e-01,  1.12353500e-02, -7.41996888e-02,\n",
       "        2.26752154e-03, -4.11216346e-03,  1.63657016e-01,  1.33959956e-01,\n",
       "       -7.79053482e-03, -4.76438431e-02,  1.99162520e-02, -4.83228884e-03,\n",
       "       -2.36964492e-01, -9.04322715e-02, -9.57608375e-02,  2.60450703e-02,\n",
       "        1.40784027e-02,  1.39527908e-01, -1.41810696e-01, -1.62977674e-01,\n",
       "       -2.42234797e-02,  1.53530770e-01,  1.90711009e-01,  1.88752015e-02,\n",
       "       -9.02882753e-03, -5.26779747e-02, -1.53899362e-02,  1.43484078e-01,\n",
       "        1.58465280e-01,  1.95983019e-01, -2.13467327e-02, -1.39914899e-01,\n",
       "        2.83664846e-02, -1.98849404e-01, -1.10770123e-01,  1.65164818e-01,\n",
       "        5.52601913e-03,  1.49547952e-02, -7.18441788e-02, -1.64818613e-03,\n",
       "        1.59897120e-02, -1.35128706e-03, -2.84217609e-02, -2.00355177e-01,\n",
       "        2.87139429e-02, -6.79466202e-02, -9.45344780e-02, -7.90723150e-02,\n",
       "       -3.90335523e-02, -2.99831109e-02, -8.01460341e-02,  3.43034205e-02,\n",
       "       -1.73463818e-01,  8.32755944e-02,  5.91526072e-02, -3.91606113e-02,\n",
       "        8.73414846e-02,  2.80966229e-02, -7.39037776e-02,  1.02552292e-01,\n",
       "        6.01468748e-02,  3.95913823e-03,  1.77457122e-03, -3.92561152e-02,\n",
       "        9.57223914e-04,  8.77581245e-02, -1.90191319e-02, -1.44194120e-02,\n",
       "       -3.64316103e-02, -3.56348582e-02,  3.01623993e-02, -1.14928295e-02,\n",
       "       -1.32243477e-01, -5.55461221e-03,  9.67662127e-02, -1.50219553e-01,\n",
       "       -8.99319568e-02,  6.62559122e-03,  5.65962513e-02,  2.39374493e-01,\n",
       "        1.44943126e-01, -4.53231408e-03,  6.53729206e-02, -1.08591076e-01,\n",
       "       -2.02090168e-02,  1.01616048e-01, -3.68285658e-01,  1.40603906e-01,\n",
       "       -2.15039168e-03, -3.98620393e-02, -8.25413816e-02, -8.17130369e-02,\n",
       "       -2.81918743e-02,  3.27822252e-02,  3.92832949e-03, -8.37233705e-03,\n",
       "       -2.19320871e-02,  1.59892845e-02, -1.31506980e-01,  5.05092393e-02,\n",
       "        2.75291718e-02,  7.04293901e-02,  6.13227452e-04, -9.11178749e-02,\n",
       "        5.87834573e-02,  7.37846995e-03,  1.59274820e-02, -1.03779906e-01,\n",
       "        2.09793604e-02,  4.28286884e-02, -2.90315517e-02,  2.84326442e-02,\n",
       "        9.58716314e-04, -1.46387617e-01, -4.58621987e-03, -4.18552524e-02,\n",
       "       -1.11810195e-01, -1.20790039e-01,  2.28912128e-02,  1.49911430e-02,\n",
       "       -2.51182550e-02, -4.10977530e-02,  2.84754564e-02,  1.59865983e-02,\n",
       "       -4.00282796e-03,  4.37817481e-02,  2.87553264e-02, -2.84795991e-02,\n",
       "        4.56753087e-03, -6.26134909e-02, -1.06310751e-01,  5.77298384e-03,\n",
       "        9.10609236e-02, -1.03103127e-01,  6.31533236e-02, -1.30712221e-01,\n",
       "       -9.05310222e-02,  4.96542998e-03, -9.97599073e-02, -3.60154534e-02,\n",
       "        5.40832595e-02,  5.16061041e-02,  2.99202608e-02, -4.42497392e-02,\n",
       "        1.11151005e-01, -5.30458072e-02,  9.11072509e-02, -1.37675865e-02,\n",
       "       -1.38851887e-03, -1.07411349e-01,  3.85610905e-03,  6.69121795e-02,\n",
       "        5.87140064e-02,  5.49420850e-02,  4.78354395e-02,  7.08452593e-03,\n",
       "       -1.17718144e-01, -1.68816010e-01,  3.12488078e-02, -8.23531840e-02,\n",
       "        2.31787740e-02, -1.83377718e-02, -1.61817585e-01,  9.82060991e-02,\n",
       "       -5.45541237e-03, -8.96793494e-02,  5.95512064e-02,  4.01961346e-02,\n",
       "       -1.79629306e-01, -1.86473084e-01, -1.41187755e-02,  2.65273239e-02,\n",
       "        6.48822013e-02,  7.39263835e-03, -5.49653341e-03, -1.18750062e-01,\n",
       "       -1.23880998e-01, -5.95056500e-02, -2.35130486e-02,  3.79240416e-03,\n",
       "        1.93505681e-01,  1.01319978e-01, -2.69335971e-02,  9.34828549e-02,\n",
       "       -1.75675906e-01, -1.23151551e-01,  1.76215001e-02,  1.13509266e-03,\n",
       "        8.82532515e-02, -1.24962713e-01, -1.61585099e-01, -1.12672849e-01,\n",
       "       -1.04570474e-01,  4.02557676e-02, -1.20306089e-01, -1.10302908e-02,\n",
       "        9.75458089e-02,  3.51812026e-02,  3.82546573e-02,  4.05452666e-02,\n",
       "        2.19529582e-02,  2.05583116e-02, -8.67330042e-03, -2.04777383e-01,\n",
       "       -6.41530506e-02, -6.10991009e-02, -1.11301140e-01, -2.43225828e-02,\n",
       "       -1.38706472e-02, -1.48909998e-02, -1.61382026e-01, -4.84361620e-02,\n",
       "        4.34396128e-02,  7.18720001e-02, -8.40632746e-02,  1.25972249e-01,\n",
       "        3.61432036e-02,  1.21320078e-02, -1.01390755e-02,  7.46804675e-02,\n",
       "       -1.16044645e-01, -1.73978153e-01,  1.23081344e-01, -1.03673906e-01,\n",
       "        1.12229890e-01,  2.00792810e-01, -3.34879545e-02, -2.40626854e-03,\n",
       "        2.10611333e-02,  1.45280503e-02,  3.58881914e-02,  3.71840051e-02,\n",
       "        1.03611558e-02, -4.19112709e-02, -4.78578499e-02, -6.54627698e-02,\n",
       "       -9.84720674e-02, -5.68492835e-02,  2.35352127e-02, -4.91286449e-02,\n",
       "       -7.18499703e-02, -5.42300486e-02,  1.30310005e-01,  8.54434040e-02,\n",
       "        1.46375381e-01, -1.40984770e-02, -3.15229243e-02,  9.72300821e-02,\n",
       "       -2.27764769e-02,  3.34735044e-02, -6.56779477e-03, -2.59696877e-02,\n",
       "        1.21378753e-02,  1.95183021e-01, -1.10478529e-01, -5.24920903e-02,\n",
       "       -4.24748775e-02, -4.03679530e-02, -1.01500661e-01, -1.70801797e-01,\n",
       "       -1.78844529e-02,  8.07422762e-03,  3.47258831e-02,  6.81434290e-02,\n",
       "        2.10876749e-01, -8.44181508e-02, -9.04895130e-02, -6.17513239e-03,\n",
       "        8.40967185e-02,  3.62662886e-02,  1.13487666e-02,  6.78290979e-02,\n",
       "        2.77062296e-02, -3.95778091e-02, -1.63175571e-01, -1.57120136e-01,\n",
       "       -6.99716241e-02,  7.15361275e-02,  1.10172190e-01, -3.12545733e-02,\n",
       "       -8.21444769e-02, -1.01857166e-01, -1.06491521e-01, -3.60490405e-02,\n",
       "        4.17349227e-02,  3.17191788e-02,  5.19986856e-02,  6.98251588e-02,\n",
       "        1.41158118e-02, -1.68288367e-02, -9.35989733e-02, -1.47778781e-01,\n",
       "        3.90703577e-02, -5.28836325e-02, -1.06246103e-02,  1.79865547e-01,\n",
       "       -1.81167361e-01,  4.69824794e-02, -1.57925736e-01,  7.28396520e-02,\n",
       "       -4.39224934e-03, -1.46354644e-01,  9.08051805e-02,  6.53495905e-02,\n",
       "        4.70304975e-02, -2.36462123e-02,  1.39778194e-01, -2.28356862e-02,\n",
       "       -1.05939818e-01,  1.48431370e-03, -7.71240898e-02,  5.13547698e-02,\n",
       "       -4.11990655e-02, -9.02653664e-02,  3.36379738e-02,  7.06211924e-04,\n",
       "       -5.57906418e-02, -4.80386119e-02,  4.19176247e-02,  3.85275330e-02,\n",
       "       -1.03746686e-02, -1.25918953e-01, -2.03478732e-01,  1.70283316e-01,\n",
       "        1.46547773e-02, -1.66419349e-01, -7.34845502e-02, -1.35114660e-02,\n",
       "       -1.17809932e-01, -1.49353404e-01,  9.02101410e-02,  7.70665113e-02,\n",
       "       -4.17969023e-02,  1.66093470e-01, -1.93879945e-01, -1.03464224e-01,\n",
       "        1.12815053e-02,  6.74315506e-02,  8.68145040e-02,  2.62261128e-02,\n",
       "        7.57490670e-02, -3.59724502e-02,  2.50108153e-02,  1.20391037e-01,\n",
       "       -3.69405115e-02,  5.62610262e-02, -1.46899040e-01, -6.45809700e-02,\n",
       "        5.59431325e-02, -7.46273327e-02, -2.92831474e-02,  1.06977218e-01,\n",
       "        1.28996936e-01,  2.26015534e-01,  2.72119937e-02, -3.13210248e-02,\n",
       "       -5.17023235e-02, -6.54462254e-03,  1.69450932e-02,  1.58015673e-01,\n",
       "        1.62693101e-02,  2.10496406e-01,  4.32503318e-02, -2.80589741e-02,\n",
       "        9.23012297e-02, -1.12427757e-01,  6.70683544e-02,  9.10868023e-02,\n",
       "       -1.14413505e-01, -6.89236553e-03,  2.00612328e-02, -7.53297401e-02,\n",
       "       -2.89428201e-02, -1.95673520e-02,  4.12277683e-02, -1.72496585e-01,\n",
       "        1.24762870e-01, -4.98328580e-02,  1.96501456e-03, -9.90651236e-02,\n",
       "       -7.96796720e-02,  7.62182813e-02, -1.13081209e-02,  9.72511425e-02,\n",
       "        3.00633063e-02,  1.65259313e-01,  6.71736003e-02,  7.53162814e-02,\n",
       "        1.16972046e-02, -1.02983293e-01, -1.57330617e-01,  6.26398547e-02,\n",
       "        2.44198420e-02,  1.37019104e-02, -1.89259468e-01,  1.15550152e-01,\n",
       "       -9.62636858e-02,  2.94778268e-02, -5.15041169e-02, -8.37002359e-02,\n",
       "       -6.41680812e-02, -1.37349542e-02, -3.51804537e-02, -6.34326512e-02,\n",
       "        2.59405548e-02,  9.64166655e-02, -7.86429002e-02,  3.24151863e-01,\n",
       "        1.16880617e-01, -1.95405570e-03,  5.87846621e-02, -3.46701659e-02,\n",
       "        1.62128369e-01, -6.48160182e-02, -1.37303071e-01,  1.35527796e-02,\n",
       "        1.27874254e-01,  6.64665194e-02,  2.00222756e-01,  8.26425794e-02,\n",
       "       -1.31050195e-01,  3.38481697e-02,  3.32093194e-02, -7.79454848e-02,\n",
       "        3.83652362e-02,  6.01584747e-02,  6.27582733e-03,  1.57329135e-01,\n",
       "        1.90716407e-01, -3.34298626e-02,  9.96069551e-02, -3.14120889e-02,\n",
       "        5.65726377e-02, -9.79692591e-02,  1.00678200e-01,  1.68875485e-01,\n",
       "       -3.33119270e-02, -8.36387393e-02, -6.27661867e-02,  2.27181766e-02,\n",
       "        1.65160142e-01,  3.68328022e-02, -7.19411708e-02,  5.29552387e-02,\n",
       "        1.09573616e-01, -1.20491531e-01, -7.00418652e-02, -3.08842123e-02,\n",
       "        1.04831703e-01, -1.12231229e-01, -4.18283712e-02, -1.27982825e-01,\n",
       "        4.66226409e-02, -7.56427433e-02, -9.97293357e-02,  1.04472381e-01,\n",
       "        6.08730613e-02, -3.09303758e-02, -5.76133892e-02, -7.66904355e-03,\n",
       "       -3.35729689e-02, -6.14841685e-02, -8.19467379e-02, -3.07813788e-02,\n",
       "        5.34241751e-02, -1.07570270e-01,  2.58430021e-03, -1.65196566e-02,\n",
       "       -1.62130585e-01, -3.89165873e-03,  3.61967189e-02, -2.27236221e-02,\n",
       "       -9.41086792e-02,  2.91344266e-02, -1.11013088e-01,  1.45377402e-01,\n",
       "        5.74769674e-02,  5.84220936e-02, -1.26404289e-02, -2.91225661e-02,\n",
       "        4.65453120e-02, -6.81558316e-03, -2.73703980e-02, -1.35311979e-02,\n",
       "       -5.30956497e-02,  2.20740458e-01,  2.08332476e-01, -1.13100393e-02,\n",
       "       -2.11668646e-02, -1.63485112e-01, -2.84163168e-02, -6.44932812e-03,\n",
       "       -1.18318051e-02, -1.29624668e-01,  2.15945462e-01,  3.04266287e-02,\n",
       "        1.62561447e-01,  1.51704709e-01,  5.40665025e-03,  9.47859583e-02,\n",
       "       -8.29484218e-02,  7.07672623e-02,  8.50897303e-02, -1.34577792e-01,\n",
       "        1.20034331e-01,  3.04790270e-02,  1.26965751e-02,  6.73084144e-02,\n",
       "       -4.20075747e-02, -1.41744242e-01, -6.98128393e-02, -1.89489952e-01,\n",
       "        4.39186790e-02, -3.47604666e-02,  1.84795886e-02,  4.58264717e-02,\n",
       "       -7.83248442e-02, -6.92248130e-02, -4.91141764e-02,  1.92425065e-03,\n",
       "        1.31686585e-01, -5.76874674e-02, -4.84685281e-02,  1.65416804e-01,\n",
       "       -2.67900212e-02,  1.89233663e-02, -7.10383609e-02,  1.69721218e-01,\n",
       "       -1.75689332e-01, -7.01193719e-02, -1.79874040e-01,  8.01008751e-03,\n",
       "        1.07992340e-02,  4.70721841e-02,  9.23183561e-02, -1.54374383e-01,\n",
       "        4.45636590e-02,  1.94947895e-02, -1.73392867e-02,  1.53021820e-01,\n",
       "        3.30767659e-02,  8.03924567e-02,  8.64513283e-03,  1.11362969e-01,\n",
       "        7.31069424e-02,  1.43426352e-02, -6.38341012e-02, -6.27813230e-03,\n",
       "       -3.86696665e-02, -1.67715009e-03,  2.31372587e-01,  9.57367561e-02,\n",
       "        1.29540472e-01,  5.53750319e-02,  5.62871254e-02, -3.65514304e-02,\n",
       "        6.33814334e-02, -1.60269101e-01, -1.46081359e-01, -1.17372632e-01,\n",
       "        1.09864343e-02,  2.14333362e-02,  5.85166649e-02, -1.30007830e-01,\n",
       "        4.91590245e-02, -6.66112827e-02,  1.54817171e-01,  1.73045580e-01,\n",
       "        4.66863962e-02,  1.24928467e-01, -4.77547980e-02, -3.74961275e-02,\n",
       "       -4.87363320e-02,  2.13753759e-02,  7.64058028e-04, -1.44414969e-01,\n",
       "       -6.86984871e-02,  1.51106113e-02,  1.87565844e-02, -1.04907923e-02,\n",
       "        1.25783728e-01, -2.11182190e-01, -8.71790012e-04, -1.78390565e-01,\n",
       "       -1.94127711e-02,  2.37310552e-01, -1.93259169e-01, -2.73340521e-01,\n",
       "        6.83672165e-02,  8.30768972e-03,  3.39847363e-02, -1.87430836e-03,\n",
       "        3.03863641e-02,  3.32191497e-02, -6.56119069e-03, -2.10505518e-01,\n",
       "        5.71586060e-02, -3.43642977e-02,  5.34133964e-02, -4.01705761e-02,\n",
       "        4.27133446e-02,  9.84280092e-02,  4.17171346e-02,  4.29413249e-02,\n",
       "       -3.25143430e-03,  8.90766624e-02,  2.46397645e-02,  3.06519403e-02,\n",
       "        1.91967107e-01, -1.92112899e-01,  1.19080893e-01,  1.12754307e-01,\n",
       "       -1.91379236e-01, -1.98274022e-01, -3.86364230e-02, -6.57518441e-02,\n",
       "       -1.35973748e-02, -9.14274127e-02, -5.01864513e-02, -1.56874291e-01,\n",
       "        1.38536594e-02, -1.45364881e-01, -1.38093852e-01,  4.65765849e-02,\n",
       "        1.67867460e-01, -6.94014527e-02, -5.66145078e-02, -5.98284948e-02,\n",
       "       -1.23682231e-01,  4.03827152e-02,  5.93465172e-02,  8.62554617e-03,\n",
       "       -3.63427393e-02,  9.32999235e-02, -1.47142330e-01,  1.32811392e-01,\n",
       "        1.73194536e-01, -2.15294961e-02,  1.27978318e-01, -2.92472712e-02,\n",
       "        3.35869924e-02, -1.10167778e-01,  1.69592605e-02, -5.17684725e-02,\n",
       "       -5.73978649e-02, -9.91273004e-02, -3.38638867e-02, -1.16221948e-01,\n",
       "       -7.96766097e-02,  6.82489147e-02, -1.94127077e-02, -7.63101285e-02,\n",
       "       -9.79407144e-04, -4.93864020e-02,  2.72319218e-02,  3.54531451e-03,\n",
       "        1.11571206e-01, -1.28280045e-01,  1.05478608e-03, -7.73624085e-02,\n",
       "       -5.58819763e-02, -2.87974934e-02,  8.49148718e-03,  6.80245039e-02,\n",
       "        6.06214550e-02, -1.70497950e-02,  3.43625910e-02, -1.33636102e-02,\n",
       "       -1.21016457e-01, -6.34869136e-02,  1.50799099e-01,  6.77523822e-02,\n",
       "       -1.58318769e-01,  7.78829434e-02,  4.48209435e-02,  5.87407702e-02,\n",
       "       -1.15355663e-02, -5.11678951e-02, -5.49584166e-02, -1.57791937e-01,\n",
       "       -1.01002591e-01, -1.00760982e-01,  2.21402487e-02,  2.94685055e-02,\n",
       "        1.79851295e-02, -3.42497774e-02,  2.34094334e-02,  1.25526060e-01,\n",
       "        1.05461050e-01, -4.06610723e-02,  7.99318723e-02, -1.04819487e-01,\n",
       "       -1.54306645e-01, -1.78119201e-01,  1.98349657e-01, -6.12287212e-02,\n",
       "       -1.17652435e-01,  2.64015572e-02,  1.13857145e-01, -1.40629854e-01,\n",
       "        1.36622392e-01, -4.13221498e-02,  9.59394669e-02,  9.99579371e-02,\n",
       "       -6.36657070e-02,  7.42877995e-04, -1.09335519e-01, -1.87533339e-02,\n",
       "       -6.06737901e-02,  1.74382261e-01, -7.00464538e-02,  1.63706368e-01,\n",
       "        2.08179060e-02,  1.01704981e-01,  7.63251522e-02,  8.76424103e-02,\n",
       "        4.38400725e-02, -3.81736972e-02,  8.37114542e-02,  6.85576185e-03,\n",
       "        1.12812446e-02,  1.38823149e-01, -5.12153879e-02,  8.62890092e-02,\n",
       "        4.70851595e-02,  9.62322685e-02, -1.03931410e-01, -3.77806734e-02,\n",
       "        2.99652998e-02,  7.47449126e-02, -2.15982148e-01,  2.17333709e-02,\n",
       "       -8.88515965e-02,  4.02539609e-03, -1.34813938e-01,  1.33761627e-02,\n",
       "       -2.95206534e-02, -2.93009560e-02, -9.18868003e-02,  1.76002217e-01,\n",
       "        5.29694990e-02,  7.94401523e-02,  8.45874236e-02, -2.28262994e-02,\n",
       "       -6.06669880e-02, -7.80249722e-02,  9.94686711e-03, -8.66267429e-02,\n",
       "        1.23001497e-01, -2.62924874e-03, -2.96187067e-03,  4.16969856e-02,\n",
       "        4.88058014e-02,  1.14383161e-01, -2.90511187e-02, -8.69139128e-02,\n",
       "       -1.12233636e-01,  6.76320311e-02, -8.24518300e-02,  2.01761892e-02,\n",
       "       -1.19360997e-02,  5.05746048e-02, -5.59894878e-02,  1.77388540e-01,\n",
       "        1.05128585e-01,  3.23604922e-02,  5.73130625e-02, -4.15050844e-02,\n",
       "        9.64398445e-04, -9.33725266e-02,  1.53209932e-01,  2.02225257e-02,\n",
       "       -9.39175940e-03, -8.54038232e-02,  5.11313259e-02, -3.04350288e-02,\n",
       "        1.17092701e-01, -4.63265613e-02, -1.66233451e-01, -1.68156179e-02,\n",
       "       -2.01492593e-02, -1.18486973e-01,  1.35428114e-01,  2.07586861e-01,\n",
       "        3.14691401e-02, -1.65759985e-02, -1.00409946e-01, -3.15856561e-02,\n",
       "       -7.62597559e-02, -2.29465566e-01, -1.45034891e-01,  1.36592597e-01,\n",
       "       -1.39449254e-01,  2.06786426e-02, -1.26771411e-01, -1.24588398e-01,\n",
       "        2.31692863e-02, -1.17260683e-01,  7.96188968e-02, -7.91800856e-02,\n",
       "       -6.22448149e-03,  2.09315827e-01,  2.19902523e-02,  6.93956668e-02,\n",
       "        1.20474577e-01,  4.90245305e-03, -9.17914017e-02,  3.00471733e-03,\n",
       "       -2.79907577e-02, -1.10366802e-01, -5.12002387e-02,  9.98795059e-02,\n",
       "       -5.08801333e-02, -1.72909979e-01,  3.82044028e-02, -9.89513383e-02,\n",
       "        4.84005252e-02, -1.24635970e-01,  9.92386824e-03, -6.92610380e-02,\n",
       "        6.16974312e-02,  4.63743055e-03, -1.07824338e-01,  3.83981275e-02,\n",
       "       -1.20136243e-01,  4.95252893e-02, -8.37671901e-02])"
      ]
     },
     "execution_count": 92,
     "metadata": {},
     "output_type": "execute_result"
    }
   ],
   "source": [
    "# As default is k=0, which refers to the main diagonal.\n",
    "# Values of k > 0 are used to select elements in diagonals above\n",
    "# the main diagonal, and values of k < 0 are used to select elements\n",
    "# in diagonals below the main diagonal.\n",
    "d1 = np.diag(X, k=1)\n",
    "d1"
   ]
  },
  {
   "cell_type": "code",
   "execution_count": 93,
   "id": "69328da5",
   "metadata": {},
   "outputs": [
    {
     "data": {
      "text/plain": [
       "array([-3.44642781e-02, -3.92050509e-02, -4.22283376e-02,  5.06040117e-03,\n",
       "       -1.40495584e-01,  7.99842073e-02,  4.82350261e-02, -1.19724628e-01,\n",
       "       -1.15995925e-02, -1.85444595e-01,  2.44114330e-01,  7.43739771e-02,\n",
       "       -6.61516265e-03,  1.01054876e-01,  1.88504237e-02,  1.10354418e-01,\n",
       "        8.49004726e-02, -1.28898451e-01,  1.14338374e-01,  6.85875067e-03,\n",
       "       -2.72412466e-02,  1.80815880e-01, -2.94328569e-02, -1.33874020e-01,\n",
       "       -7.31458216e-02, -9.66018709e-02, -1.50433823e-01,  6.51952026e-02,\n",
       "        1.59904148e-01, -1.31112956e-01,  4.15343284e-02, -2.43558422e-02,\n",
       "        2.42491197e-01, -2.22945683e-01,  1.77039783e-02, -1.98384579e-01,\n",
       "        4.82073897e-02, -1.63425708e-01,  6.86892391e-02,  1.47065090e-02,\n",
       "       -1.12963979e-01,  1.64148204e-01, -1.50836550e-01,  7.65407994e-02,\n",
       "        1.06510552e-01, -5.58667309e-02,  6.23099422e-03, -7.70560524e-02,\n",
       "        7.82859939e-02,  3.99123530e-02, -2.34658964e-02,  6.97835815e-02,\n",
       "       -1.61759224e-01, -6.93019688e-03,  6.54451847e-02,  8.39289232e-02,\n",
       "       -5.19278257e-02, -8.79471305e-02,  5.27180427e-04,  9.56425207e-02,\n",
       "        2.99806269e-01, -8.80248166e-03,  2.23417258e-01,  4.99226653e-02,\n",
       "        1.23020813e-01,  9.36319645e-02, -1.27591116e-01, -3.93455068e-02,\n",
       "        3.88451082e-02,  1.16962737e-01, -7.82534860e-03,  4.86052374e-03,\n",
       "        2.00809860e-01, -1.37323808e-01, -6.21920082e-02, -6.16324658e-02,\n",
       "       -9.15450986e-02, -4.59534452e-02,  9.15784210e-02, -4.89514722e-02,\n",
       "       -3.65212341e-03,  5.58821349e-02, -4.63242388e-02,  2.79855031e-01,\n",
       "        1.07436416e-01,  3.63761313e-02,  1.22382291e-01,  4.88159104e-03,\n",
       "        9.19523019e-02, -1.36380140e-01,  4.49407780e-02,  1.08287991e-03,\n",
       "       -9.43378183e-02, -1.17576176e-02, -4.32927122e-02,  4.49444683e-02,\n",
       "        2.18813416e-02,  1.16169144e-01, -3.74219149e-03,  6.41642826e-02,\n",
       "        1.04950789e-01, -2.45397555e-02,  4.40824732e-02, -7.93484318e-02,\n",
       "       -2.42834107e-02, -1.68188472e-01, -5.51770951e-03,  5.12115924e-02,\n",
       "        1.40021331e-02,  7.63011701e-02,  2.07332640e-01,  1.14955081e-01,\n",
       "       -1.11141754e-01,  5.66440385e-02,  6.43683400e-02, -4.73246829e-02,\n",
       "        6.74194265e-02, -6.63678613e-02, -5.42573579e-02,  1.40862584e-02,\n",
       "       -2.08487080e-01, -1.06625990e-01,  1.86903773e-03, -4.67550624e-02,\n",
       "        1.19658804e-01,  2.64590459e-02,  1.30382870e-01,  8.50738007e-02,\n",
       "        2.99376596e-02,  2.02112129e-01, -4.43966598e-02, -1.32276466e-01,\n",
       "        6.96050876e-02,  3.33690126e-03, -1.23778370e-01, -5.41692727e-02,\n",
       "        6.39841376e-02, -6.45592722e-02,  1.47234677e-01, -1.47588005e-01,\n",
       "        3.42930750e-03,  9.08770045e-02, -1.21100405e-01,  9.00238157e-02,\n",
       "        1.07003977e-01, -5.19346957e-02, -1.94287218e-01, -1.34358382e-02,\n",
       "       -4.77274309e-02,  5.97798926e-02,  3.16036429e-02, -3.54769131e-02,\n",
       "       -5.89568993e-02, -8.69218355e-02,  1.41405312e-02,  1.11007760e-02,\n",
       "       -1.62123814e-02,  1.76731420e-01,  8.90089737e-02,  3.61692358e-03,\n",
       "       -4.58448594e-02, -1.65231591e-01,  1.13137508e-01,  2.02079073e-01,\n",
       "        9.13884220e-02, -3.85204574e-02,  1.24268490e-01, -7.45809469e-02,\n",
       "        1.81772308e-02, -3.54619790e-02,  6.90363821e-02,  4.45748119e-02,\n",
       "       -1.49747246e-01,  1.43938905e-02, -1.02878552e-01, -1.66581666e-02,\n",
       "       -7.51252509e-02, -4.58594832e-02, -5.30195134e-02,  1.52456072e-01,\n",
       "        1.15646464e-01, -1.30443125e-02,  8.93357808e-02, -2.97965609e-02,\n",
       "       -4.68274306e-02,  8.43564447e-02,  2.63467994e-02,  1.19371918e-01,\n",
       "       -5.00282058e-02,  1.17565741e-01, -1.86785483e-01,  9.76789556e-02,\n",
       "        9.55833581e-03, -8.39225971e-03,  3.37865753e-02,  6.86793250e-02,\n",
       "       -8.03811872e-02,  9.15717008e-02, -8.79896247e-02, -9.73132647e-02,\n",
       "       -1.19575636e-01, -4.72963130e-02, -3.02330535e-02,  1.05142492e-01,\n",
       "       -2.28594251e-01,  5.97048033e-02,  4.69601260e-02, -3.90906550e-02,\n",
       "        1.15168999e-01,  1.79313611e-02,  1.18618113e-01, -1.91955512e-02,\n",
       "       -4.72139125e-02, -1.19208536e-01,  4.97343143e-02, -1.12853399e-01,\n",
       "       -7.17246213e-02,  1.88589360e-01, -6.65342583e-02,  1.42356644e-01,\n",
       "        1.13667159e-01,  8.43142390e-02, -2.31190494e-01,  4.78913353e-02,\n",
       "       -1.18811690e-01,  3.71569112e-02,  2.54909962e-02, -2.08918334e-01,\n",
       "        2.05327685e-01, -1.06030442e-01,  1.09582188e-01, -2.25838761e-01,\n",
       "        6.83199407e-03,  3.05350859e-02, -2.03289871e-02, -3.07912031e-02,\n",
       "       -7.59844711e-02, -2.87567815e-02, -7.22701496e-02, -2.63500853e-03,\n",
       "        9.31228888e-02, -3.38570202e-02,  1.60224999e-01,  1.19895461e-03,\n",
       "        1.49182903e-01, -1.33119646e-01,  8.12058102e-02,  1.46142642e-01,\n",
       "       -4.37264499e-03,  8.85876293e-02,  2.05720912e-01,  1.71052510e-02,\n",
       "       -5.54357528e-02,  1.47858517e-01,  2.14041760e-02, -2.16498850e-01,\n",
       "       -1.39789086e-01, -1.51154517e-02,  1.72671515e-03, -4.93095212e-03,\n",
       "        3.22319629e-02, -5.68485123e-02, -7.20133434e-02,  2.06853588e-01,\n",
       "       -8.21059821e-02,  2.41901360e-02, -2.89507393e-02,  3.47056843e-02,\n",
       "        1.64959801e-01,  2.68871305e-02, -6.79413815e-02,  8.29272573e-02,\n",
       "       -1.49123942e-01,  1.29962643e-01,  3.08505558e-02, -5.67944645e-02,\n",
       "        8.28725612e-02, -3.38507962e-02,  2.44798383e-02, -1.02925059e-01,\n",
       "       -1.64758920e-03, -4.89603286e-02,  1.79707439e-02, -1.57103533e-02,\n",
       "       -1.13702436e-01, -5.54549967e-02, -7.51513302e-02, -4.53876102e-02,\n",
       "        6.31574112e-02, -4.28205132e-02,  7.94892913e-02,  6.83133849e-02,\n",
       "        2.74158867e-02,  1.01543838e-01,  1.58665162e-02,  1.83427480e-02,\n",
       "        1.44820112e-02,  2.46546062e-04, -3.46613757e-02, -1.67762018e-02,\n",
       "        2.03139043e-01,  1.02149014e-01, -2.02336844e-01, -9.15641979e-03,\n",
       "        2.63538496e-02, -5.18915951e-02, -4.65593527e-02,  7.82532672e-02,\n",
       "        1.08607390e-01,  1.00971759e-01, -3.42534459e-02,  2.42103808e-02,\n",
       "       -1.24898037e-01,  6.28749058e-02, -8.78215575e-02,  2.46502570e-01,\n",
       "        7.03489590e-02,  6.06491582e-02, -4.41135241e-02,  1.99418912e-02,\n",
       "       -8.34606151e-02, -5.42338525e-02, -1.19529011e-01, -1.55357526e-01,\n",
       "       -8.77720133e-02,  3.80126653e-03, -1.00094949e-01,  4.69365516e-02,\n",
       "       -2.43817963e-02,  5.99226728e-02,  4.53755319e-02, -1.10829383e-01,\n",
       "        1.37045657e-02, -1.42454824e-03,  6.89087345e-02,  2.55901141e-02,\n",
       "       -5.01908954e-02,  6.81299448e-02, -1.43378257e-01, -7.22819534e-02,\n",
       "       -4.89664242e-03, -1.05585113e-01,  4.87879800e-02, -1.24945087e-01,\n",
       "       -7.58262994e-03,  1.46697479e-02, -8.49053855e-02,  7.72221773e-02,\n",
       "        8.65756108e-02,  2.01021851e-01,  6.23253434e-02,  5.36643979e-02,\n",
       "        7.67985210e-03, -6.51681259e-02,  3.43897549e-02, -3.58520145e-03,\n",
       "        1.76832200e-02,  7.83988223e-02,  7.88923285e-02, -1.92627584e-02,\n",
       "        1.03977111e-01, -7.29116183e-02,  7.47300981e-02, -3.26649022e-02,\n",
       "       -1.61811227e-01, -1.79605861e-02, -1.06988786e-01,  5.57752757e-03,\n",
       "       -5.87266668e-02, -9.38229804e-02,  1.22427441e-01,  9.22747056e-02,\n",
       "       -1.37561495e-03,  1.36604460e-01, -4.12113114e-02, -6.54599937e-02,\n",
       "       -1.27955673e-01,  1.31484897e-01, -3.18673905e-02,  1.35096737e-01,\n",
       "       -1.36350257e-01,  7.10139638e-03,  9.70851142e-02, -1.34803243e-02,\n",
       "       -8.54671324e-02,  4.60315986e-02,  2.31253475e-01,  1.03740027e-01,\n",
       "        1.56441394e-01, -1.56282544e-01,  1.43665500e-01,  6.37805227e-02,\n",
       "       -1.42612006e-01,  1.06598986e-01,  7.67027829e-02, -9.48268527e-02,\n",
       "       -9.92261335e-02, -4.49204375e-02, -1.44910351e-01,  4.64418069e-02,\n",
       "        9.00855695e-02,  1.27336847e-01,  3.39067492e-02, -4.02565823e-02,\n",
       "        1.14820539e-01,  1.59372773e-01, -6.39036373e-02,  4.44076660e-02,\n",
       "       -6.09272198e-02, -1.00364082e-01, -1.97062712e-01, -7.18536326e-03,\n",
       "        4.33679277e-02,  1.10444156e-02,  4.07866824e-02,  4.81175256e-02,\n",
       "       -1.89173193e-01, -1.87140598e-02,  3.08860902e-02, -2.57034118e-02,\n",
       "        2.61112754e-02,  8.35166054e-03,  1.17416020e-01, -3.56231198e-03,\n",
       "       -1.85680780e-02,  2.89127393e-02, -2.99586086e-02, -2.26083812e-01,\n",
       "        1.75457489e-02,  8.08924900e-02,  7.38612331e-02, -2.40620073e-01,\n",
       "       -1.21690670e-01,  6.16602323e-02,  6.20272984e-02, -2.30178410e-02,\n",
       "        1.07050323e-01, -1.50949926e-01, -3.14537787e-02,  2.00168209e-01,\n",
       "       -2.01043212e-01,  4.40931695e-02,  3.58233788e-02,  9.21517795e-02,\n",
       "       -1.84521044e-01, -1.51435637e-02, -1.23829049e-01, -1.44084478e-01,\n",
       "       -7.96785694e-02, -1.00490877e-01, -9.96068756e-02,  3.72750217e-02,\n",
       "        9.13926754e-02, -7.01210387e-03, -1.69524082e-01,  1.34284656e-01,\n",
       "       -1.35650376e-01, -4.14263759e-02, -1.76186104e-01, -8.53997757e-02,\n",
       "       -9.73190990e-02, -4.46518315e-02, -3.50124097e-02, -2.78281603e-02,\n",
       "       -1.54000397e-01, -3.38993123e-02,  6.51666884e-02,  1.11024690e-01,\n",
       "        4.17171234e-02,  4.34812711e-02,  5.00125165e-02, -3.07784476e-02,\n",
       "       -1.66097131e-01, -5.58535269e-02, -1.20903286e-01,  6.57136665e-02,\n",
       "       -6.09776309e-02, -6.30830427e-03, -4.17010469e-02,  5.74533777e-02,\n",
       "       -1.49261777e-01,  5.83178311e-02,  8.02222984e-02,  7.71677022e-02,\n",
       "       -2.24724729e-02, -5.57015390e-03, -5.90080650e-02, -3.26692940e-02,\n",
       "       -1.15482549e-01, -2.54066654e-01,  4.04567805e-02,  2.06798545e-02,\n",
       "        4.69699911e-02, -1.21204668e-01, -2.39176132e-01,  5.36116318e-02,\n",
       "        9.97676082e-02, -2.87104892e-02,  4.79064484e-02,  6.76275812e-02,\n",
       "        2.33694491e-02,  1.82134890e-01, -2.02623760e-01,  9.48056492e-02,\n",
       "       -1.37989379e-01,  9.29509555e-03, -6.09729154e-02,  1.55378302e-02,\n",
       "       -4.10341730e-02, -8.21091909e-02, -1.57841862e-01, -5.21713935e-02,\n",
       "       -4.73412199e-02,  8.84727172e-02,  4.74474022e-02, -5.95181799e-02,\n",
       "        7.42617882e-02, -1.56891852e-01, -1.22572699e-01, -1.34173674e-02,\n",
       "       -3.34206947e-02,  1.32492615e-01,  1.03778088e-02, -7.40869943e-02,\n",
       "       -4.70703586e-02,  1.42353909e-02, -9.56492126e-02,  1.39122010e-01,\n",
       "       -6.75052439e-02, -1.07452468e-01, -2.35928048e-02,  3.15792518e-02,\n",
       "       -4.20800732e-02, -2.31867404e-02,  1.73724293e-02,  1.33848062e-01,\n",
       "       -1.11330192e-02,  5.75704134e-02, -8.43781374e-02, -9.96990119e-02,\n",
       "       -2.71242774e-01, -2.78929668e-01,  1.59866973e-01, -7.21731324e-02,\n",
       "       -2.23122801e-01,  6.87392327e-02,  5.66713452e-02,  1.09614152e-01,\n",
       "       -9.73922356e-02, -1.40372270e-02, -5.37964459e-02, -1.51300527e-01,\n",
       "        2.59871954e-02,  1.15387740e-01, -7.61738370e-02, -1.41050103e-02,\n",
       "       -4.16177714e-02,  1.82434135e-01, -1.68942323e-01,  5.55699207e-02,\n",
       "        1.15668742e-01, -3.81704884e-02,  5.31645748e-02,  1.35965379e-01,\n",
       "        5.16434384e-03,  3.86424820e-03,  7.11275211e-02, -5.61348029e-02,\n",
       "       -9.22719145e-02,  8.93332638e-03,  7.71993495e-02, -7.00428170e-02,\n",
       "        3.40071339e-02,  2.87637824e-02,  1.18204785e-01, -1.04796239e-01,\n",
       "        1.96876686e-02,  4.44537496e-02,  4.84197483e-03, -6.45886218e-02,\n",
       "        7.92815033e-02,  7.59364586e-02, -1.02377855e-01, -1.10231095e-01,\n",
       "       -6.14077933e-02,  1.18285940e-01,  3.04289044e-02, -5.30549315e-02,\n",
       "       -7.06140329e-02,  2.79747457e-01, -2.65161951e-02, -8.19436580e-02,\n",
       "       -1.22011093e-01, -2.89500776e-03,  6.12275833e-02, -9.60904541e-02,\n",
       "        1.52364945e-02, -2.49392094e-02, -3.70337548e-02, -1.59121826e-01,\n",
       "       -1.84277065e-03,  1.85946382e-01, -4.53587201e-02, -1.99516347e-02,\n",
       "        3.05149591e-01,  2.46108348e-02, -2.86941227e-02,  5.47171104e-02,\n",
       "       -3.77153318e-03, -1.85695883e-02,  1.18107378e-01,  1.65716081e-02,\n",
       "        1.06722317e-01,  1.92596669e-02, -3.71025405e-03, -3.18578830e-02,\n",
       "       -2.65958752e-02,  5.42090916e-02, -3.84246692e-03,  2.35392058e-01,\n",
       "       -2.52941672e-01,  2.47282855e-01, -1.21630795e-01,  1.13433063e-01,\n",
       "        2.84223414e-02,  8.25371072e-02, -7.26428832e-02,  9.37824003e-02,\n",
       "        8.09164115e-02, -1.40038383e-02, -2.59383368e-02,  7.24249905e-02,\n",
       "        5.11254717e-02, -1.88241973e-02, -9.05658681e-02,  1.53394192e-01,\n",
       "        8.37152430e-02, -2.95477688e-02,  9.38268955e-02,  2.38843502e-02,\n",
       "       -1.82258057e-01,  1.33267124e-01,  4.31658673e-02, -8.78574646e-03,\n",
       "       -2.16304236e-01, -3.27420486e-02,  1.02610896e-01, -4.72199133e-02,\n",
       "       -4.38929488e-02, -4.54300602e-02,  1.02911149e-01,  3.76396163e-02,\n",
       "       -3.60489322e-02, -8.38366141e-02, -1.05015414e-01,  1.46114882e-01,\n",
       "       -6.86575220e-02, -1.16025642e-01,  4.07189623e-02, -1.70545922e-01,\n",
       "       -4.42539731e-02,  5.16883159e-02,  9.81768545e-02, -2.71486556e-02,\n",
       "       -3.59688149e-02,  8.19495079e-02,  1.11635987e-02,  1.69183508e-03,\n",
       "       -1.12995970e-02, -1.16838120e-01, -8.40482777e-02, -1.55474076e-01,\n",
       "       -6.71743593e-02,  7.99657351e-02,  3.31764262e-02, -9.57463701e-02,\n",
       "       -2.03309640e-01, -1.35008878e-02,  6.56425716e-03, -1.23039821e-01,\n",
       "       -1.97659618e-02,  1.35086441e-01,  8.33618519e-03,  1.88071276e-01,\n",
       "       -1.44755785e-01,  8.62908166e-02,  7.93389080e-02,  8.95702489e-03,\n",
       "        4.45095265e-02,  9.12568425e-02, -2.11150585e-01,  3.16651676e-02,\n",
       "       -6.47587677e-02, -2.52621778e-02, -8.93103230e-02, -1.26638850e-01,\n",
       "        7.98983091e-03,  1.49365557e-01, -2.87048797e-02, -3.57176167e-02,\n",
       "       -8.57632797e-02, -3.53546620e-02, -2.32069626e-01, -1.30677083e-01,\n",
       "       -4.85495263e-02,  5.56702227e-02,  6.08795514e-02, -3.65513417e-03,\n",
       "        7.46642252e-02, -1.52439486e-02,  6.76604368e-02,  5.11555806e-02,\n",
       "       -6.85136222e-02, -1.01415046e-01,  8.55521792e-02, -1.64723758e-01,\n",
       "        5.76902121e-02,  1.04072608e-01,  4.15745961e-02,  5.70941218e-02,\n",
       "       -5.24083425e-02,  3.13355684e-02,  6.70867915e-02,  7.92982314e-03,\n",
       "        1.19999191e-02, -7.76596466e-02,  1.60673829e-01,  4.24649949e-02,\n",
       "        4.07706217e-02,  1.81185517e-01,  2.11091031e-01, -4.83860252e-02,\n",
       "        6.45920418e-02, -4.83605134e-02,  1.49740026e-01, -2.63743415e-01,\n",
       "       -2.87690978e-02, -1.44852874e-01, -2.01196709e-01,  5.65108992e-02,\n",
       "       -1.14149088e-02, -2.09305573e-01, -3.24156561e-03,  9.39115600e-02,\n",
       "       -8.96157109e-02,  2.33386073e-02, -2.12323424e-01,  1.05694398e-04,\n",
       "        3.54977466e-02, -1.64379279e-02,  1.68642886e-03, -2.15581910e-01,\n",
       "       -1.08390871e-02, -3.20946670e-02, -5.86422011e-02, -9.82857385e-02,\n",
       "        8.11882122e-02, -5.11374591e-02,  6.03771920e-02,  1.93805906e-02,\n",
       "        6.71863253e-02,  5.54302991e-02,  1.34171024e-02, -1.16975370e-02,\n",
       "        1.55480961e-01, -1.59492653e-01,  4.53219072e-02,  5.61895286e-02,\n",
       "        9.35569164e-02, -5.21531277e-02,  1.55398623e-02, -1.94762526e-01,\n",
       "       -5.89691658e-02,  9.91180276e-02,  5.64274232e-02, -1.72969169e-01,\n",
       "        6.46691463e-03,  3.60450052e-02,  1.25641467e-02, -4.82714947e-02,\n",
       "       -2.15929683e-02,  9.69294277e-02, -7.35906130e-04,  8.15832831e-02,\n",
       "       -1.46677520e-01, -6.10377671e-02,  2.32664588e-01, -2.70941243e-02,\n",
       "        1.48174466e-02,  5.87642855e-02,  1.02379540e-01, -1.34491740e-01,\n",
       "        6.73023481e-02, -1.02991280e-02,  1.75182594e-01, -7.00683319e-03,\n",
       "       -1.99365669e-01, -3.24166871e-02, -1.59121234e-01,  1.51793887e-02,\n",
       "        6.22659748e-02, -1.27243162e-01,  1.43747696e-01, -3.87685502e-02,\n",
       "       -2.24057752e-02, -4.91090657e-03, -3.23930297e-02, -6.73624981e-02,\n",
       "        3.87035029e-02, -3.41449544e-02, -1.14764175e-01, -1.07067833e-02,\n",
       "        1.83373305e-01,  8.74412906e-02, -3.94619940e-02, -1.81999775e-01,\n",
       "        1.88258809e-01,  1.34415989e-01, -9.17304201e-02,  1.03597919e-01,\n",
       "       -7.39195066e-02,  1.94661765e-02, -1.32318388e-02, -5.64237134e-02,\n",
       "       -3.47872309e-03, -3.74249475e-02, -5.15293203e-02, -1.56861073e-01,\n",
       "        1.93418277e-01, -4.71872678e-02,  1.09429951e-01, -1.26672094e-01,\n",
       "       -7.25197562e-02, -2.15114067e-02,  1.37664310e-01, -1.87871000e-02,\n",
       "        8.53080579e-02,  1.32888188e-01, -9.91638179e-02, -1.44547583e-02,\n",
       "       -3.11862086e-02,  1.18705476e-02,  1.78137096e-02,  4.54682386e-02,\n",
       "       -5.62919194e-02, -1.24004544e-01, -1.37081075e-01,  1.88031943e-02,\n",
       "        6.26481194e-02,  1.74069371e-02, -4.79321662e-02, -1.25836422e-01,\n",
       "       -1.67396196e-01, -2.93686691e-03,  2.06243754e-02,  1.20675843e-01,\n",
       "        5.73102258e-02,  4.89272372e-02, -7.41223611e-03,  8.12549006e-02,\n",
       "       -6.66024640e-02,  2.82504843e-02, -1.05303099e-02, -8.88841814e-03,\n",
       "        8.32624346e-02, -1.75603182e-03, -8.48987518e-02,  3.95750694e-02,\n",
       "        1.37853675e-01,  8.30489678e-02,  9.19195419e-02, -1.44170824e-02,\n",
       "       -8.34021912e-02,  1.10460528e-02,  2.42041251e-01,  1.11147980e-01,\n",
       "        5.22963836e-02, -1.48839663e-02,  2.53948730e-02, -4.23310116e-02,\n",
       "       -6.59524206e-02, -1.78020235e-01,  9.75938827e-02, -7.90773666e-02,\n",
       "       -1.02358752e-01, -9.64802501e-02, -1.18097651e-01,  1.73894563e-02,\n",
       "        1.02961385e-01,  1.73752061e-02,  5.85960658e-02,  1.87593524e-01,\n",
       "        1.62281617e-02,  5.42968479e-02, -8.43975800e-02, -7.48841857e-02,\n",
       "        4.69995197e-02, -3.11522114e-02, -4.24145751e-02,  2.99846736e-02,\n",
       "       -1.59505957e-01, -1.70976369e-01,  5.46100737e-02,  1.54013733e-01,\n",
       "       -8.53781898e-02, -1.35936480e-03,  3.31553513e-02,  1.79582208e-01,\n",
       "        1.11784183e-01,  3.81835872e-02,  7.02796935e-03,  2.54670132e-01,\n",
       "        6.85724391e-02, -1.42328853e-01,  1.12845797e-01,  9.50430826e-02,\n",
       "        2.95170470e-02,  8.35984729e-02,  3.35285862e-02, -5.29308803e-02,\n",
       "        3.77243464e-02, -2.51497532e-02,  6.73763888e-02,  4.57919252e-02,\n",
       "       -1.51317166e-01, -1.19588057e-01,  2.89135751e-02, -1.44662621e-01,\n",
       "        1.08551499e-01, -1.26472062e-01, -6.79578685e-02, -3.00245770e-02,\n",
       "        8.42307041e-02, -7.61151124e-02, -4.76703551e-02,  1.55227768e-02,\n",
       "       -9.52358286e-02, -7.63697194e-02, -1.77569349e-01,  4.92006051e-02,\n",
       "       -8.89099868e-02, -9.04952744e-02,  1.53379916e-01,  1.60867944e-01,\n",
       "        3.30752584e-02,  2.17196262e-02,  9.23443819e-02,  1.74517694e-01,\n",
       "       -8.02000573e-02,  6.78742248e-02,  1.24896447e-01,  4.67149923e-02,\n",
       "       -7.43338829e-02,  9.33325204e-02, -8.42141598e-02, -8.81890864e-02,\n",
       "       -2.76451122e-01, -1.19542305e-01, -4.54389428e-02, -1.00927377e-01,\n",
       "        1.76689000e-01, -1.45775553e-01,  9.28094144e-02, -7.02457561e-03,\n",
       "       -7.33647721e-02, -2.20277755e-02, -1.24034701e-02,  6.22589901e-02,\n",
       "        7.67787969e-02, -7.90149211e-02,  1.41213893e-01, -8.49108622e-02,\n",
       "        1.12436815e-01, -7.56155690e-02,  9.04187959e-02,  8.84005020e-02,\n",
       "       -1.86626599e-01,  2.22792227e-01,  5.15298207e-02, -1.17142372e-02,\n",
       "       -4.35274517e-02, -1.06948713e-01,  2.06377852e-01, -2.84140928e-02,\n",
       "        2.10889520e-02,  1.53943068e-02, -2.81412158e-02,  1.16002279e-01,\n",
       "        1.59433383e-01,  2.41122043e-02,  9.89913475e-02, -5.64476959e-02,\n",
       "       -5.94051890e-02,  2.79548367e-02,  8.00079374e-02,  1.30082098e-01,\n",
       "       -8.10206555e-02,  1.16186830e-01, -1.28630182e-01])"
      ]
     },
     "execution_count": 93,
     "metadata": {},
     "output_type": "execute_result"
    }
   ],
   "source": [
    "d2 = np.diag(X, k=-1)\n",
    "d2"
   ]
  },
  {
   "cell_type": "markdown",
   "id": "4f904d69",
   "metadata": {},
   "source": [
    "### Find Unique Elements in ndarray\n"
   ]
  },
  {
   "cell_type": "code",
   "execution_count": 94,
   "id": "059a4b26",
   "metadata": {},
   "outputs": [
    {
     "data": {
      "text/plain": [
       "array([-0.53685148, -0.49591339, -0.46831317, ...,  0.48972654,\n",
       "        0.51830953, 20.        ])"
      ]
     },
     "execution_count": 94,
     "metadata": {},
     "output_type": "execute_result"
    }
   ],
   "source": [
    "u = np.unique(X)\n",
    "u"
   ]
  },
  {
   "cell_type": "markdown",
   "id": "994378e9",
   "metadata": {},
   "source": [
    "### Boolean Indexing"
   ]
  },
  {
   "cell_type": "code",
   "execution_count": 95,
   "id": "413e4960",
   "metadata": {},
   "outputs": [
    {
     "name": "stdout",
     "output_type": "stream",
     "text": [
      "The elements in X that are greater than 10: [11 12 13 14 15 16 17 18 19 20 21 22 23 24]\n",
      "The elements in X that less than or equal to 7: [0 1 2 3 4 5 6 7]\n",
      "The elements in X that are between 10 and 17: [11 12 13 14 15 16]\n"
     ]
    }
   ],
   "source": [
    "X = np.arange(25).reshape(5, 5)\n",
    "print('The elements in X that are greater than 10:', X[X > 10])\n",
    "print('The elements in X that less than or equal to 7:', X[X <= 7])\n",
    "print('The elements in X that are between 10 and 17:', X[(X > 10) & (X < 17)])\n"
   ]
  },
  {
   "cell_type": "code",
   "execution_count": 96,
   "id": "e1f98f53",
   "metadata": {},
   "outputs": [
    {
     "data": {
      "text/plain": [
       "array([[ 0,  1,  2,  3,  4],\n",
       "       [ 5,  6,  7,  8,  9],\n",
       "       [10, -1, -1, -1, -1],\n",
       "       [-1, -1, 17, 18, 19],\n",
       "       [20, 21, 22, 23, 24]])"
      ]
     },
     "execution_count": 96,
     "metadata": {},
     "output_type": "execute_result"
    }
   ],
   "source": [
    "# use Boolean indexing to assign the elements that\n",
    "# are between 10 and 17 the value of -1\n",
    "X[(X > 10) & (X < 17)] = -1\n",
    "X"
   ]
  },
  {
   "cell_type": "markdown",
   "id": "a06e66aa",
   "metadata": {},
   "source": [
    "### Set Operations"
   ]
  },
  {
   "cell_type": "code",
   "execution_count": 97,
   "id": "43d7dee2",
   "metadata": {},
   "outputs": [
    {
     "name": "stdout",
     "output_type": "stream",
     "text": [
      "The elements that are both in x and y: [2 4]\n",
      "The elements that are in x that are not in y: [1 3 5]\n",
      "All the elements of x and y: [1 2 3 4 5 6 7 8]\n"
     ]
    }
   ],
   "source": [
    "x = np.array([1,2,3,4,5])\n",
    "y = np.array([6,7,2,8,4])\n",
    "print('The elements that are both in x and y:', np.intersect1d(x,y))\n",
    "print('The elements that are in x that are not in y:', np.setdiff1d(x,y))\n",
    "print('All the elements of x and y:',np.union1d(x,y))"
   ]
  },
  {
   "cell_type": "markdown",
   "id": "0de590f5",
   "metadata": {},
   "source": [
    "### Sorting"
   ]
  },
  {
   "cell_type": "code",
   "execution_count": 98,
   "id": "763bdf16",
   "metadata": {},
   "outputs": [
    {
     "data": {
      "text/plain": [
       "array([[ 0,  1,  2,  3,  4],\n",
       "       [ 5,  6,  7,  8,  9],\n",
       "       [-1, -1, -1, -1, 10],\n",
       "       [-1, -1, 17, 18, 19],\n",
       "       [20, 21, 22, 23, 24]])"
      ]
     },
     "execution_count": 98,
     "metadata": {},
     "output_type": "execute_result"
    }
   ],
   "source": [
    "# When used as a function, it doesn't change the original ndarray\n",
    "s = np.sort(X)\n",
    "s"
   ]
  },
  {
   "cell_type": "code",
   "execution_count": 99,
   "id": "386908eb",
   "metadata": {},
   "outputs": [
    {
     "data": {
      "text/plain": [
       "array([[ 0,  1,  2,  3,  4],\n",
       "       [ 5,  6,  7,  8,  9],\n",
       "       [-1, -1, -1, -1, 10],\n",
       "       [-1, -1, 17, 18, 19],\n",
       "       [20, 21, 22, 23, 24]])"
      ]
     },
     "execution_count": 99,
     "metadata": {},
     "output_type": "execute_result"
    }
   ],
   "source": [
    "# When used as a method, the original array will be sorted\n",
    "X.sort()\n",
    "X"
   ]
  },
  {
   "cell_type": "code",
   "execution_count": 100,
   "id": "fe4992bc",
   "metadata": {},
   "outputs": [
    {
     "data": {
      "text/plain": [
       "array([-1,  0,  1,  2,  3,  4,  5,  6,  7,  8,  9, 10, 17, 18, 19, 20, 21,\n",
       "       22, 23, 24])"
      ]
     },
     "execution_count": 100,
     "metadata": {},
     "output_type": "execute_result"
    }
   ],
   "source": [
    "# sort z but only keep the unique elements in z\n",
    "s = np.sort(np.unique(X))\n",
    "s"
   ]
  },
  {
   "cell_type": "code",
   "execution_count": 101,
   "id": "fe8dc68a",
   "metadata": {},
   "outputs": [
    {
     "data": {
      "text/plain": [
       "array([[-1, -1, -1, -1,  4],\n",
       "       [-1, -1,  2,  3,  9],\n",
       "       [ 0,  1,  7,  8, 10],\n",
       "       [ 5,  6, 17, 18, 19],\n",
       "       [20, 21, 22, 23, 24]])"
      ]
     },
     "execution_count": 101,
     "metadata": {},
     "output_type": "execute_result"
    }
   ],
   "source": [
    "# sort the columns of z\n",
    "s = np.sort(X, axis = 0)\n",
    "s"
   ]
  },
  {
   "cell_type": "code",
   "execution_count": 102,
   "id": "35b423bf",
   "metadata": {},
   "outputs": [
    {
     "data": {
      "text/plain": [
       "array([[ 0,  1,  2,  3,  4],\n",
       "       [ 5,  6,  7,  8,  9],\n",
       "       [-1, -1, -1, -1, 10],\n",
       "       [-1, -1, 17, 18, 19],\n",
       "       [20, 21, 22, 23, 24]])"
      ]
     },
     "execution_count": 102,
     "metadata": {},
     "output_type": "execute_result"
    }
   ],
   "source": [
    "# sort the rows of z\n",
    "s = np.sort(X, axis = 1)\n",
    "s"
   ]
  },
  {
   "cell_type": "markdown",
   "id": "1d9dbe06",
   "metadata": {},
   "source": [
    "### math functions"
   ]
  },
  {
   "cell_type": "code",
   "execution_count": 103,
   "id": "4f953965",
   "metadata": {},
   "outputs": [
    {
     "data": {
      "text/plain": [
       "array([ 6.5,  8.5, 10.5, 12.5])"
      ]
     },
     "execution_count": 103,
     "metadata": {},
     "output_type": "execute_result"
    }
   ],
   "source": [
    "# NumPy allows element-wise operations on ndarrays as well as\n",
    "# matrix operations. In order to do element-wise operations,\n",
    "# NumPy sometimes uses something called Broadcasting.\n",
    "# Broadcasting is the term used to describe how NumPy handles\n",
    "# element-wise arithmetic operations with ndarrays of different shapes.\n",
    "# For example, broadcasting is used implicitly when doing arithmetic\n",
    "# operations between scalars and ndarrays.\n",
    "x = np.array([1,2,3,4])\n",
    "y = np.array([5.5,6.5,7.5,8.5])\n",
    "np.add(x,y)"
   ]
  },
  {
   "cell_type": "code",
   "execution_count": 104,
   "id": "b46e8a02",
   "metadata": {},
   "outputs": [
    {
     "data": {
      "text/plain": [
       "array([-4.5, -4.5, -4.5, -4.5])"
      ]
     },
     "execution_count": 104,
     "metadata": {},
     "output_type": "execute_result"
    }
   ],
   "source": [
    "np.subtract(x,y)"
   ]
  },
  {
   "cell_type": "code",
   "execution_count": 105,
   "id": "4c1d8d0c",
   "metadata": {},
   "outputs": [
    {
     "data": {
      "text/plain": [
       "array([ 5.5, 13. , 22.5, 34. ])"
      ]
     },
     "execution_count": 105,
     "metadata": {},
     "output_type": "execute_result"
    }
   ],
   "source": [
    "np.multiply(x,y)"
   ]
  },
  {
   "cell_type": "code",
   "execution_count": 106,
   "id": "32a5981f",
   "metadata": {},
   "outputs": [
    {
     "data": {
      "text/plain": [
       "array([0.18181818, 0.30769231, 0.4       , 0.47058824])"
      ]
     },
     "execution_count": 106,
     "metadata": {},
     "output_type": "execute_result"
    }
   ],
   "source": [
    "np.divide(x,y)"
   ]
  },
  {
   "cell_type": "code",
   "execution_count": 107,
   "id": "c0e67ae8",
   "metadata": {},
   "outputs": [
    {
     "data": {
      "text/plain": [
       "array([[ 6.5,  8.5],\n",
       "       [10.5, 12.5]])"
      ]
     },
     "execution_count": 107,
     "metadata": {},
     "output_type": "execute_result"
    }
   ],
   "source": [
    "# in order to do these operations the shapes of the ndarrays\n",
    "# being operated on, must have the same shape or be broadcastable\n",
    "X = np.array([1,2,3,4]).reshape(2,2)\n",
    "Y = np.array([5.5,6.5,7.5,8.5]).reshape(2,2)\n",
    "np.add(X,Y)"
   ]
  },
  {
   "cell_type": "code",
   "execution_count": 108,
   "id": "37e44958",
   "metadata": {},
   "outputs": [
    {
     "data": {
      "text/plain": [
       "array([[-4.5, -4.5],\n",
       "       [-4.5, -4.5]])"
      ]
     },
     "execution_count": 108,
     "metadata": {},
     "output_type": "execute_result"
    }
   ],
   "source": [
    "np.subtract(X,Y)"
   ]
  },
  {
   "cell_type": "code",
   "execution_count": 109,
   "id": "333afffa",
   "metadata": {},
   "outputs": [
    {
     "data": {
      "text/plain": [
       "array([[ 5.5, 13. ],\n",
       "       [22.5, 34. ]])"
      ]
     },
     "execution_count": 109,
     "metadata": {},
     "output_type": "execute_result"
    }
   ],
   "source": [
    "np.multiply(X,Y)"
   ]
  },
  {
   "cell_type": "code",
   "execution_count": 110,
   "id": "23d0f991",
   "metadata": {},
   "outputs": [
    {
     "data": {
      "text/plain": [
       "array([[0.18181818, 0.30769231],\n",
       "       [0.4       , 0.47058824]])"
      ]
     },
     "execution_count": 110,
     "metadata": {},
     "output_type": "execute_result"
    }
   ],
   "source": [
    "np.divide(X,Y)"
   ]
  },
  {
   "cell_type": "code",
   "execution_count": 111,
   "id": "5a88b63e",
   "metadata": {},
   "outputs": [
    {
     "data": {
      "text/plain": [
       "array([ 2.71828183,  7.3890561 , 20.08553692, 54.59815003])"
      ]
     },
     "execution_count": 111,
     "metadata": {},
     "output_type": "execute_result"
    }
   ],
   "source": [
    "# apply mathematical functions to all elements of an ndarray at once\n",
    "np.exp(x)"
   ]
  },
  {
   "cell_type": "code",
   "execution_count": 112,
   "id": "dc760496",
   "metadata": {},
   "outputs": [
    {
     "data": {
      "text/plain": [
       "array([1.        , 1.41421356, 1.73205081, 2.        ])"
      ]
     },
     "execution_count": 112,
     "metadata": {},
     "output_type": "execute_result"
    }
   ],
   "source": [
    "np.sqrt(x)"
   ]
  },
  {
   "cell_type": "code",
   "execution_count": 113,
   "id": "00129d5d",
   "metadata": {},
   "outputs": [
    {
     "data": {
      "text/plain": [
       "array([ 1,  4,  9, 16], dtype=int32)"
      ]
     },
     "execution_count": 113,
     "metadata": {},
     "output_type": "execute_result"
    }
   ],
   "source": [
    "np.power(x,2)"
   ]
  },
  {
   "cell_type": "markdown",
   "id": "662c785c",
   "metadata": {},
   "source": [
    "### Statistical Functions"
   ]
  },
  {
   "cell_type": "code",
   "execution_count": 114,
   "id": "35e5ccf5",
   "metadata": {},
   "outputs": [
    {
     "name": "stdout",
     "output_type": "stream",
     "text": [
      "Average of all elements in X: 2.5\n",
      "Average of all elements in the columns of X: [2. 3.]\n",
      "Average of all elements in the rows of X: [1.5 3.5]\n",
      "\n",
      "Sum of all elements in X: 10\n",
      "Standard Deviation of all elements in X: 1.118033988749895\n",
      "Median of all elements in X: 2.5\n",
      "Maximum value of all elements in X: 4\n",
      "Minimum value of all elements in X: 1\n"
     ]
    }
   ],
   "source": [
    "print('Average of all elements in X:', X.mean())\n",
    "print('Average of all elements in the columns of X:', X.mean(axis=0))\n",
    "print('Average of all elements in the rows of X:', X.mean(axis=1))\n",
    "print()\n",
    "print('Sum of all elements in X:', X.sum())\n",
    "print('Standard Deviation of all elements in X:', X.std())\n",
    "print('Median of all elements in X:', np.median(X))\n",
    "print('Maximum value of all elements in X:', X.max())\n",
    "print('Minimum value of all elements in X:', X.min())"
   ]
  },
  {
   "cell_type": "markdown",
   "id": "8201d318",
   "metadata": {},
   "source": [
    "### Broadcasting"
   ]
  },
  {
   "cell_type": "code",
   "execution_count": 115,
   "id": "823ae4c6",
   "metadata": {},
   "outputs": [
    {
     "name": "stdout",
     "output_type": "stream",
     "text": [
      "[[ 4  8]\n",
      " [12 16]]\n"
     ]
    }
   ],
   "source": [
    "# NumPy is working behind the scenes to broadcast 3 along the ndarray\n",
    "# so that they have the same shape. This allows us to add 3 to each\n",
    "# element of X with just one line of code.\n",
    "print(4*X)"
   ]
  },
  {
   "cell_type": "code",
   "execution_count": 116,
   "id": "5f5f06cf",
   "metadata": {},
   "outputs": [
    {
     "name": "stdout",
     "output_type": "stream",
     "text": [
      "[[5 6]\n",
      " [7 8]]\n"
     ]
    }
   ],
   "source": [
    "print(4+X)"
   ]
  },
  {
   "cell_type": "code",
   "execution_count": 117,
   "id": "333b40fe",
   "metadata": {},
   "outputs": [
    {
     "name": "stdout",
     "output_type": "stream",
     "text": [
      "[[3 2]\n",
      " [1 0]]\n"
     ]
    }
   ],
   "source": [
    "print(4-X)"
   ]
  },
  {
   "cell_type": "code",
   "execution_count": 118,
   "id": "ba8a3dff",
   "metadata": {},
   "outputs": [
    {
     "name": "stdout",
     "output_type": "stream",
     "text": [
      "[[4.         2.        ]\n",
      " [1.33333333 1.        ]]\n"
     ]
    }
   ],
   "source": [
    "print(4/X)"
   ]
  },
  {
   "cell_type": "code",
   "execution_count": 119,
   "id": "bb0f1068",
   "metadata": {},
   "outputs": [
    {
     "name": "stdout",
     "output_type": "stream",
     "text": [
      "[[ 2  4  6]\n",
      " [ 5  7  9]\n",
      " [ 8 10 12]]\n",
      "\n",
      "[[ 2  3  4]\n",
      " [ 6  7  8]\n",
      " [10 11 12]]\n"
     ]
    }
   ],
   "source": [
    "# NumPy is able to add 1 x 3 and 3 x 1 ndarrays to 3 x 3 ndarrays\n",
    "# by broadcasting the smaller ndarrays along the big ndarray so that\n",
    "# they have compatible shapes. In general, NumPy can do this provided\n",
    "# that the smaller ndarray can be expanded to the shape of the larger\n",
    "# ndarray in such a way that the resulting broadcast is unambiguous.\n",
    "x = np.array([1,2,3])\n",
    "Y = np.array([[1,2,3],[4,5,6],[7,8,9]])\n",
    "Z = np.array([1,2,3]).reshape(3,1)\n",
    "print(x + Y)\n",
    "print()\n",
    "print(Z + Y)"
   ]
  },
  {
   "cell_type": "markdown",
   "id": "35c35e94",
   "metadata": {},
   "source": [
    "## Pandas"
   ]
  },
  {
   "cell_type": "markdown",
   "id": "e770d1c7",
   "metadata": {},
   "source": [
    "#### Documentation: https://pandas.pydata.org/pandas-docs/stable/"
   ]
  },
  {
   "cell_type": "code",
   "execution_count": 120,
   "id": "bafde47e",
   "metadata": {},
   "outputs": [],
   "source": [
    "import pandas as pd"
   ]
  },
  {
   "cell_type": "markdown",
   "id": "ee601870",
   "metadata": {},
   "source": [
    "### Series\n",
    "#### 1D array-like object that can hold many data types. One of the main differences between Pandas Series and NumPy ndarrays is that you can assign an index label to each element in the Pandas Series. Another big difference is that Pandas Series can hold data of different data types.\n",
    "#### pd.Series(data, index)"
   ]
  },
  {
   "cell_type": "markdown",
   "id": "196635fc",
   "metadata": {},
   "source": [
    "#### create series"
   ]
  },
  {
   "cell_type": "code",
   "execution_count": 121,
   "id": "b714fe22",
   "metadata": {},
   "outputs": [
    {
     "data": {
      "text/plain": [
       "eggs       30\n",
       "apples      6\n",
       "milk      Yes\n",
       "bread      No\n",
       "dtype: object"
      ]
     },
     "execution_count": 121,
     "metadata": {},
     "output_type": "execute_result"
    }
   ],
   "source": [
    "groceries = pd.Series(data = [30, 6, 'Yes', 'No'], index = ['eggs', 'apples', 'milk', 'bread'])\n",
    "groceries\n"
   ]
  },
  {
   "cell_type": "markdown",
   "id": "40b5abb6",
   "metadata": {},
   "source": [
    "### shape, size, values, index, ndim"
   ]
  },
  {
   "cell_type": "code",
   "execution_count": 122,
   "id": "b4057b42",
   "metadata": {},
   "outputs": [
    {
     "name": "stdout",
     "output_type": "stream",
     "text": [
      "Groceries has shape: (4,)\n",
      "\n",
      "Groceries has dimension: 1\n",
      "\n",
      "Groceries has a total of 4 elements\n",
      "\n",
      "The data in Groceries is: [30 6 'Yes' 'No']\n",
      "\n",
      "The index of Groceries is: Index(['eggs', 'apples', 'milk', 'bread'], dtype='object')\n"
     ]
    }
   ],
   "source": [
    "print('Groceries has shape:', groceries.shape)\n",
    "print()\n",
    "print('Groceries has dimension:', groceries.ndim)\n",
    "print()\n",
    "print('Groceries has a total of', groceries.size, 'elements')\n",
    "print()\n",
    "print('The data in Groceries is:', groceries.values)\n",
    "print()\n",
    "print('The index of Groceries is:', groceries.index)"
   ]
  },
  {
   "cell_type": "markdown",
   "id": "bd246b19",
   "metadata": {},
   "source": [
    "### check whether an index label exists in Series"
   ]
  },
  {
   "cell_type": "code",
   "execution_count": 123,
   "id": "0bcacfc1",
   "metadata": {},
   "outputs": [
    {
     "data": {
      "text/plain": [
       "False"
      ]
     },
     "execution_count": 123,
     "metadata": {},
     "output_type": "execute_result"
    }
   ],
   "source": [
    "x = 'bananas' in groceries\n",
    "x"
   ]
  },
  {
   "cell_type": "markdown",
   "id": "351524b8",
   "metadata": {},
   "source": [
    "### Accessing Elements"
   ]
  },
  {
   "cell_type": "code",
   "execution_count": 124,
   "id": "3fc833fc",
   "metadata": {},
   "outputs": [
    {
     "name": "stdout",
     "output_type": "stream",
     "text": [
      "How many eggs do we need to buy: 30\n",
      "\n",
      "Do we need milk and bread:\n",
      " milk     Yes\n",
      "bread     No\n",
      "dtype: object\n",
      "\n",
      "How many eggs and apples do we need to buy:\n",
      " eggs      30\n",
      "apples     6\n",
      "dtype: object\n",
      "\n",
      "How many eggs and apples do we need to buy:\n",
      " eggs      30\n",
      "apples     6\n",
      "dtype: object\n",
      "\n",
      "Do we need bread:\n",
      " bread    No\n",
      "dtype: object\n",
      "\n",
      "How many eggs do we need to buy: 30\n",
      "\n",
      "Do we need milk and bread:\n",
      " milk     Yes\n",
      "bread     No\n",
      "dtype: object\n",
      "\n"
     ]
    }
   ],
   "source": [
    "# using index labels:\n",
    "# single index label\n",
    "print('How many eggs do we need to buy:', groceries['eggs'])\n",
    "print()\n",
    "# access multiple index labels\n",
    "print('Do we need milk and bread:\\n', groceries[['milk', 'bread']]) \n",
    "print()\n",
    "# use loc to access multiple index labels\n",
    "print('How many eggs and apples do we need to buy:\\n', groceries.loc[['eggs', 'apples']]) \n",
    "print()\n",
    "\n",
    "# access elements in Groceries using numerical indices:\n",
    "# use multiple numerical indices\n",
    "print('How many eggs and apples do we need to buy:\\n',  groceries[[0, 1]]) \n",
    "print()\n",
    "# use a negative numerical index\n",
    "print('Do we need bread:\\n', groceries[[-1]]) \n",
    "print()\n",
    "# use a single numerical index\n",
    "print('How many eggs do we need to buy:', groceries[0]) \n",
    "print()\n",
    "# use iloc (stands for integer location) to access multiple numerical indices\n",
    "print('Do we need milk and bread:\\n', groceries.iloc[[2, 3]])\n",
    "print()\n",
    "# Since we can access elements in various ways, in order to remove\n",
    "# any ambiguity to whether we are referring to an index label\n",
    "# or numerical index, Pandas Series have two attributes,\n",
    "# .loc and .iloc to explicitly state what we mean. The attribute\n",
    "# .loc stands for location and it is used to explicitly state that\n",
    "# we are using a labeled index. Similarly, the attribute .iloc stands\n",
    "# for integer location and it is used to explicitly state that we are\n",
    "# using a numerical index."
   ]
  },
  {
   "cell_type": "markdown",
   "id": "c38677d1",
   "metadata": {},
   "source": [
    "### Change Elements"
   ]
  },
  {
   "cell_type": "code",
   "execution_count": 125,
   "id": "757f8c53",
   "metadata": {},
   "outputs": [
    {
     "data": {
      "text/plain": [
       "eggs        2\n",
       "apples      6\n",
       "milk      Yes\n",
       "bread      No\n",
       "dtype: object"
      ]
     },
     "execution_count": 125,
     "metadata": {},
     "output_type": "execute_result"
    }
   ],
   "source": [
    "groceries['eggs'] = 2\n",
    "groceries"
   ]
  },
  {
   "cell_type": "markdown",
   "id": "8da8aef4",
   "metadata": {},
   "source": [
    "### Delete Elements"
   ]
  },
  {
   "cell_type": "code",
   "execution_count": 126,
   "id": "72965399",
   "metadata": {},
   "outputs": [
    {
     "data": {
      "text/plain": [
       "eggs       2\n",
       "milk     Yes\n",
       "bread     No\n",
       "dtype: object"
      ]
     },
     "execution_count": 126,
     "metadata": {},
     "output_type": "execute_result"
    }
   ],
   "source": [
    "# doesn't change the original Series being modified\n",
    "groceries.drop('apples')"
   ]
  },
  {
   "cell_type": "code",
   "execution_count": 127,
   "id": "43e1d4dd",
   "metadata": {},
   "outputs": [],
   "source": [
    "# delete items from Series in place by setting keyword inplace to True\n",
    "groceries.drop('apples', inplace = True)"
   ]
  },
  {
   "cell_type": "markdown",
   "id": "e410da40",
   "metadata": {},
   "source": [
    "### Arithmetic Operations"
   ]
  },
  {
   "cell_type": "code",
   "execution_count": 128,
   "id": "890227bb",
   "metadata": {},
   "outputs": [
    {
     "data": {
      "text/plain": [
       "apples     12\n",
       "oranges     8\n",
       "bananas     5\n",
       "dtype: int64"
      ]
     },
     "execution_count": 128,
     "metadata": {},
     "output_type": "execute_result"
    }
   ],
   "source": [
    "# we can perform element-wise arithmetic operations on Pandas Series\n",
    "fruits = pd.Series(data = [10, 6, 3,], index = ['apples', 'oranges', 'bananas'])\n",
    "fruits + 2 # Adds 2 to all elements in the series"
   ]
  },
  {
   "cell_type": "code",
   "execution_count": 129,
   "id": "5c55713c",
   "metadata": {},
   "outputs": [
    {
     "data": {
      "text/plain": [
       "apples     8\n",
       "oranges    4\n",
       "bananas    1\n",
       "dtype: int64"
      ]
     },
     "execution_count": 129,
     "metadata": {},
     "output_type": "execute_result"
    }
   ],
   "source": [
    "fruits - 2"
   ]
  },
  {
   "cell_type": "code",
   "execution_count": 130,
   "id": "6081ead3",
   "metadata": {},
   "outputs": [
    {
     "data": {
      "text/plain": [
       "apples     20\n",
       "oranges    12\n",
       "bananas     6\n",
       "dtype: int64"
      ]
     },
     "execution_count": 130,
     "metadata": {},
     "output_type": "execute_result"
    }
   ],
   "source": [
    "fruits * 2"
   ]
  },
  {
   "cell_type": "code",
   "execution_count": 131,
   "id": "aea744f8",
   "metadata": {},
   "outputs": [
    {
     "data": {
      "text/plain": [
       "apples     5.0\n",
       "oranges    3.0\n",
       "bananas    1.5\n",
       "dtype: float64"
      ]
     },
     "execution_count": 131,
     "metadata": {},
     "output_type": "execute_result"
    }
   ],
   "source": [
    "fruits / 2"
   ]
  },
  {
   "cell_type": "code",
   "execution_count": 132,
   "id": "0b7cad50",
   "metadata": {},
   "outputs": [
    {
     "data": {
      "text/plain": [
       "apples     20\n",
       "oranges    12\n",
       "dtype: int64"
      ]
     },
     "execution_count": 132,
     "metadata": {},
     "output_type": "execute_result"
    }
   ],
   "source": [
    "# apply mathematical functions from NumPy to all elements of a Series\n",
    "np.exp(fruits)\n",
    "np.sqrt(fruits)\n",
    "np.power(fruits,2)\n",
    "# only apply arithmetic operations on selected items in Series\n",
    "fruits['bananas'] + 2\n",
    "fruits.iloc[0] - 2\n",
    "fruits[['apples', 'oranges']] * 2\n",
    "# you can apply arithmetic operations on a Series of mixed data\n",
    "# type provided that the arithmetic operation is defined for all\n",
    "# data types in the Series, otherwise you will get an error"
   ]
  },
  {
   "cell_type": "markdown",
   "id": "6d4d3653",
   "metadata": {},
   "source": [
    "### Dataframe\n",
    "Pandas DataFrames are two-dimensional data structures with labeled rows and columns, that can hold many data types."
   ]
  },
  {
   "cell_type": "markdown",
   "id": "1f3240ed",
   "metadata": {},
   "source": [
    "#### axes"
   ]
  },
  {
   "cell_type": "code",
   "execution_count": null,
   "id": "040d78b6",
   "metadata": {},
   "outputs": [],
   "source": [
    "# understanding axes\n",
    "df.sum()       \n",
    "# sums “down” the 0 axis (rows)\n",
    "df.sum(axis=0) \n",
    "# equivalent (since axis=0 is the default)\n",
    "df.sum(axis=1) \n",
    "# sums “across” the 1 axis (columns)"
   ]
  },
  {
   "cell_type": "markdown",
   "id": "afc6fb0f",
   "metadata": {},
   "source": [
    "### Loading Data into DF"
   ]
  },
  {
   "cell_type": "code",
   "execution_count": null,
   "id": "6e0c65f2",
   "metadata": {},
   "outputs": [],
   "source": [
    "df = pd.read_csv('marauders_map.csv')\n",
    "\n",
    "# limit which rows are read when reading in a file\n",
    "pd.read_csv(‘df.csv’, nrows=10)        \n",
    "# only read first 10 rows\n",
    "\n",
    "# skip the first two rows of data\n",
    "pd.read_csv(‘df.csv’, skiprows=[1, 2]) \n",
    "\n",
    "# randomly sample a DataFrame\n",
    "train = df.sample(frac=0.75, random_column_y=1) \n",
    "# will contain 75% of the rows\n",
    "\n",
    "test = df[~df.index.isin(train.index)] \n",
    "# will contain the other 25%\n",
    "\n",
    "# change the maximum number of rows and columns printed (‘None’ means unlimited)\n",
    "pd.set_option(‘max_rows’, None) \n",
    "# default is 60 rows\n",
    "\n",
    "pd.set_option(‘max_columns’, None) \n",
    "# default is 20 columns\n",
    "print df\n",
    "\n",
    "# reset options to defaults\n",
    "pd.reset_option(‘max_rows’)\n",
    "pd.reset_option(‘max_columns’)\n",
    "\n",
    "# change the options temporarily (settings are restored when you exit the ‘with’ block)\n",
    "with pd.option_context(‘max_rows’, None, ‘max_columns’, None):\n",
    "    print df"
   ]
  },
  {
   "cell_type": "markdown",
   "id": "f801c507",
   "metadata": {},
   "source": [
    "### create DF"
   ]
  },
  {
   "cell_type": "code",
   "execution_count": 134,
   "id": "4bed49a9",
   "metadata": {},
   "outputs": [
    {
     "data": {
      "text/plain": [
       "{'Bob': bike     245\n",
       " pants     25\n",
       " watch     55\n",
       " dtype: int64,\n",
       " 'Alice': book        40\n",
       " glasses    110\n",
       " bike       500\n",
       " pants       45\n",
       " dtype: int64}"
      ]
     },
     "execution_count": 134,
     "metadata": {},
     "output_type": "execute_result"
    }
   ],
   "source": [
    "# Create a DataFrame manually from a dictionary of Pandas Series\n",
    "\n",
    "# create a dictionary of Pandas Series \n",
    "items = {'Bob' : pd.Series(data = [245, 25, 55], index = ['bike', 'pants', 'watch']),\n",
    "         'Alice' : pd.Series(data = [40, 110, 500, 45], index = ['book', 'glasses', 'bike', 'pants'])}\n",
    "items"
   ]
  },
  {
   "cell_type": "code",
   "execution_count": 135,
   "id": "7a0bb869",
   "metadata": {},
   "outputs": [
    {
     "name": "stdout",
     "output_type": "stream",
     "text": [
      "<class 'dict'>\n"
     ]
    }
   ],
   "source": [
    "# print the type of items to see that it is a dictionary\n",
    "print(type(items)) # class 'dict'"
   ]
  },
  {
   "cell_type": "code",
   "execution_count": 136,
   "id": "5f95ae81",
   "metadata": {},
   "outputs": [
    {
     "data": {
      "text/html": [
       "<div>\n",
       "<style scoped>\n",
       "    .dataframe tbody tr th:only-of-type {\n",
       "        vertical-align: middle;\n",
       "    }\n",
       "\n",
       "    .dataframe tbody tr th {\n",
       "        vertical-align: top;\n",
       "    }\n",
       "\n",
       "    .dataframe thead th {\n",
       "        text-align: right;\n",
       "    }\n",
       "</style>\n",
       "<table border=\"1\" class=\"dataframe\">\n",
       "  <thead>\n",
       "    <tr style=\"text-align: right;\">\n",
       "      <th></th>\n",
       "      <th>Bob</th>\n",
       "      <th>Alice</th>\n",
       "    </tr>\n",
       "  </thead>\n",
       "  <tbody>\n",
       "    <tr>\n",
       "      <th>bike</th>\n",
       "      <td>245.0</td>\n",
       "      <td>500.0</td>\n",
       "    </tr>\n",
       "    <tr>\n",
       "      <th>book</th>\n",
       "      <td>NaN</td>\n",
       "      <td>40.0</td>\n",
       "    </tr>\n",
       "    <tr>\n",
       "      <th>glasses</th>\n",
       "      <td>NaN</td>\n",
       "      <td>110.0</td>\n",
       "    </tr>\n",
       "    <tr>\n",
       "      <th>pants</th>\n",
       "      <td>25.0</td>\n",
       "      <td>45.0</td>\n",
       "    </tr>\n",
       "    <tr>\n",
       "      <th>watch</th>\n",
       "      <td>55.0</td>\n",
       "      <td>NaN</td>\n",
       "    </tr>\n",
       "  </tbody>\n",
       "</table>\n",
       "</div>"
      ],
      "text/plain": [
       "           Bob  Alice\n",
       "bike     245.0  500.0\n",
       "book       NaN   40.0\n",
       "glasses    NaN  110.0\n",
       "pants     25.0   45.0\n",
       "watch     55.0    NaN"
      ]
     },
     "execution_count": 136,
     "metadata": {},
     "output_type": "execute_result"
    }
   ],
   "source": [
    "# create a Pandas DataFrame by passing it a dictionary of Series\n",
    "shopping_carts = pd.DataFrame(items)\n",
    "shopping_carts"
   ]
  },
  {
   "cell_type": "code",
   "execution_count": 137,
   "id": "1168563d",
   "metadata": {},
   "outputs": [
    {
     "data": {
      "text/html": [
       "<div>\n",
       "<style scoped>\n",
       "    .dataframe tbody tr th:only-of-type {\n",
       "        vertical-align: middle;\n",
       "    }\n",
       "\n",
       "    .dataframe tbody tr th {\n",
       "        vertical-align: top;\n",
       "    }\n",
       "\n",
       "    .dataframe thead th {\n",
       "        text-align: right;\n",
       "    }\n",
       "</style>\n",
       "<table border=\"1\" class=\"dataframe\">\n",
       "  <thead>\n",
       "    <tr style=\"text-align: right;\">\n",
       "      <th></th>\n",
       "      <th>Bob</th>\n",
       "    </tr>\n",
       "  </thead>\n",
       "  <tbody>\n",
       "    <tr>\n",
       "      <th>bike</th>\n",
       "      <td>245</td>\n",
       "    </tr>\n",
       "    <tr>\n",
       "      <th>pants</th>\n",
       "      <td>25</td>\n",
       "    </tr>\n",
       "    <tr>\n",
       "      <th>watch</th>\n",
       "      <td>55</td>\n",
       "    </tr>\n",
       "  </tbody>\n",
       "</table>\n",
       "</div>"
      ],
      "text/plain": [
       "       Bob\n",
       "bike   245\n",
       "pants   25\n",
       "watch   55"
      ]
     },
     "execution_count": 137,
     "metadata": {},
     "output_type": "execute_result"
    }
   ],
   "source": [
    "# create a DataFrame that only has a subset of the data/columns\n",
    "bob_shopping_cart = pd.DataFrame(items, columns=['Bob'])\n",
    "bob_shopping_cart"
   ]
  },
  {
   "cell_type": "code",
   "execution_count": 138,
   "id": "44b65e73",
   "metadata": {},
   "outputs": [
    {
     "data": {
      "text/html": [
       "<div>\n",
       "<style scoped>\n",
       "    .dataframe tbody tr th:only-of-type {\n",
       "        vertical-align: middle;\n",
       "    }\n",
       "\n",
       "    .dataframe tbody tr th {\n",
       "        vertical-align: top;\n",
       "    }\n",
       "\n",
       "    .dataframe thead th {\n",
       "        text-align: right;\n",
       "    }\n",
       "</style>\n",
       "<table border=\"1\" class=\"dataframe\">\n",
       "  <thead>\n",
       "    <tr style=\"text-align: right;\">\n",
       "      <th></th>\n",
       "      <th>Bob</th>\n",
       "      <th>Alice</th>\n",
       "    </tr>\n",
       "  </thead>\n",
       "  <tbody>\n",
       "    <tr>\n",
       "      <th>pants</th>\n",
       "      <td>25.0</td>\n",
       "      <td>45</td>\n",
       "    </tr>\n",
       "    <tr>\n",
       "      <th>book</th>\n",
       "      <td>NaN</td>\n",
       "      <td>40</td>\n",
       "    </tr>\n",
       "  </tbody>\n",
       "</table>\n",
       "</div>"
      ],
      "text/plain": [
       "        Bob  Alice\n",
       "pants  25.0     45\n",
       "book    NaN     40"
      ]
     },
     "execution_count": 138,
     "metadata": {},
     "output_type": "execute_result"
    }
   ],
   "source": [
    "# create a DataFrame that only has selected keys\n",
    "sel_shopping_cart = pd.DataFrame(items, index = ['pants', 'book'])\n",
    "sel_shopping_cart"
   ]
  },
  {
   "cell_type": "code",
   "execution_count": 139,
   "id": "f125ba1a",
   "metadata": {},
   "outputs": [
    {
     "data": {
      "text/html": [
       "<div>\n",
       "<style scoped>\n",
       "    .dataframe tbody tr th:only-of-type {\n",
       "        vertical-align: middle;\n",
       "    }\n",
       "\n",
       "    .dataframe tbody tr th {\n",
       "        vertical-align: top;\n",
       "    }\n",
       "\n",
       "    .dataframe thead th {\n",
       "        text-align: right;\n",
       "    }\n",
       "</style>\n",
       "<table border=\"1\" class=\"dataframe\">\n",
       "  <thead>\n",
       "    <tr style=\"text-align: right;\">\n",
       "      <th></th>\n",
       "      <th>Alice</th>\n",
       "    </tr>\n",
       "  </thead>\n",
       "  <tbody>\n",
       "    <tr>\n",
       "      <th>glasses</th>\n",
       "      <td>110</td>\n",
       "    </tr>\n",
       "    <tr>\n",
       "      <th>bike</th>\n",
       "      <td>500</td>\n",
       "    </tr>\n",
       "  </tbody>\n",
       "</table>\n",
       "</div>"
      ],
      "text/plain": [
       "         Alice\n",
       "glasses    110\n",
       "bike       500"
      ]
     },
     "execution_count": 139,
     "metadata": {},
     "output_type": "execute_result"
    }
   ],
   "source": [
    "# combine both of the above - selected keys for selected columns\n",
    "alice_sel_shopping_cart = pd.DataFrame(items, index = ['glasses', 'bike'], columns = ['Alice'])\n",
    "alice_sel_shopping_cart"
   ]
  },
  {
   "cell_type": "code",
   "execution_count": 140,
   "id": "b8978d32",
   "metadata": {},
   "outputs": [
    {
     "data": {
      "text/html": [
       "<div>\n",
       "<style scoped>\n",
       "    .dataframe tbody tr th:only-of-type {\n",
       "        vertical-align: middle;\n",
       "    }\n",
       "\n",
       "    .dataframe tbody tr th {\n",
       "        vertical-align: top;\n",
       "    }\n",
       "\n",
       "    .dataframe thead th {\n",
       "        text-align: right;\n",
       "    }\n",
       "</style>\n",
       "<table border=\"1\" class=\"dataframe\">\n",
       "  <thead>\n",
       "    <tr style=\"text-align: right;\">\n",
       "      <th></th>\n",
       "      <th>Integers</th>\n",
       "      <th>Floats</th>\n",
       "    </tr>\n",
       "  </thead>\n",
       "  <tbody>\n",
       "    <tr>\n",
       "      <th>0</th>\n",
       "      <td>1</td>\n",
       "      <td>4.5</td>\n",
       "    </tr>\n",
       "    <tr>\n",
       "      <th>1</th>\n",
       "      <td>2</td>\n",
       "      <td>8.2</td>\n",
       "    </tr>\n",
       "    <tr>\n",
       "      <th>2</th>\n",
       "      <td>3</td>\n",
       "      <td>9.6</td>\n",
       "    </tr>\n",
       "  </tbody>\n",
       "</table>\n",
       "</div>"
      ],
      "text/plain": [
       "   Integers  Floats\n",
       "0         1     4.5\n",
       "1         2     8.2\n",
       "2         3     9.6"
      ]
     },
     "execution_count": 140,
     "metadata": {},
     "output_type": "execute_result"
    }
   ],
   "source": [
    "# create DataFrames from a dictionary of lists (arrays)\n",
    "# In this case, however, all the lists (arrays) in the dictionary must be of the same length\n",
    "\n",
    "# create a dictionary of lists (arrays)\n",
    "data = {'Integers' : [1,2,3],\n",
    "        'Floats' : [4.5, 8.2, 9.6]}\n",
    "\n",
    "# create a DataFrame \n",
    "df = pd.DataFrame(data)\n",
    "df"
   ]
  },
  {
   "cell_type": "code",
   "execution_count": 141,
   "id": "a0ac4bcc",
   "metadata": {},
   "outputs": [
    {
     "data": {
      "text/html": [
       "<div>\n",
       "<style scoped>\n",
       "    .dataframe tbody tr th:only-of-type {\n",
       "        vertical-align: middle;\n",
       "    }\n",
       "\n",
       "    .dataframe tbody tr th {\n",
       "        vertical-align: top;\n",
       "    }\n",
       "\n",
       "    .dataframe thead th {\n",
       "        text-align: right;\n",
       "    }\n",
       "</style>\n",
       "<table border=\"1\" class=\"dataframe\">\n",
       "  <thead>\n",
       "    <tr style=\"text-align: right;\">\n",
       "      <th></th>\n",
       "      <th>Integers</th>\n",
       "      <th>Floats</th>\n",
       "    </tr>\n",
       "  </thead>\n",
       "  <tbody>\n",
       "    <tr>\n",
       "      <th>label 1</th>\n",
       "      <td>1</td>\n",
       "      <td>4.5</td>\n",
       "    </tr>\n",
       "    <tr>\n",
       "      <th>label 2</th>\n",
       "      <td>2</td>\n",
       "      <td>8.2</td>\n",
       "    </tr>\n",
       "    <tr>\n",
       "      <th>label 3</th>\n",
       "      <td>3</td>\n",
       "      <td>9.6</td>\n",
       "    </tr>\n",
       "  </tbody>\n",
       "</table>\n",
       "</div>"
      ],
      "text/plain": [
       "         Integers  Floats\n",
       "label 1         1     4.5\n",
       "label 2         2     8.2\n",
       "label 3         3     9.6"
      ]
     },
     "execution_count": 141,
     "metadata": {},
     "output_type": "execute_result"
    }
   ],
   "source": [
    "# create a DataFrame and provide the row index\n",
    "df = pd.DataFrame(data, index = ['label 1', 'label 2', 'label 3'])\n",
    "df"
   ]
  },
  {
   "cell_type": "code",
   "execution_count": 142,
   "id": "d8ef4a22",
   "metadata": {},
   "outputs": [
    {
     "data": {
      "text/html": [
       "<div>\n",
       "<style scoped>\n",
       "    .dataframe tbody tr th:only-of-type {\n",
       "        vertical-align: middle;\n",
       "    }\n",
       "\n",
       "    .dataframe tbody tr th {\n",
       "        vertical-align: top;\n",
       "    }\n",
       "\n",
       "    .dataframe thead th {\n",
       "        text-align: right;\n",
       "    }\n",
       "</style>\n",
       "<table border=\"1\" class=\"dataframe\">\n",
       "  <thead>\n",
       "    <tr style=\"text-align: right;\">\n",
       "      <th></th>\n",
       "      <th>bikes</th>\n",
       "      <th>pants</th>\n",
       "      <th>watches</th>\n",
       "      <th>glasses</th>\n",
       "    </tr>\n",
       "  </thead>\n",
       "  <tbody>\n",
       "    <tr>\n",
       "      <th>0</th>\n",
       "      <td>20</td>\n",
       "      <td>30</td>\n",
       "      <td>35</td>\n",
       "      <td>NaN</td>\n",
       "    </tr>\n",
       "    <tr>\n",
       "      <th>1</th>\n",
       "      <td>15</td>\n",
       "      <td>5</td>\n",
       "      <td>10</td>\n",
       "      <td>50.0</td>\n",
       "    </tr>\n",
       "  </tbody>\n",
       "</table>\n",
       "</div>"
      ],
      "text/plain": [
       "   bikes  pants  watches  glasses\n",
       "0     20     30       35      NaN\n",
       "1     15      5       10     50.0"
      ]
     },
     "execution_count": 142,
     "metadata": {},
     "output_type": "execute_result"
    }
   ],
   "source": [
    "# create DataFrames from a list of Python dictionaries\n",
    "# create a list of Python dictionaries\n",
    "items2 = [{'bikes': 20, 'pants': 30, 'watches': 35}, \n",
    "          {'watches': 10, 'glasses': 50, 'bikes': 15, 'pants':5}]\n",
    "\n",
    "# create a DataFrame \n",
    "store_items = pd.DataFrame(items2)\n",
    "store_items"
   ]
  },
  {
   "cell_type": "code",
   "execution_count": 143,
   "id": "a04257a9",
   "metadata": {},
   "outputs": [
    {
     "data": {
      "text/html": [
       "<div>\n",
       "<style scoped>\n",
       "    .dataframe tbody tr th:only-of-type {\n",
       "        vertical-align: middle;\n",
       "    }\n",
       "\n",
       "    .dataframe tbody tr th {\n",
       "        vertical-align: top;\n",
       "    }\n",
       "\n",
       "    .dataframe thead th {\n",
       "        text-align: right;\n",
       "    }\n",
       "</style>\n",
       "<table border=\"1\" class=\"dataframe\">\n",
       "  <thead>\n",
       "    <tr style=\"text-align: right;\">\n",
       "      <th></th>\n",
       "      <th>bikes</th>\n",
       "      <th>pants</th>\n",
       "      <th>watches</th>\n",
       "      <th>glasses</th>\n",
       "    </tr>\n",
       "  </thead>\n",
       "  <tbody>\n",
       "    <tr>\n",
       "      <th>store 1</th>\n",
       "      <td>20</td>\n",
       "      <td>30</td>\n",
       "      <td>35</td>\n",
       "      <td>NaN</td>\n",
       "    </tr>\n",
       "    <tr>\n",
       "      <th>store 2</th>\n",
       "      <td>15</td>\n",
       "      <td>5</td>\n",
       "      <td>10</td>\n",
       "      <td>50.0</td>\n",
       "    </tr>\n",
       "  </tbody>\n",
       "</table>\n",
       "</div>"
      ],
      "text/plain": [
       "         bikes  pants  watches  glasses\n",
       "store 1     20     30       35      NaN\n",
       "store 2     15      5       10     50.0"
      ]
     },
     "execution_count": 143,
     "metadata": {},
     "output_type": "execute_result"
    }
   ],
   "source": [
    "# create a DataFrame and provide the row index\n",
    "store_items = pd.DataFrame(items2, index = ['store 1', 'store 2'])\n",
    "store_items"
   ]
  },
  {
   "cell_type": "code",
   "execution_count": 144,
   "id": "e387d6fc",
   "metadata": {},
   "outputs": [
    {
     "name": "stdout",
     "output_type": "stream",
     "text": [
      "shopping_carts has shape: (5, 2)\n",
      "shopping_carts has dimension: 2\n",
      "shopping_carts has a total of: 10 elements\n",
      "\n",
      "The data in shopping_carts is:\n",
      " [[245. 500.]\n",
      " [ nan  40.]\n",
      " [ nan 110.]\n",
      " [ 25.  45.]\n",
      " [ 55.  nan]]\n",
      "\n",
      "The row index in shopping_carts is: Index(['bike', 'book', 'glasses', 'pants', 'watch'], dtype='object')\n",
      "\n",
      "The column index in shopping_carts is: Index(['Bob', 'Alice'], dtype='object')\n"
     ]
    }
   ],
   "source": [
    "print('shopping_carts has shape:', shopping_carts.shape)\n",
    "print('shopping_carts has dimension:', shopping_carts.ndim)\n",
    "print('shopping_carts has a total of:', shopping_carts.size, 'elements')\n",
    "print()\n",
    "print('The data in shopping_carts is:\\n', shopping_carts.values)\n",
    "print()\n",
    "print('The row index in shopping_carts is:', shopping_carts.index)\n",
    "print()\n",
    "print('The column index in shopping_carts is:', shopping_carts.columns)"
   ]
  },
  {
   "cell_type": "markdown",
   "id": "fee7d160",
   "metadata": {},
   "source": [
    "### Create dictionary from a bunch of Series/data"
   ]
  },
  {
   "cell_type": "code",
   "execution_count": 145,
   "id": "a89e10d7",
   "metadata": {},
   "outputs": [
    {
     "data": {
      "text/html": [
       "<div>\n",
       "<style scoped>\n",
       "    .dataframe tbody tr th:only-of-type {\n",
       "        vertical-align: middle;\n",
       "    }\n",
       "\n",
       "    .dataframe tbody tr th {\n",
       "        vertical-align: top;\n",
       "    }\n",
       "\n",
       "    .dataframe thead th {\n",
       "        text-align: right;\n",
       "    }\n",
       "</style>\n",
       "<table border=\"1\" class=\"dataframe\">\n",
       "  <thead>\n",
       "    <tr style=\"text-align: right;\">\n",
       "      <th></th>\n",
       "      <th>Author</th>\n",
       "      <th>Book Title</th>\n",
       "      <th>User 1</th>\n",
       "      <th>User 2</th>\n",
       "      <th>User 3</th>\n",
       "      <th>User 4</th>\n",
       "    </tr>\n",
       "  </thead>\n",
       "  <tbody>\n",
       "    <tr>\n",
       "      <th>0</th>\n",
       "      <td>Charles Dickens</td>\n",
       "      <td>Great Expectations</td>\n",
       "      <td>3.2</td>\n",
       "      <td>5.0</td>\n",
       "      <td>2.0</td>\n",
       "      <td>4.0</td>\n",
       "    </tr>\n",
       "    <tr>\n",
       "      <th>1</th>\n",
       "      <td>John Steinbeck</td>\n",
       "      <td>Of Mice and Men</td>\n",
       "      <td>NaN</td>\n",
       "      <td>1.3</td>\n",
       "      <td>2.3</td>\n",
       "      <td>3.5</td>\n",
       "    </tr>\n",
       "    <tr>\n",
       "      <th>2</th>\n",
       "      <td>William Shakespeare</td>\n",
       "      <td>Romeo and Juliet</td>\n",
       "      <td>2.5</td>\n",
       "      <td>4.0</td>\n",
       "      <td>NaN</td>\n",
       "      <td>4.0</td>\n",
       "    </tr>\n",
       "    <tr>\n",
       "      <th>3</th>\n",
       "      <td>H. G. Wells</td>\n",
       "      <td>The Time Machine</td>\n",
       "      <td>NaN</td>\n",
       "      <td>3.8</td>\n",
       "      <td>4.0</td>\n",
       "      <td>5.0</td>\n",
       "    </tr>\n",
       "    <tr>\n",
       "      <th>4</th>\n",
       "      <td>Lewis Carroll</td>\n",
       "      <td>Alice in Wonderland</td>\n",
       "      <td>NaN</td>\n",
       "      <td>NaN</td>\n",
       "      <td>NaN</td>\n",
       "      <td>4.2</td>\n",
       "    </tr>\n",
       "  </tbody>\n",
       "</table>\n",
       "</div>"
      ],
      "text/plain": [
       "                Author           Book Title  User 1  User 2  User 3  User 4\n",
       "0      Charles Dickens   Great Expectations     3.2     5.0     2.0     4.0\n",
       "1       John Steinbeck      Of Mice and Men     NaN     1.3     2.3     3.5\n",
       "2  William Shakespeare     Romeo and Juliet     2.5     4.0     NaN     4.0\n",
       "3          H. G. Wells     The Time Machine     NaN     3.8     4.0     5.0\n",
       "4        Lewis Carroll  Alice in Wonderland     NaN     NaN     NaN     4.2"
      ]
     },
     "execution_count": 145,
     "metadata": {},
     "output_type": "execute_result"
    }
   ],
   "source": [
    "books = pd.Series(data = ['Great Expectations', 'Of Mice and Men', 'Romeo and Juliet', 'The Time Machine',\n",
    "                          'Alice in Wonderland' ])\n",
    "authors = pd.Series(data = ['Charles Dickens', 'John Steinbeck', 'William Shakespeare', ' H. G. Wells', 'Lewis Carroll' ])\n",
    "user_1 = pd.Series(data = [3.2, np.nan ,2.5])\n",
    "user_2 = pd.Series(data = [5., 1.3, 4.0, 3.8])\n",
    "user_3 = pd.Series(data = [2.0, 2.3, np.nan, 4])\n",
    "user_4 = pd.Series(data = [4, 3.5, 4, 5, 4.2])\n",
    "\n",
    "# Create a dictionary with the data given above\n",
    "a_dict = {'Author':authors,'Book Title':books,'User 1':user_1, 'User 2':user_2, 'User 3':user_3, 'User 4':user_4}\n",
    "\n",
    "# Use the dictionary to create a Pandas DataFrame\n",
    "book_ratings = pd.DataFrame(a_dict)\n",
    "book_ratings[:5]"
   ]
  },
  {
   "cell_type": "code",
   "execution_count": 146,
   "id": "cf4ac1ff",
   "metadata": {},
   "outputs": [
    {
     "data": {
      "text/plain": [
       "array([['Charles Dickens', 'Great Expectations', 3.2, 5.0, 2.0, 4.0],\n",
       "       ['John Steinbeck', 'Of Mice and Men', nan, 1.3, 2.3, 3.5],\n",
       "       ['William Shakespeare', 'Romeo and Juliet', 2.5, 4.0, nan, 4.0],\n",
       "       [' H. G. Wells', 'The Time Machine', nan, 3.8, 4.0, 5.0],\n",
       "       ['Lewis Carroll', 'Alice in Wonderland', nan, nan, nan, 4.2]],\n",
       "      dtype=object)"
      ]
     },
     "execution_count": 146,
     "metadata": {},
     "output_type": "execute_result"
    }
   ],
   "source": [
    "# convert to numpy array (remove the column names, get just the values to convert it into a numpy array)\n",
    "book_ratings_numpy = book_ratings.values\n",
    "book_ratings_numpy"
   ]
  },
  {
   "cell_type": "code",
   "execution_count": null,
   "id": "d72ec468",
   "metadata": {},
   "outputs": [],
   "source": [
    "#### create a DataFrame from a dictionary\n",
    "pd.DataFrame({‘column_x’:[‘value_x1’, ‘value_x2’, ‘value_x3’], ‘column_y’:[‘value_y1’, ‘value_y2’, ‘value_y3’]})\n",
    "\n",
    "#### create a DataFrame from a list of lists\n",
    "pd.DataFrame([[‘value_x1’, ‘value_y1’], [‘value_x2’, ‘value_y2’], [‘value_x3’, ‘value_y3’]], columns=[‘column_x’, ‘column_y’])"
   ]
  },
  {
   "cell_type": "markdown",
   "id": "f2601e84",
   "metadata": {},
   "source": [
    "### Access Elements"
   ]
  },
  {
   "cell_type": "code",
   "execution_count": 147,
   "id": "dd080b52",
   "metadata": {},
   "outputs": [
    {
     "name": "stdout",
     "output_type": "stream",
     "text": [
      "How many bikes are in each store:\n",
      "          bikes\n",
      "store 1     20\n",
      "store 2     15\n",
      "\n",
      "How many bikes and pants are in each store:\n",
      "          bikes  pants\n",
      "store 1     20     30\n",
      "store 2     15      5\n",
      "\n",
      "What items are in Store 1:\n",
      "          bikes  pants  watches  glasses\n",
      "store 1     20     30       35      NaN\n",
      "\n",
      "How many bikes are in Store 2: 15\n"
     ]
    }
   ],
   "source": [
    "print('How many bikes are in each store:\\n', store_items[['bikes']])\n",
    "print()\n",
    "print('How many bikes and pants are in each store:\\n', store_items[['bikes', 'pants']])\n",
    "print()\n",
    "print('What items are in Store 1:\\n', store_items.loc[['store 1']])\n",
    "print()\n",
    "print('How many bikes are in Store 2:', store_items['bikes']['store 2'])\n",
    "# when accessing individual elements in a DataFrame, the labels\n",
    "# should always be provided with the column label first,\n",
    "# i.e. in the form dataframe[column][row]\n",
    "# store_items for reference:\n",
    "#          bikes\tglasses\tpants\twatches\n",
    "# store 1\t    20\t   NaN\t   30\t     35\n",
    "# store 2\t    15\t  50.0\t    5\t     10"
   ]
  },
  {
   "cell_type": "markdown",
   "id": "7805ec8d",
   "metadata": {},
   "source": [
    "### Modify Elements"
   ]
  },
  {
   "cell_type": "code",
   "execution_count": 148,
   "id": "06df0c97",
   "metadata": {},
   "outputs": [
    {
     "data": {
      "text/html": [
       "<div>\n",
       "<style scoped>\n",
       "    .dataframe tbody tr th:only-of-type {\n",
       "        vertical-align: middle;\n",
       "    }\n",
       "\n",
       "    .dataframe tbody tr th {\n",
       "        vertical-align: top;\n",
       "    }\n",
       "\n",
       "    .dataframe thead th {\n",
       "        text-align: right;\n",
       "    }\n",
       "</style>\n",
       "<table border=\"1\" class=\"dataframe\">\n",
       "  <thead>\n",
       "    <tr style=\"text-align: right;\">\n",
       "      <th></th>\n",
       "      <th>bikes</th>\n",
       "      <th>pants</th>\n",
       "      <th>watches</th>\n",
       "      <th>glasses</th>\n",
       "      <th>shirts</th>\n",
       "    </tr>\n",
       "  </thead>\n",
       "  <tbody>\n",
       "    <tr>\n",
       "      <th>store 1</th>\n",
       "      <td>20</td>\n",
       "      <td>30</td>\n",
       "      <td>35</td>\n",
       "      <td>NaN</td>\n",
       "      <td>15</td>\n",
       "    </tr>\n",
       "    <tr>\n",
       "      <th>store 2</th>\n",
       "      <td>15</td>\n",
       "      <td>5</td>\n",
       "      <td>10</td>\n",
       "      <td>50.0</td>\n",
       "      <td>2</td>\n",
       "    </tr>\n",
       "  </tbody>\n",
       "</table>\n",
       "</div>"
      ],
      "text/plain": [
       "         bikes  pants  watches  glasses  shirts\n",
       "store 1     20     30       35      NaN      15\n",
       "store 2     15      5       10     50.0       2"
      ]
     },
     "execution_count": 148,
     "metadata": {},
     "output_type": "execute_result"
    }
   ],
   "source": [
    "# Add new column (adds it to the end of the df)\n",
    "store_items['shirts'] = [15,2]\n",
    "store_items"
   ]
  },
  {
   "cell_type": "code",
   "execution_count": 149,
   "id": "8531856d",
   "metadata": {},
   "outputs": [
    {
     "data": {
      "text/html": [
       "<div>\n",
       "<style scoped>\n",
       "    .dataframe tbody tr th:only-of-type {\n",
       "        vertical-align: middle;\n",
       "    }\n",
       "\n",
       "    .dataframe tbody tr th {\n",
       "        vertical-align: top;\n",
       "    }\n",
       "\n",
       "    .dataframe thead th {\n",
       "        text-align: right;\n",
       "    }\n",
       "</style>\n",
       "<table border=\"1\" class=\"dataframe\">\n",
       "  <thead>\n",
       "    <tr style=\"text-align: right;\">\n",
       "      <th></th>\n",
       "      <th>bikes</th>\n",
       "      <th>pants</th>\n",
       "      <th>watches</th>\n",
       "      <th>glasses</th>\n",
       "      <th>shirts</th>\n",
       "      <th>suits</th>\n",
       "    </tr>\n",
       "  </thead>\n",
       "  <tbody>\n",
       "    <tr>\n",
       "      <th>store 1</th>\n",
       "      <td>20</td>\n",
       "      <td>30</td>\n",
       "      <td>35</td>\n",
       "      <td>NaN</td>\n",
       "      <td>15</td>\n",
       "      <td>45</td>\n",
       "    </tr>\n",
       "    <tr>\n",
       "      <th>store 2</th>\n",
       "      <td>15</td>\n",
       "      <td>5</td>\n",
       "      <td>10</td>\n",
       "      <td>50.0</td>\n",
       "      <td>2</td>\n",
       "      <td>7</td>\n",
       "    </tr>\n",
       "  </tbody>\n",
       "</table>\n",
       "</div>"
      ],
      "text/plain": [
       "         bikes  pants  watches  glasses  shirts  suits\n",
       "store 1     20     30       35      NaN      15     45\n",
       "store 2     15      5       10     50.0       2      7"
      ]
     },
     "execution_count": 149,
     "metadata": {},
     "output_type": "execute_result"
    }
   ],
   "source": [
    "# New column via artihmetic operations b/w columns\n",
    "store_items['suits'] = store_items['pants'] + store_items['shirts']\n",
    "store_items"
   ]
  },
  {
   "cell_type": "code",
   "execution_count": 150,
   "id": "4fa2fb71",
   "metadata": {},
   "outputs": [
    {
     "data": {
      "text/html": [
       "<div>\n",
       "<style scoped>\n",
       "    .dataframe tbody tr th:only-of-type {\n",
       "        vertical-align: middle;\n",
       "    }\n",
       "\n",
       "    .dataframe tbody tr th {\n",
       "        vertical-align: top;\n",
       "    }\n",
       "\n",
       "    .dataframe thead th {\n",
       "        text-align: right;\n",
       "    }\n",
       "</style>\n",
       "<table border=\"1\" class=\"dataframe\">\n",
       "  <thead>\n",
       "    <tr style=\"text-align: right;\">\n",
       "      <th></th>\n",
       "      <th>bikes</th>\n",
       "      <th>pants</th>\n",
       "      <th>watches</th>\n",
       "      <th>glasses</th>\n",
       "      <th>shoees</th>\n",
       "      <th>shirts</th>\n",
       "      <th>suits</th>\n",
       "    </tr>\n",
       "  </thead>\n",
       "  <tbody>\n",
       "    <tr>\n",
       "      <th>store 1</th>\n",
       "      <td>20</td>\n",
       "      <td>30</td>\n",
       "      <td>35</td>\n",
       "      <td>NaN</td>\n",
       "      <td>8</td>\n",
       "      <td>15.0</td>\n",
       "      <td>45.0</td>\n",
       "    </tr>\n",
       "    <tr>\n",
       "      <th>store 2</th>\n",
       "      <td>15</td>\n",
       "      <td>5</td>\n",
       "      <td>10</td>\n",
       "      <td>50.0</td>\n",
       "      <td>5</td>\n",
       "      <td>2.0</td>\n",
       "      <td>7.0</td>\n",
       "    </tr>\n",
       "    <tr>\n",
       "      <th>store 3</th>\n",
       "      <td>20</td>\n",
       "      <td>30</td>\n",
       "      <td>35</td>\n",
       "      <td>4.0</td>\n",
       "      <td>0</td>\n",
       "      <td>NaN</td>\n",
       "      <td>NaN</td>\n",
       "    </tr>\n",
       "  </tbody>\n",
       "</table>\n",
       "</div>"
      ],
      "text/plain": [
       "         bikes  pants  watches  glasses  shoees  shirts  suits\n",
       "store 1     20     30       35      NaN       8    15.0   45.0\n",
       "store 2     15      5       10     50.0       5     2.0    7.0\n",
       "store 3     20     30       35      4.0       0     NaN    NaN"
      ]
     },
     "execution_count": 150,
     "metadata": {},
     "output_type": "execute_result"
    }
   ],
   "source": [
    "# Add new row\n",
    "# To add rows to our df, create a new df then append it to the original df\n",
    "# create a dictionary from a list of Python dictionaries\n",
    "new_items = [{'bikes': 20, 'pants': 30, 'watches': 35, 'glasses': 4}]\n",
    "# create new DataFrame with the new_items and provide and index labeled store 3\n",
    "new_store = pd.DataFrame(new_items, index = ['store 3'])\n",
    "# append store 3 to our store_items DataFrame\n",
    "store_items = store_items.append(new_store)\n",
    "# insert a new column with label shoes right before the column with numerical index 4\n",
    "store_items.insert(4, 'shoees', [8,5,0])\n",
    "store_items"
   ]
  },
  {
   "cell_type": "markdown",
   "id": "b4ab68ae",
   "metadata": {},
   "source": [
    "### Delete Element"
   ]
  },
  {
   "cell_type": "code",
   "execution_count": 151,
   "id": "cac590b8",
   "metadata": {},
   "outputs": [
    {
     "data": {
      "text/html": [
       "<div>\n",
       "<style scoped>\n",
       "    .dataframe tbody tr th:only-of-type {\n",
       "        vertical-align: middle;\n",
       "    }\n",
       "\n",
       "    .dataframe tbody tr th {\n",
       "        vertical-align: top;\n",
       "    }\n",
       "\n",
       "    .dataframe thead th {\n",
       "        text-align: right;\n",
       "    }\n",
       "</style>\n",
       "<table border=\"1\" class=\"dataframe\">\n",
       "  <thead>\n",
       "    <tr style=\"text-align: right;\">\n",
       "      <th></th>\n",
       "      <th>bikes</th>\n",
       "      <th>pants</th>\n",
       "      <th>glasses</th>\n",
       "      <th>shoees</th>\n",
       "      <th>shirts</th>\n",
       "      <th>suits</th>\n",
       "    </tr>\n",
       "  </thead>\n",
       "  <tbody>\n",
       "    <tr>\n",
       "      <th>store 1</th>\n",
       "      <td>20</td>\n",
       "      <td>30</td>\n",
       "      <td>NaN</td>\n",
       "      <td>8</td>\n",
       "      <td>15.0</td>\n",
       "      <td>45.0</td>\n",
       "    </tr>\n",
       "    <tr>\n",
       "      <th>store 2</th>\n",
       "      <td>15</td>\n",
       "      <td>5</td>\n",
       "      <td>50.0</td>\n",
       "      <td>5</td>\n",
       "      <td>2.0</td>\n",
       "      <td>7.0</td>\n",
       "    </tr>\n",
       "    <tr>\n",
       "      <th>store 3</th>\n",
       "      <td>20</td>\n",
       "      <td>30</td>\n",
       "      <td>4.0</td>\n",
       "      <td>0</td>\n",
       "      <td>NaN</td>\n",
       "      <td>NaN</td>\n",
       "    </tr>\n",
       "  </tbody>\n",
       "</table>\n",
       "</div>"
      ],
      "text/plain": [
       "         bikes  pants  glasses  shoees  shirts  suits\n",
       "store 1     20     30      NaN       8    15.0   45.0\n",
       "store 2     15      5     50.0       5     2.0    7.0\n",
       "store 3     20     30      4.0       0     NaN    NaN"
      ]
     },
     "execution_count": 151,
     "metadata": {},
     "output_type": "execute_result"
    }
   ],
   "source": [
    "# .pop() method only allows us to delete columns, while the .drop()\n",
    "# method can be used to delete both rows and columns by use of the axis keyword\n",
    "# remove the new watches column\n",
    "store_items.pop('watches')\n",
    "store_items"
   ]
  },
  {
   "cell_type": "code",
   "execution_count": null,
   "id": "0ae5ad79",
   "metadata": {},
   "outputs": [],
   "source": [
    "# remove the watches and shoes columns\n",
    "store_items = store_items.drop(['shoes', 'shoees'], axis = 1)\n",
    "store_items"
   ]
  },
  {
   "cell_type": "code",
   "execution_count": null,
   "id": "01fd66cc",
   "metadata": {},
   "outputs": [],
   "source": [
    "# remove the store 2 and store 1 rows\n",
    "store_items = store_items.drop(['store 2', 'store 1'], axis = 0)\n",
    "store_items"
   ]
  },
  {
   "cell_type": "markdown",
   "id": "15ecbbdd",
   "metadata": {},
   "source": [
    "### Rename the row and column labels"
   ]
  },
  {
   "cell_type": "code",
   "execution_count": 153,
   "id": "21d57891",
   "metadata": {},
   "outputs": [
    {
     "data": {
      "text/html": [
       "<div>\n",
       "<style scoped>\n",
       "    .dataframe tbody tr th:only-of-type {\n",
       "        vertical-align: middle;\n",
       "    }\n",
       "\n",
       "    .dataframe tbody tr th {\n",
       "        vertical-align: top;\n",
       "    }\n",
       "\n",
       "    .dataframe thead th {\n",
       "        text-align: right;\n",
       "    }\n",
       "</style>\n",
       "<table border=\"1\" class=\"dataframe\">\n",
       "  <thead>\n",
       "    <tr style=\"text-align: right;\">\n",
       "      <th></th>\n",
       "      <th>hats</th>\n",
       "      <th>pants</th>\n",
       "      <th>glasses</th>\n",
       "      <th>shoees</th>\n",
       "      <th>shirts</th>\n",
       "      <th>suits</th>\n",
       "    </tr>\n",
       "  </thead>\n",
       "  <tbody>\n",
       "    <tr>\n",
       "      <th>store 1</th>\n",
       "      <td>20</td>\n",
       "      <td>30</td>\n",
       "      <td>NaN</td>\n",
       "      <td>8</td>\n",
       "      <td>15.0</td>\n",
       "      <td>45.0</td>\n",
       "    </tr>\n",
       "    <tr>\n",
       "      <th>store 2</th>\n",
       "      <td>15</td>\n",
       "      <td>5</td>\n",
       "      <td>50.0</td>\n",
       "      <td>5</td>\n",
       "      <td>2.0</td>\n",
       "      <td>7.0</td>\n",
       "    </tr>\n",
       "    <tr>\n",
       "      <th>store 3</th>\n",
       "      <td>20</td>\n",
       "      <td>30</td>\n",
       "      <td>4.0</td>\n",
       "      <td>0</td>\n",
       "      <td>NaN</td>\n",
       "      <td>NaN</td>\n",
       "    </tr>\n",
       "  </tbody>\n",
       "</table>\n",
       "</div>"
      ],
      "text/plain": [
       "         hats  pants  glasses  shoees  shirts  suits\n",
       "store 1    20     30      NaN       8    15.0   45.0\n",
       "store 2    15      5     50.0       5     2.0    7.0\n",
       "store 3    20     30      4.0       0     NaN    NaN"
      ]
     },
     "execution_count": 153,
     "metadata": {},
     "output_type": "execute_result"
    }
   ],
   "source": [
    "# change the column label\n",
    "store_items = store_items.rename(columns = {'bikes': 'hats'})\n",
    "store_items"
   ]
  },
  {
   "cell_type": "code",
   "execution_count": 154,
   "id": "3125f630",
   "metadata": {},
   "outputs": [
    {
     "data": {
      "text/html": [
       "<div>\n",
       "<style scoped>\n",
       "    .dataframe tbody tr th:only-of-type {\n",
       "        vertical-align: middle;\n",
       "    }\n",
       "\n",
       "    .dataframe tbody tr th {\n",
       "        vertical-align: top;\n",
       "    }\n",
       "\n",
       "    .dataframe thead th {\n",
       "        text-align: right;\n",
       "    }\n",
       "</style>\n",
       "<table border=\"1\" class=\"dataframe\">\n",
       "  <thead>\n",
       "    <tr style=\"text-align: right;\">\n",
       "      <th></th>\n",
       "      <th>hats</th>\n",
       "      <th>pants</th>\n",
       "      <th>glasses</th>\n",
       "      <th>shoees</th>\n",
       "      <th>shirts</th>\n",
       "      <th>suits</th>\n",
       "    </tr>\n",
       "  </thead>\n",
       "  <tbody>\n",
       "    <tr>\n",
       "      <th>store 1</th>\n",
       "      <td>20</td>\n",
       "      <td>30</td>\n",
       "      <td>NaN</td>\n",
       "      <td>8</td>\n",
       "      <td>15.0</td>\n",
       "      <td>45.0</td>\n",
       "    </tr>\n",
       "    <tr>\n",
       "      <th>store 2</th>\n",
       "      <td>15</td>\n",
       "      <td>5</td>\n",
       "      <td>50.0</td>\n",
       "      <td>5</td>\n",
       "      <td>2.0</td>\n",
       "      <td>7.0</td>\n",
       "    </tr>\n",
       "    <tr>\n",
       "      <th>last store</th>\n",
       "      <td>20</td>\n",
       "      <td>30</td>\n",
       "      <td>4.0</td>\n",
       "      <td>0</td>\n",
       "      <td>NaN</td>\n",
       "      <td>NaN</td>\n",
       "    </tr>\n",
       "  </tbody>\n",
       "</table>\n",
       "</div>"
      ],
      "text/plain": [
       "            hats  pants  glasses  shoees  shirts  suits\n",
       "store 1       20     30      NaN       8    15.0   45.0\n",
       "store 2       15      5     50.0       5     2.0    7.0\n",
       "last store    20     30      4.0       0     NaN    NaN"
      ]
     },
     "execution_count": 154,
     "metadata": {},
     "output_type": "execute_result"
    }
   ],
   "source": [
    "# change the row label\n",
    "store_items = store_items.rename(index = {'store 3': 'last store'})\n",
    "store_items"
   ]
  },
  {
   "cell_type": "markdown",
   "id": "ac2656e3",
   "metadata": {},
   "source": [
    "### change the index"
   ]
  },
  {
   "cell_type": "code",
   "execution_count": 155,
   "id": "7d9b10f5",
   "metadata": {},
   "outputs": [
    {
     "data": {
      "text/html": [
       "<div>\n",
       "<style scoped>\n",
       "    .dataframe tbody tr th:only-of-type {\n",
       "        vertical-align: middle;\n",
       "    }\n",
       "\n",
       "    .dataframe tbody tr th {\n",
       "        vertical-align: top;\n",
       "    }\n",
       "\n",
       "    .dataframe thead th {\n",
       "        text-align: right;\n",
       "    }\n",
       "</style>\n",
       "<table border=\"1\" class=\"dataframe\">\n",
       "  <thead>\n",
       "    <tr style=\"text-align: right;\">\n",
       "      <th></th>\n",
       "      <th>hats</th>\n",
       "      <th>glasses</th>\n",
       "      <th>shoees</th>\n",
       "      <th>shirts</th>\n",
       "      <th>suits</th>\n",
       "    </tr>\n",
       "    <tr>\n",
       "      <th>pants</th>\n",
       "      <th></th>\n",
       "      <th></th>\n",
       "      <th></th>\n",
       "      <th></th>\n",
       "      <th></th>\n",
       "    </tr>\n",
       "  </thead>\n",
       "  <tbody>\n",
       "    <tr>\n",
       "      <th>30</th>\n",
       "      <td>20</td>\n",
       "      <td>NaN</td>\n",
       "      <td>8</td>\n",
       "      <td>15.0</td>\n",
       "      <td>45.0</td>\n",
       "    </tr>\n",
       "    <tr>\n",
       "      <th>5</th>\n",
       "      <td>15</td>\n",
       "      <td>50.0</td>\n",
       "      <td>5</td>\n",
       "      <td>2.0</td>\n",
       "      <td>7.0</td>\n",
       "    </tr>\n",
       "    <tr>\n",
       "      <th>30</th>\n",
       "      <td>20</td>\n",
       "      <td>4.0</td>\n",
       "      <td>0</td>\n",
       "      <td>NaN</td>\n",
       "      <td>NaN</td>\n",
       "    </tr>\n",
       "  </tbody>\n",
       "</table>\n",
       "</div>"
      ],
      "text/plain": [
       "       hats  glasses  shoees  shirts  suits\n",
       "pants                                      \n",
       "30       20      NaN       8    15.0   45.0\n",
       "5        15     50.0       5     2.0    7.0\n",
       "30       20      4.0       0     NaN    NaN"
      ]
     },
     "execution_count": 155,
     "metadata": {},
     "output_type": "execute_result"
    }
   ],
   "source": [
    "# change the index to be one of the columns in the DataFrame\n",
    "store_items = store_items.set_index('pants')\n",
    "store_items"
   ]
  },
  {
   "cell_type": "markdown",
   "id": "ca0602aa",
   "metadata": {},
   "source": [
    "### Dealing with NaN values (missing data)"
   ]
  },
  {
   "cell_type": "code",
   "execution_count": 156,
   "id": "eac4843b",
   "metadata": {},
   "outputs": [
    {
     "data": {
      "text/plain": [
       "Integers    False\n",
       "Floats      False\n",
       "dtype: bool"
      ]
     },
     "execution_count": 156,
     "metadata": {},
     "output_type": "execute_result"
    }
   ],
   "source": [
    "# create a list of Python dictionaries\n",
    "items2 = [{'bikes': 20, 'pants': 30, 'watches': 35, 'shirts': 15, 'shoes':8, 'suits':45},\n",
    "{'watches': 10, 'glasses': 50, 'bikes': 15, 'pants':5, 'shirts': 2, 'shoes':5, 'suits':7},\n",
    "{'bikes': 20, 'pants': 30, 'watches': 35, 'glasses': 4, 'shoes':10}]\n",
    "\n",
    "# We create a DataFrame and provide the row index\n",
    "store_items = pd.DataFrame(items2, index = ['store 1', 'store 2', 'store 3'])\n",
    "\n",
    "# check if we have any NaN values in our dataset\n",
    "# .any() performs an or operation. If any of the values along the\n",
    "# specified axis is True, this will return True.\n",
    "df.isnull().any()"
   ]
  },
  {
   "cell_type": "code",
   "execution_count": 159,
   "id": "6141c331",
   "metadata": {},
   "outputs": [
    {
     "data": {
      "text/plain": [
       "3"
      ]
     },
     "execution_count": 159,
     "metadata": {},
     "output_type": "execute_result"
    }
   ],
   "source": [
    "# count the number of NaN values in DataFrame\n",
    "x =  store_items.isnull().sum().sum()\n",
    "x"
   ]
  },
  {
   "cell_type": "code",
   "execution_count": 160,
   "id": "c74887cc",
   "metadata": {},
   "outputs": [
    {
     "data": {
      "text/plain": [
       "bikes      3\n",
       "pants      3\n",
       "watches    3\n",
       "shirts     2\n",
       "shoes      3\n",
       "suits      2\n",
       "glasses    2\n",
       "dtype: int64"
      ]
     },
     "execution_count": 160,
     "metadata": {},
     "output_type": "execute_result"
    }
   ],
   "source": [
    "# count the number of non-NaN values in DataFrame\n",
    "x = store_items.count()\n",
    "x"
   ]
  },
  {
   "cell_type": "code",
   "execution_count": 161,
   "id": "f12a16b5",
   "metadata": {},
   "outputs": [
    {
     "data": {
      "text/html": [
       "<div>\n",
       "<style scoped>\n",
       "    .dataframe tbody tr th:only-of-type {\n",
       "        vertical-align: middle;\n",
       "    }\n",
       "\n",
       "    .dataframe tbody tr th {\n",
       "        vertical-align: top;\n",
       "    }\n",
       "\n",
       "    .dataframe thead th {\n",
       "        text-align: right;\n",
       "    }\n",
       "</style>\n",
       "<table border=\"1\" class=\"dataframe\">\n",
       "  <thead>\n",
       "    <tr style=\"text-align: right;\">\n",
       "      <th></th>\n",
       "      <th>bikes</th>\n",
       "      <th>pants</th>\n",
       "      <th>watches</th>\n",
       "      <th>shirts</th>\n",
       "      <th>shoes</th>\n",
       "      <th>suits</th>\n",
       "      <th>glasses</th>\n",
       "    </tr>\n",
       "  </thead>\n",
       "  <tbody>\n",
       "    <tr>\n",
       "      <th>store 2</th>\n",
       "      <td>15</td>\n",
       "      <td>5</td>\n",
       "      <td>10</td>\n",
       "      <td>2.0</td>\n",
       "      <td>5</td>\n",
       "      <td>7.0</td>\n",
       "      <td>50.0</td>\n",
       "    </tr>\n",
       "  </tbody>\n",
       "</table>\n",
       "</div>"
      ],
      "text/plain": [
       "         bikes  pants  watches  shirts  shoes  suits  glasses\n",
       "store 2     15      5       10     2.0      5    7.0     50.0"
      ]
     },
     "execution_count": 161,
     "metadata": {},
     "output_type": "execute_result"
    }
   ],
   "source": [
    "# remove rows or columns from our DataFrame that contain any NaN values\n",
    "# drop any rows with NaN values\n",
    "store_items.dropna(axis = 0)"
   ]
  },
  {
   "cell_type": "code",
   "execution_count": 162,
   "id": "073f4462",
   "metadata": {},
   "outputs": [
    {
     "data": {
      "text/html": [
       "<div>\n",
       "<style scoped>\n",
       "    .dataframe tbody tr th:only-of-type {\n",
       "        vertical-align: middle;\n",
       "    }\n",
       "\n",
       "    .dataframe tbody tr th {\n",
       "        vertical-align: top;\n",
       "    }\n",
       "\n",
       "    .dataframe thead th {\n",
       "        text-align: right;\n",
       "    }\n",
       "</style>\n",
       "<table border=\"1\" class=\"dataframe\">\n",
       "  <thead>\n",
       "    <tr style=\"text-align: right;\">\n",
       "      <th></th>\n",
       "      <th>bikes</th>\n",
       "      <th>pants</th>\n",
       "      <th>watches</th>\n",
       "      <th>shoes</th>\n",
       "    </tr>\n",
       "  </thead>\n",
       "  <tbody>\n",
       "    <tr>\n",
       "      <th>store 1</th>\n",
       "      <td>20</td>\n",
       "      <td>30</td>\n",
       "      <td>35</td>\n",
       "      <td>8</td>\n",
       "    </tr>\n",
       "    <tr>\n",
       "      <th>store 2</th>\n",
       "      <td>15</td>\n",
       "      <td>5</td>\n",
       "      <td>10</td>\n",
       "      <td>5</td>\n",
       "    </tr>\n",
       "    <tr>\n",
       "      <th>store 3</th>\n",
       "      <td>20</td>\n",
       "      <td>30</td>\n",
       "      <td>35</td>\n",
       "      <td>10</td>\n",
       "    </tr>\n",
       "  </tbody>\n",
       "</table>\n",
       "</div>"
      ],
      "text/plain": [
       "         bikes  pants  watches  shoes\n",
       "store 1     20     30       35      8\n",
       "store 2     15      5       10      5\n",
       "store 3     20     30       35     10"
      ]
     },
     "execution_count": 162,
     "metadata": {},
     "output_type": "execute_result"
    }
   ],
   "source": [
    "# drop any columns with NaN values\n",
    "store_items.dropna(axis = 1)"
   ]
  },
  {
   "cell_type": "code",
   "execution_count": 163,
   "id": "75044abf",
   "metadata": {},
   "outputs": [],
   "source": [
    "# the original DataFrame is not modified by default\n",
    "# to remove missing values from original df, use inplace = True\n",
    "store_items.dropna(axis = 0, inplace = True)"
   ]
  },
  {
   "cell_type": "code",
   "execution_count": 164,
   "id": "396745f5",
   "metadata": {},
   "outputs": [
    {
     "data": {
      "text/html": [
       "<div>\n",
       "<style scoped>\n",
       "    .dataframe tbody tr th:only-of-type {\n",
       "        vertical-align: middle;\n",
       "    }\n",
       "\n",
       "    .dataframe tbody tr th {\n",
       "        vertical-align: top;\n",
       "    }\n",
       "\n",
       "    .dataframe thead th {\n",
       "        text-align: right;\n",
       "    }\n",
       "</style>\n",
       "<table border=\"1\" class=\"dataframe\">\n",
       "  <thead>\n",
       "    <tr style=\"text-align: right;\">\n",
       "      <th></th>\n",
       "      <th>bikes</th>\n",
       "      <th>pants</th>\n",
       "      <th>watches</th>\n",
       "      <th>shirts</th>\n",
       "      <th>shoes</th>\n",
       "      <th>suits</th>\n",
       "      <th>glasses</th>\n",
       "    </tr>\n",
       "  </thead>\n",
       "  <tbody>\n",
       "    <tr>\n",
       "      <th>store 2</th>\n",
       "      <td>15</td>\n",
       "      <td>5</td>\n",
       "      <td>10</td>\n",
       "      <td>2.0</td>\n",
       "      <td>5</td>\n",
       "      <td>7.0</td>\n",
       "      <td>50.0</td>\n",
       "    </tr>\n",
       "  </tbody>\n",
       "</table>\n",
       "</div>"
      ],
      "text/plain": [
       "         bikes  pants  watches  shirts  shoes  suits  glasses\n",
       "store 2     15      5       10     2.0      5    7.0     50.0"
      ]
     },
     "execution_count": 164,
     "metadata": {},
     "output_type": "execute_result"
    }
   ],
   "source": [
    "# replace all NaN values with 0\n",
    "store_items.fillna(0)"
   ]
  },
  {
   "cell_type": "code",
   "execution_count": 165,
   "id": "0e8d2249",
   "metadata": {},
   "outputs": [
    {
     "data": {
      "text/html": [
       "<div>\n",
       "<style scoped>\n",
       "    .dataframe tbody tr th:only-of-type {\n",
       "        vertical-align: middle;\n",
       "    }\n",
       "\n",
       "    .dataframe tbody tr th {\n",
       "        vertical-align: top;\n",
       "    }\n",
       "\n",
       "    .dataframe thead th {\n",
       "        text-align: right;\n",
       "    }\n",
       "</style>\n",
       "<table border=\"1\" class=\"dataframe\">\n",
       "  <thead>\n",
       "    <tr style=\"text-align: right;\">\n",
       "      <th></th>\n",
       "      <th>bikes</th>\n",
       "      <th>pants</th>\n",
       "      <th>watches</th>\n",
       "      <th>shirts</th>\n",
       "      <th>shoes</th>\n",
       "      <th>suits</th>\n",
       "      <th>glasses</th>\n",
       "    </tr>\n",
       "  </thead>\n",
       "  <tbody>\n",
       "    <tr>\n",
       "      <th>store 2</th>\n",
       "      <td>15</td>\n",
       "      <td>5</td>\n",
       "      <td>10</td>\n",
       "      <td>2.0</td>\n",
       "      <td>5</td>\n",
       "      <td>7.0</td>\n",
       "      <td>50.0</td>\n",
       "    </tr>\n",
       "  </tbody>\n",
       "</table>\n",
       "</div>"
      ],
      "text/plain": [
       "         bikes  pants  watches  shirts  shoes  suits  glasses\n",
       "store 2     15      5       10     2.0      5    7.0     50.0"
      ]
     },
     "execution_count": 165,
     "metadata": {},
     "output_type": "execute_result"
    }
   ],
   "source": [
    "# forward filling: replace NaN values with previous values in the df,\n",
    "# this is known as . When replacing NaN values with forward filling,\n",
    "# we can use previous values taken from columns or rows.\n",
    "# replace NaN values with the previous value in the column\n",
    "store_items.fillna(method = 'ffill', axis = 0)"
   ]
  },
  {
   "cell_type": "code",
   "execution_count": 166,
   "id": "d727f999",
   "metadata": {},
   "outputs": [
    {
     "data": {
      "text/html": [
       "<div>\n",
       "<style scoped>\n",
       "    .dataframe tbody tr th:only-of-type {\n",
       "        vertical-align: middle;\n",
       "    }\n",
       "\n",
       "    .dataframe tbody tr th {\n",
       "        vertical-align: top;\n",
       "    }\n",
       "\n",
       "    .dataframe thead th {\n",
       "        text-align: right;\n",
       "    }\n",
       "</style>\n",
       "<table border=\"1\" class=\"dataframe\">\n",
       "  <thead>\n",
       "    <tr style=\"text-align: right;\">\n",
       "      <th></th>\n",
       "      <th>bikes</th>\n",
       "      <th>pants</th>\n",
       "      <th>watches</th>\n",
       "      <th>shirts</th>\n",
       "      <th>shoes</th>\n",
       "      <th>suits</th>\n",
       "      <th>glasses</th>\n",
       "    </tr>\n",
       "  </thead>\n",
       "  <tbody>\n",
       "    <tr>\n",
       "      <th>store 2</th>\n",
       "      <td>15.0</td>\n",
       "      <td>5.0</td>\n",
       "      <td>10.0</td>\n",
       "      <td>2.0</td>\n",
       "      <td>5.0</td>\n",
       "      <td>7.0</td>\n",
       "      <td>50.0</td>\n",
       "    </tr>\n",
       "  </tbody>\n",
       "</table>\n",
       "</div>"
      ],
      "text/plain": [
       "         bikes  pants  watches  shirts  shoes  suits  glasses\n",
       "store 2   15.0    5.0     10.0     2.0    5.0    7.0     50.0"
      ]
     },
     "execution_count": 166,
     "metadata": {},
     "output_type": "execute_result"
    }
   ],
   "source": [
    "# backward filling: replace the NaN values with the values that\n",
    "# go after them in the DataFrame\n",
    "# replace NaN values with the next value in the row\n",
    "store_items.fillna(method = 'backfill', axis = 1)"
   ]
  },
  {
   "cell_type": "code",
   "execution_count": 167,
   "id": "16ddf8b2",
   "metadata": {},
   "outputs": [
    {
     "data": {
      "text/html": [
       "<div>\n",
       "<style scoped>\n",
       "    .dataframe tbody tr th:only-of-type {\n",
       "        vertical-align: middle;\n",
       "    }\n",
       "\n",
       "    .dataframe tbody tr th {\n",
       "        vertical-align: top;\n",
       "    }\n",
       "\n",
       "    .dataframe thead th {\n",
       "        text-align: right;\n",
       "    }\n",
       "</style>\n",
       "<table border=\"1\" class=\"dataframe\">\n",
       "  <thead>\n",
       "    <tr style=\"text-align: right;\">\n",
       "      <th></th>\n",
       "      <th>bikes</th>\n",
       "      <th>pants</th>\n",
       "      <th>watches</th>\n",
       "      <th>shirts</th>\n",
       "      <th>shoes</th>\n",
       "      <th>suits</th>\n",
       "      <th>glasses</th>\n",
       "    </tr>\n",
       "  </thead>\n",
       "  <tbody>\n",
       "    <tr>\n",
       "      <th>store 2</th>\n",
       "      <td>15</td>\n",
       "      <td>5</td>\n",
       "      <td>10</td>\n",
       "      <td>2.0</td>\n",
       "      <td>5</td>\n",
       "      <td>7.0</td>\n",
       "      <td>50.0</td>\n",
       "    </tr>\n",
       "  </tbody>\n",
       "</table>\n",
       "</div>"
      ],
      "text/plain": [
       "         bikes  pants  watches  shirts  shoes  suits  glasses\n",
       "store 2     15      5       10     2.0      5    7.0     50.0"
      ]
     },
     "execution_count": 167,
     "metadata": {},
     "output_type": "execute_result"
    }
   ],
   "source": [
    "# replace NaN values by using linear interpolation using column values\n",
    "store_items.interpolate(method = 'linear', axis = 0)"
   ]
  },
  {
   "cell_type": "code",
   "execution_count": 168,
   "id": "26d31589",
   "metadata": {},
   "outputs": [],
   "source": [
    "# the original DataFrame is not modified. replace the NaN values\n",
    "# in place by setting inplace = True inside function\n",
    "store_items.fillna(method = 'ffill', axis = 0, inplace = True)\n",
    "store_items.interpolate(method = 'linear', axis = 0, inplace = True)"
   ]
  },
  {
   "cell_type": "markdown",
   "id": "ffd9387f",
   "metadata": {},
   "source": [
    "### head, tail, describe, max, memory_usage"
   ]
  },
  {
   "cell_type": "code",
   "execution_count": 170,
   "id": "297c613c",
   "metadata": {},
   "outputs": [
    {
     "data": {
      "text/html": [
       "<div>\n",
       "<style scoped>\n",
       "    .dataframe tbody tr th:only-of-type {\n",
       "        vertical-align: middle;\n",
       "    }\n",
       "\n",
       "    .dataframe tbody tr th {\n",
       "        vertical-align: top;\n",
       "    }\n",
       "\n",
       "    .dataframe thead th {\n",
       "        text-align: right;\n",
       "    }\n",
       "</style>\n",
       "<table border=\"1\" class=\"dataframe\">\n",
       "  <thead>\n",
       "    <tr style=\"text-align: right;\">\n",
       "      <th></th>\n",
       "      <th>Integers</th>\n",
       "      <th>Floats</th>\n",
       "    </tr>\n",
       "  </thead>\n",
       "  <tbody>\n",
       "    <tr>\n",
       "      <th>label 1</th>\n",
       "      <td>1</td>\n",
       "      <td>4.5</td>\n",
       "    </tr>\n",
       "    <tr>\n",
       "      <th>label 2</th>\n",
       "      <td>2</td>\n",
       "      <td>8.2</td>\n",
       "    </tr>\n",
       "    <tr>\n",
       "      <th>label 3</th>\n",
       "      <td>3</td>\n",
       "      <td>9.6</td>\n",
       "    </tr>\n",
       "  </tbody>\n",
       "</table>\n",
       "</div>"
      ],
      "text/plain": [
       "         Integers  Floats\n",
       "label 1         1     4.5\n",
       "label 2         2     8.2\n",
       "label 3         3     9.6"
      ]
     },
     "execution_count": 170,
     "metadata": {},
     "output_type": "execute_result"
    }
   ],
   "source": [
    "df.head()"
   ]
  },
  {
   "cell_type": "code",
   "execution_count": 171,
   "id": "11de7579",
   "metadata": {},
   "outputs": [
    {
     "data": {
      "text/html": [
       "<div>\n",
       "<style scoped>\n",
       "    .dataframe tbody tr th:only-of-type {\n",
       "        vertical-align: middle;\n",
       "    }\n",
       "\n",
       "    .dataframe tbody tr th {\n",
       "        vertical-align: top;\n",
       "    }\n",
       "\n",
       "    .dataframe thead th {\n",
       "        text-align: right;\n",
       "    }\n",
       "</style>\n",
       "<table border=\"1\" class=\"dataframe\">\n",
       "  <thead>\n",
       "    <tr style=\"text-align: right;\">\n",
       "      <th></th>\n",
       "      <th>Integers</th>\n",
       "      <th>Floats</th>\n",
       "    </tr>\n",
       "  </thead>\n",
       "  <tbody>\n",
       "    <tr>\n",
       "      <th>label 1</th>\n",
       "      <td>1</td>\n",
       "      <td>4.5</td>\n",
       "    </tr>\n",
       "    <tr>\n",
       "      <th>label 2</th>\n",
       "      <td>2</td>\n",
       "      <td>8.2</td>\n",
       "    </tr>\n",
       "    <tr>\n",
       "      <th>label 3</th>\n",
       "      <td>3</td>\n",
       "      <td>9.6</td>\n",
       "    </tr>\n",
       "  </tbody>\n",
       "</table>\n",
       "</div>"
      ],
      "text/plain": [
       "         Integers  Floats\n",
       "label 1         1     4.5\n",
       "label 2         2     8.2\n",
       "label 3         3     9.6"
      ]
     },
     "execution_count": 171,
     "metadata": {},
     "output_type": "execute_result"
    }
   ],
   "source": [
    "df.tail()"
   ]
  },
  {
   "cell_type": "code",
   "execution_count": 172,
   "id": "a22fa991",
   "metadata": {},
   "outputs": [
    {
     "data": {
      "text/html": [
       "<div>\n",
       "<style scoped>\n",
       "    .dataframe tbody tr th:only-of-type {\n",
       "        vertical-align: middle;\n",
       "    }\n",
       "\n",
       "    .dataframe tbody tr th {\n",
       "        vertical-align: top;\n",
       "    }\n",
       "\n",
       "    .dataframe thead th {\n",
       "        text-align: right;\n",
       "    }\n",
       "</style>\n",
       "<table border=\"1\" class=\"dataframe\">\n",
       "  <thead>\n",
       "    <tr style=\"text-align: right;\">\n",
       "      <th></th>\n",
       "      <th>Integers</th>\n",
       "      <th>Floats</th>\n",
       "    </tr>\n",
       "  </thead>\n",
       "  <tbody>\n",
       "    <tr>\n",
       "      <th>count</th>\n",
       "      <td>3.0</td>\n",
       "      <td>3.000000</td>\n",
       "    </tr>\n",
       "    <tr>\n",
       "      <th>mean</th>\n",
       "      <td>2.0</td>\n",
       "      <td>7.433333</td>\n",
       "    </tr>\n",
       "    <tr>\n",
       "      <th>std</th>\n",
       "      <td>1.0</td>\n",
       "      <td>2.635021</td>\n",
       "    </tr>\n",
       "    <tr>\n",
       "      <th>min</th>\n",
       "      <td>1.0</td>\n",
       "      <td>4.500000</td>\n",
       "    </tr>\n",
       "    <tr>\n",
       "      <th>25%</th>\n",
       "      <td>1.5</td>\n",
       "      <td>6.350000</td>\n",
       "    </tr>\n",
       "    <tr>\n",
       "      <th>50%</th>\n",
       "      <td>2.0</td>\n",
       "      <td>8.200000</td>\n",
       "    </tr>\n",
       "    <tr>\n",
       "      <th>75%</th>\n",
       "      <td>2.5</td>\n",
       "      <td>8.900000</td>\n",
       "    </tr>\n",
       "    <tr>\n",
       "      <th>max</th>\n",
       "      <td>3.0</td>\n",
       "      <td>9.600000</td>\n",
       "    </tr>\n",
       "  </tbody>\n",
       "</table>\n",
       "</div>"
      ],
      "text/plain": [
       "       Integers    Floats\n",
       "count       3.0  3.000000\n",
       "mean        2.0  7.433333\n",
       "std         1.0  2.635021\n",
       "min         1.0  4.500000\n",
       "25%         1.5  6.350000\n",
       "50%         2.0  8.200000\n",
       "75%         2.5  8.900000\n",
       "max         3.0  9.600000"
      ]
     },
     "execution_count": 172,
     "metadata": {},
     "output_type": "execute_result"
    }
   ],
   "source": [
    "df.describe()"
   ]
  },
  {
   "cell_type": "code",
   "execution_count": 173,
   "id": "83a76289",
   "metadata": {},
   "outputs": [
    {
     "data": {
      "text/plain": [
       "Integers    3.0\n",
       "Floats      9.6\n",
       "dtype: float64"
      ]
     },
     "execution_count": 173,
     "metadata": {},
     "output_type": "execute_result"
    }
   ],
   "source": [
    "# prints max value in each column\n",
    "df.max()"
   ]
  },
  {
   "cell_type": "code",
   "execution_count": 174,
   "id": "19c28e95",
   "metadata": {},
   "outputs": [
    {
     "name": "stdout",
     "output_type": "stream",
     "text": [
      "<class 'pandas.core.frame.DataFrame'>\n",
      "Index: 3 entries, label 1 to label 3\n",
      "Data columns (total 2 columns):\n",
      " #   Column    Non-Null Count  Dtype  \n",
      "---  ------    --------------  -----  \n",
      " 0   Integers  3 non-null      int64  \n",
      " 1   Floats    3 non-null      float64\n",
      "dtypes: float64(1), int64(1)\n",
      "memory usage: 72.0+ bytes\n"
     ]
    }
   ],
   "source": [
    "# display the memory usage of a DataFrame\n",
    "# total usage\n",
    "df.info()"
   ]
  },
  {
   "cell_type": "code",
   "execution_count": 175,
   "id": "039d682d",
   "metadata": {},
   "outputs": [
    {
     "data": {
      "text/plain": [
       "Index       24\n",
       "Integers    24\n",
       "Floats      24\n",
       "dtype: int64"
      ]
     },
     "execution_count": 175,
     "metadata": {},
     "output_type": "execute_result"
    }
   ],
   "source": [
    "# usage by column\n",
    "df.memory_usage()"
   ]
  },
  {
   "cell_type": "markdown",
   "id": "4ff910c6",
   "metadata": {},
   "source": [
    "### get the correlation between different columns\n"
   ]
  },
  {
   "cell_type": "code",
   "execution_count": 176,
   "id": "7bc3db7c",
   "metadata": {},
   "outputs": [
    {
     "data": {
      "text/html": [
       "<div>\n",
       "<style scoped>\n",
       "    .dataframe tbody tr th:only-of-type {\n",
       "        vertical-align: middle;\n",
       "    }\n",
       "\n",
       "    .dataframe tbody tr th {\n",
       "        vertical-align: top;\n",
       "    }\n",
       "\n",
       "    .dataframe thead th {\n",
       "        text-align: right;\n",
       "    }\n",
       "</style>\n",
       "<table border=\"1\" class=\"dataframe\">\n",
       "  <thead>\n",
       "    <tr style=\"text-align: right;\">\n",
       "      <th></th>\n",
       "      <th>Integers</th>\n",
       "      <th>Floats</th>\n",
       "    </tr>\n",
       "  </thead>\n",
       "  <tbody>\n",
       "    <tr>\n",
       "      <th>Integers</th>\n",
       "      <td>1.000000</td>\n",
       "      <td>0.967734</td>\n",
       "    </tr>\n",
       "    <tr>\n",
       "      <th>Floats</th>\n",
       "      <td>0.967734</td>\n",
       "      <td>1.000000</td>\n",
       "    </tr>\n",
       "  </tbody>\n",
       "</table>\n",
       "</div>"
      ],
      "text/plain": [
       "          Integers    Floats\n",
       "Integers  1.000000  0.967734\n",
       "Floats    0.967734  1.000000"
      ]
     },
     "execution_count": 176,
     "metadata": {},
     "output_type": "execute_result"
    }
   ],
   "source": [
    "df.corr()"
   ]
  },
  {
   "cell_type": "markdown",
   "id": "c5dc185d",
   "metadata": {},
   "source": [
    "### Groupby"
   ]
  },
  {
   "cell_type": "code",
   "execution_count": null,
   "id": "82504cf3",
   "metadata": {},
   "outputs": [],
   "source": [
    "data.groupby(['Year'])\n",
    "data.groupby(['Year'])['Salary']\n",
    "\n",
    "# display the average salary per year\n",
    "data.groupby(['Year'])['Salary'].mean()\n",
    "\n",
    "# display the total salary each employee received in all the years they worked for the company\n",
    "data.groupby(['Name'])['Salary'].sum()\n",
    "\n",
    "# group the data by Year and by Department\n",
    "data.groupby(['Year', 'Department'])['Salary'].sum()"
   ]
  },
  {
   "cell_type": "markdown",
   "id": "e4030e3f",
   "metadata": {},
   "source": [
    "### Replace Values"
   ]
  },
  {
   "cell_type": "code",
   "execution_count": 181,
   "id": "e8679106",
   "metadata": {},
   "outputs": [
    {
     "data": {
      "text/plain": [
       "0    kitten\n",
       "1     puppy\n",
       "2       NaN\n",
       "3       NaN\n",
       "dtype: object"
      ]
     },
     "execution_count": 181,
     "metadata": {},
     "output_type": "execute_result"
    }
   ],
   "source": [
    "s = pd.Series(['cat', 'dog', np.nan, 'rabbit'])\n",
    "s\n",
    "s.map({'cat': 'kitten', 'dog': 'puppy'})\n",
    "# another e.g.\n",
    "df['label'] = df['label'].map({'ham':0,'spam':1})"
   ]
  },
  {
   "cell_type": "markdown",
   "id": "8dafcdd7",
   "metadata": {},
   "source": [
    "### reading in a file from local computer or directly from a URL"
   ]
  },
  {
   "cell_type": "code",
   "execution_count": null,
   "id": "1b9f25cf",
   "metadata": {},
   "outputs": [],
   "source": [
    "# various file formats that can be read in out wrote out\n",
    "‘’’\n",
    "Format Type     Data Description      Reader           Writer\n",
    "text                  CSV            read_csv          to_csv\n",
    "text                 JSON            read_json         to_json\n",
    "text                 HTML            read_html         to_html\n",
    "text             Local clipboard  read_clipboard     to_clipboard\n",
    "binary             MS Excel          read_excel        to_excel\n",
    "binary            HDF5 Format        read_hdf           to_hdf\n",
    "binary           Feather Format     read_feather      to_feather\n",
    "binary              Msgpack         read_msgpack      to_msgpack\n",
    "binary               Stata           read_stata        to_stata\n",
    "binary                SAS             read_sas \n",
    "binary        Python Pickle Format   read_pickle       to_pickle\n",
    "SQL                   SQL             read_sql          to_sql\n",
    "SQL             Google Big Query      read_gbq          to_gbq\n",
    "‘’’\n",
    "\n",
    "# to read about different types of files, and further functionality of reading in files, visit: http://pandas.pydata.org/pandas-docs/version/0.20/io.html\n",
    "df = pd.read_csv('local_path/file.csv’)\n",
    "df = pd.read_csv('https://file_path/file.csv')\n",
    "\n",
    "# when reading in tables, can specify separators, and note a column to be used as index separators can include tabs (“\\t”), commas(“,”), pipes (“|”), etc.\n",
    "df = pd.read_table('https://file_path/file', sep='|', index_col='column_x')"
   ]
  },
  {
   "cell_type": "markdown",
   "id": "84d5dc2c",
   "metadata": {},
   "source": [
    "## Summarizing"
   ]
  },
  {
   "cell_type": "code",
   "execution_count": null,
   "id": "149ac73a",
   "metadata": {},
   "outputs": [],
   "source": [
    "# examine the df data\n",
    "df           \n",
    "# print the first 30 and last 30 rows\n",
    "type(df)     \n",
    "# DataFrame\n",
    "df.head()    \n",
    "# print the first 5 rows\n",
    "df.head(10)  \n",
    "# print the first 10 rows\n",
    "df.tail()    \n",
    "# print the last 5 rows\n",
    "df.index     \n",
    "# “the index” (aka “the labels”)\n",
    "df.columns   \n",
    "# column names (which is “an index”)\n",
    "df.dtypes    \n",
    "# data types of each column\n",
    "df.shape\n",
    "# display only the number of rows\n",
    "df.shape[0]\n",
    "# number of rows and columns\n",
    "df.values    \n",
    "# underlying numpy array — df are stored as numpy arrays for effeciencies.\n",
    "\n",
    "# summarize (describe) the DataFrame\n",
    "# describe all numeric columns\n",
    "df.describe()\n",
    "\n",
    "# describe all object columns\n",
    "df.describe(include=['object'])\n",
    "\n",
    "# describe all columns\n",
    "df.describe(include='all')"
   ]
  },
  {
   "cell_type": "markdown",
   "id": "628cd79c",
   "metadata": {},
   "source": [
    "## Working with Columns"
   ]
  },
  {
   "cell_type": "code",
   "execution_count": null,
   "id": "6ada691d",
   "metadata": {},
   "outputs": [],
   "source": [
    "# select a column\n",
    "df['column_y']         \n",
    "# select one column\n",
    "type(df['column_y'])   \n",
    "# determine datatype of column (e.g., Series)\n",
    "df.column_y            \n",
    "# select one column using the DataFrame attribute — not effective if column names have spaces\n",
    "\n",
    "# summarize a Series/column\n",
    "df.column_y.describe()   \n",
    "# describe a single column\n",
    "df.column_z.mean()       \n",
    "# only calculate the mean\n",
    "df[“column_z”].mean()    \n",
    "# alternate method for calculating mean\n",
    "\n",
    "# count the number of occurrences of each value\n",
    "df.column_y.value_counts()   \n",
    "# most useful for categorical variables, but can also be used with numeric variables\n",
    "\n",
    "# filter df by one column, and print out values of another column\n",
    "# when using numeric values, no quotations\n",
    "df[df.column_y == “string_value”].column_z\n",
    "df[df.column_y == 20 ].column_z    \n",
    " \n",
    "# display the 3 most frequent occurances of column in ‘df’\n",
    "df.column_y.value_counts()[0:3]"
   ]
  },
  {
   "cell_type": "markdown",
   "id": "891fd0b3",
   "metadata": {},
   "source": [
    "## filter and sort"
   ]
  },
  {
   "cell_type": "code",
   "execution_count": null,
   "id": "40a2f088",
   "metadata": {},
   "outputs": [],
   "source": [
    "# boolean filtering: only show df with column_z < 20\n",
    "filter_bool = df.column_z < 20    \n",
    "# create a Series of booleans…\n",
    "df[filter_bool]                \n",
    "# …and use that Series to filter rows\n",
    "df[filter_bool].describe()     \n",
    "# describes a data frame filtered by filter_bool\n",
    "df[df.column_z < 20]           \n",
    "# or, combine into a single step\n",
    "df[df.column_z < 20].column_x  \n",
    "# select one column from the filtered results\n",
    "df[df[“column_z”] < 20].column_x     \n",
    "# alternate method \n",
    "df[df.column_z < 20].column_x.value_counts()   \n",
    "# value_counts of resulting Series, can also use .mean(), etc. instead of .value_counts()\n",
    "\n",
    "# boolean filtering with multiple conditions; indexes are in square brackets, conditions are in parens\n",
    "df[(df.column_z < 20) & (df.column_y==’string’)] \n",
    "# ampersand for AND condition \n",
    "df[(df.column_z < 20) | (df.column_z > 60)] \n",
    "# pipe for OR condition\n",
    "\n",
    "# can also filter df using pandas.Series.isin \n",
    "df[df.column_x.isin([“string_1”, “string_2”])]\n",
    "\n",
    "# display a cross-tabulation of two Series\n",
    "pd.crosstab(df.column_x, df.column_y)\n",
    "\n",
    "# alternative syntax for boolean filtering (noted as “experimental” in the documentation)\n",
    "df.query('column_z < 20') \n",
    "# df[df.column_z < 20]\n",
    "df.query(\"column_z < 20 and column_y=='string'\")  \n",
    "# df[(df.column_z < 20) & (df.column_y==’string’)]\n",
    "df.query('column_z < 20 or column_z > 60')        \n",
    "# df[(df.column_z < 20) | (df.column_z > 60)]"
   ]
  },
  {
   "cell_type": "code",
   "execution_count": null,
   "id": "90353eb8",
   "metadata": {},
   "outputs": [],
   "source": [
    "# sorting\n",
    "df.column_z.order()          \n",
    "# sort a column\n",
    "df.sort_values(‘column_z’)   \n",
    "# sort a DataFrame by a single column\n",
    "df.sort_values(‘column_z’, ascending=False)     \n",
    "# use descending order instead\n",
    "\n",
    "# Sort dataframe by multiple columns\n",
    "df = df.sort([‘col1’,’col2',’col3'],ascending=[1,1,0])"
   ]
  },
  {
   "cell_type": "markdown",
   "id": "114a8355",
   "metadata": {},
   "source": [
    "### Selecting Multiple Columns and Filtering Rows"
   ]
  },
  {
   "cell_type": "code",
   "execution_count": null,
   "id": "d486d616",
   "metadata": {},
   "outputs": [],
   "source": [
    "# select multiple columns\n",
    "my_cols = [‘column_x’, ‘column_y’]  \n",
    "# create a list of column names…\n",
    "df[my_cols]                   \n",
    "# …and use that list to select columns\n",
    "df[[‘column_x’, ‘column_y’]]  \n",
    "# or, combine into a single step — double brackets due to indexing a list.\n",
    "\n",
    "# use loc to select columns by name\n",
    "df.loc[:, ‘column_x’]    \n",
    "# colon means “all rows”, then select one column\n",
    "df.loc[:, [‘column_x’, ‘column_y’]]  \n",
    "# select two columns\n",
    "df.loc[:, ‘column_x’:’column_y’]     \n",
    "# select a range of columns (i.e., selects all columns including first through last specified)\n",
    "\n",
    "# loc can also filter rows by “name” (the index)\n",
    "df.loc[0, :]       \n",
    "# row 0, all columns\n",
    "df.loc[0:2, :]     \n",
    "# rows 0/1/2, all columns\n",
    "df.loc[0:2, ‘column_x’:’column_y’] \n",
    "# rows 0/1/2, range of columns\n",
    "\n",
    "# use iloc to filter rows and select columns by integer position\n",
    "df.iloc[:, [0, 3]]     \n",
    "# all rows, columns in position 0/3\n",
    "df.iloc[:, 0:4]        \n",
    "# all rows, columns in position 0/1/2/3\n",
    "df.iloc[0:3, :]        \n",
    "# rows in position 0/1/2, all columns\n",
    "\n",
    "#filtering out and dropping rows based on condition (e.g., where column_x values are null)\n",
    "drop_rows = df[df[“column_x”].isnull()]\n",
    "new_df = df[~df.isin(drop_rows)].dropna(how=’all’)"
   ]
  },
  {
   "cell_type": "markdown",
   "id": "2caff624",
   "metadata": {},
   "source": [
    "### Renaming, Adding, and Removing Columns"
   ]
  },
  {
   "cell_type": "code",
   "execution_count": null,
   "id": "c0250aaf",
   "metadata": {},
   "outputs": [],
   "source": [
    "# rename one or more columns\n",
    "df.rename(columns={‘original_column_1’:’column_x’, ‘original_column_2’:’column_y’}, inplace=True) \n",
    "# saves changes \n",
    "\n",
    "# replace all column names (in place)\n",
    "new_cols = [‘column_x’, ‘column_y’, ‘column_z’]\n",
    "df.columns = new_cols\n",
    "\n",
    "# replace all column names when reading the file\n",
    "df = pd.read_csv(‘df.csv’, header=0, names=new_cols)\n",
    "\n",
    "# add a new column as a function of existing columns\n",
    "df[‘new_column_1’] = df.column_x + df.column_y\n",
    "df[‘new_column_2’] = df.column_x * 1000   \n",
    "#can create new columns without for loops\n",
    "\n",
    "# removing columns\n",
    "df.drop(‘column_x’, axis=1)   \n",
    "# axis=0 for rows, 1 for columns — does not drop in place\n",
    "df.drop([‘column_x’, ‘column_y’], axis=1, inplace=True) \n",
    "# drop multiple columns"
   ]
  },
  {
   "cell_type": "markdown",
   "id": "53df150c",
   "metadata": {},
   "source": [
    "### Lower-case all DataFrame column names"
   ]
  },
  {
   "cell_type": "code",
   "execution_count": null,
   "id": "3a4dcc76",
   "metadata": {},
   "outputs": [],
   "source": [
    "df.columns = map(str.lower, df.columns)\n",
    "\n",
    "# Even more fancy DataFrame column re-naming\n",
    "# lower-case all DataFrame column names (for example)\n",
    "df.rename(columns=lambda x: x.split('.')[-1], inplace=True)"
   ]
  },
  {
   "cell_type": "markdown",
   "id": "2ce54d2b",
   "metadata": {},
   "source": [
    "### Handling Missing Values"
   ]
  },
  {
   "cell_type": "code",
   "execution_count": null,
   "id": "0840cdc2",
   "metadata": {},
   "outputs": [],
   "source": [
    "# missing values are usually excluded by default\n",
    "df.column_x.value_counts()             \n",
    "# excludes missing values\n",
    "\n",
    "df.column_x.value_counts(dropna=False) \n",
    "# includes missing values\n",
    "\n",
    "# find missing values in a Series\n",
    "df.column_x.isnull()  \n",
    "# True if missing\n",
    "\n",
    "df.column_x.notnull() \n",
    "# True if not missing\n",
    "\n",
    "# use a boolean Series to filter DataFrame rows\n",
    "df[df.column_x.isnull()]  \n",
    "# only show rows where column_x is missing\n",
    "\n",
    "df[df.column_x.notnull()] \n",
    "# only show rows where column_x is not missing\n",
    "\n",
    "# understanding axes\n",
    "df.sum()       \n",
    "# sums “down” the 0 axis (rows)\n",
    "\n",
    "df.sum(axis=0) \n",
    "# equivalent (since axis=0 is the default)\n",
    "\n",
    "df.sum(axis=1) \n",
    "# sums “across” the 1 axis (columns)\n",
    "\n",
    "# adding booleans\n",
    "pd.Series([True, False, True])       \n",
    "# create a boolean Series\n",
    "pd.Series([True, False, True]).sum() \n",
    "# converts False to 0 and True to 1\n",
    "\n",
    "# find missing values in a DataFrame\n",
    "df.isnull() \n",
    "# DataFrame of booleans\n",
    "df.isnull().sum() \n",
    "# count the missing values in each column\n",
    "\n",
    "# drop missing values\n",
    "df.dropna(inplace=True)   \n",
    "# drop a row if ANY values are missing, defaults to rows, but can be applied to columns with axis=1\n",
    "df.dropna(how=’all’, inplace=True)  \n",
    "# drop a row only if ALL values are missing\n",
    "\n",
    "# fill in missing values\n",
    "df.column_x.fillna(value=’NA’, inplace=True) \n",
    "\n",
    "# fill in missing values with ‘NA’\n",
    "# value does not have to equal a string — can be set as some calculated value like df.column_x.mode(), or just a number like 0 \n",
    "\n",
    "# turn off the missing value filter\n",
    "df = pd.read_csv(‘df.csv’, header=0, names=new_cols, na_filter=False)\n",
    "\n",
    "# Clean up missing values in multiple DataFrame columns\n",
    "df = df.fillna({\n",
    " ‘col1’: ‘missing’,\n",
    " ‘col2’: ‘99.999’,\n",
    " ‘col3’: ‘999’,\n",
    " ‘col4’: ‘missing’,\n",
    " ‘col5’: ‘missing’,\n",
    " ‘col6’: ‘99’\n",
    "})\n",
    "\n",
    "# Concatenate two DataFrame columns into a new, single column - (useful when dealing with composite keys, for example)\n",
    "df[‘newcol’] = df[‘col1’].map(str) + df[‘col2’].map(str)\n",
    "\n",
    "# Doing calculations with DataFrame columns that have missing values\n",
    "\n",
    "# In example below, swap in 0 for df[‘col1’] cells that contain null\n",
    "df[‘new_col’] = np.where(pd.isnull(df[‘col1’]),0,df[‘col1’]) + df[‘col2’]"
   ]
  },
  {
   "cell_type": "markdown",
   "id": "9099bc94",
   "metadata": {},
   "source": [
    "### Handling Duplicated Values"
   ]
  },
  {
   "cell_type": "code",
   "execution_count": null,
   "id": "0913e624",
   "metadata": {},
   "outputs": [],
   "source": [
    "# detecting duplicate rows\n",
    "df.duplicated()\n",
    "\n",
    "# True if a row is identical to a previous row\n",
    "df.duplicated().sum()\n",
    "\n",
    "# count of duplicates\n",
    "df[df.duplicated()]\n",
    "\n",
    "# only show duplicates\n",
    "df.drop_duplicates()\n",
    "\n",
    "# drop duplicate rows\n",
    "df.column_z.duplicated()\n",
    "\n",
    "# check a single column for duplicates\n",
    "df.duplicated([‘column_x’, ‘column_y’, ‘column_z’]).sum()  \n",
    "# specify columns for finding duplicates"
   ]
  },
  {
   "cell_type": "markdown",
   "id": "c0bc0cab",
   "metadata": {},
   "source": [
    "### Split-Apply-Combine\n"
   ]
  },
  {
   "cell_type": "code",
   "execution_count": null,
   "id": "501992f2",
   "metadata": {},
   "outputs": [],
   "source": [
    "# for each value in column_x, calculate the mean column_y \n",
    "df.groupby(‘column_x’).column_y.mean()\n",
    "\n",
    "# for each value in column_x, count the number of occurrences\n",
    "df.column_x.value_counts()\n",
    "\n",
    "# for each value in column_x, describe column_y\n",
    "df.groupby(‘column_x’).column_y.describe()\n",
    "\n",
    "# similar, but outputs a DataFrame and can be customized\n",
    "df.groupby(‘column_x’).column_y.agg([‘count’, ‘mean’, ‘min’, ‘max’])\n",
    "df.groupby(‘column_x’).column_y.agg([‘count’, ‘mean’, ‘min’, ‘max’]).sort_values(‘mean’)\n",
    "\n",
    "# if you don’t specify a column to which the aggregation function should be applied, it will be applied to all numeric columns\n",
    "df.groupby(‘column_x’).mean()\n",
    "df.groupby(‘column_x’).describe()\n",
    "\n",
    "# can also groupby a list of columns, i.e., for each combination of column_x and column_y, calculate the mean column_z\n",
    "df.groupby([“column_x”,”column_y”]).column_z.mean()\n",
    "\n",
    "#to take groupby results out of hierarchical index format (e.g., present as table), use .unstack() method\n",
    "df.groupby(“column_x”).column_y.value_counts().unstack()\n",
    "\n",
    "#conversely, if you want to transform a table into a hierarchical index, use the .stack() method\n",
    "df.stack()\n"
   ]
  },
  {
   "cell_type": "markdown",
   "id": "cd6e96aa",
   "metadata": {},
   "source": [
    "### Merging and Concatenating Dataframes"
   ]
  },
  {
   "cell_type": "code",
   "execution_count": null,
   "id": "fd177836",
   "metadata": {},
   "outputs": [],
   "source": [
    "#concatenating two dfs together (just smooshes them together, does not pair them in any meaningful way) - axis=1 concats df2 to right side of df1; axis=0 concats df2 to bottom of df1\n",
    "new_df = pd.concat([df1, df2], axis=1)\n",
    "\n",
    "#merging dfs based on paired columns; columns do not need to have same name, but should match values; left_on column comes from df1, right_on column comes from df2\n",
    "new_df = pd.merge(df1, df2, left_on=’column_x’, right_on=’column_y’)\n",
    "\n",
    "#can also merge slices of dfs together, though slices need to include columns used for merging\n",
    "new_df = pd.merge(df1[[‘column_x1’, ‘column_x2’]], df2, left_on=’column_x2', right_on=’column_y’)\n",
    "\n",
    "#merging two dataframes based on shared index values (left is df1, right is df2)\n",
    "new_df = pd.merge(df1, df2, left_index=True, right_index=True)\n"
   ]
  },
  {
   "cell_type": "markdown",
   "id": "2ed9366b",
   "metadata": {},
   "source": [
    "### Frequently Used Features"
   ]
  },
  {
   "cell_type": "markdown",
   "id": "e20bfac9",
   "metadata": {},
   "source": [
    "#### map existing values to a different set of values"
   ]
  },
  {
   "cell_type": "code",
   "execution_count": null,
   "id": "fb8e8e98",
   "metadata": {},
   "outputs": [],
   "source": [
    "df[‘column_x’] = df.column_y.map({‘F’:0, ‘M’:1})"
   ]
  },
  {
   "cell_type": "markdown",
   "id": "f8e328dd",
   "metadata": {},
   "source": [
    "#### encode strings as integer values (automatically starts at 0)"
   ]
  },
  {
   "cell_type": "code",
   "execution_count": null,
   "id": "b24d7256",
   "metadata": {},
   "outputs": [],
   "source": [
    "df[‘column_x_num’] = df.column_x.factorize()[0]"
   ]
  },
  {
   "cell_type": "markdown",
   "id": "9a541ec8",
   "metadata": {},
   "source": [
    "#### determine unique values in a colum"
   ]
  },
  {
   "cell_type": "code",
   "execution_count": null,
   "id": "8b91f26c",
   "metadata": {},
   "outputs": [],
   "source": [
    "df.column_x.nunique() "
   ]
  },
  {
   "cell_type": "markdown",
   "id": "557d80a3",
   "metadata": {},
   "source": [
    "#### count the number of unique values"
   ]
  },
  {
   "cell_type": "code",
   "execution_count": null,
   "id": "fdf56a48",
   "metadata": {},
   "outputs": [],
   "source": [
    "df.column_x.unique()    \n",
    "# returns the unique values"
   ]
  },
  {
   "cell_type": "markdown",
   "id": "a796d239",
   "metadata": {},
   "source": [
    "#### replace all instances of a value in a column (must match entire value)"
   ]
  },
  {
   "cell_type": "code",
   "execution_count": null,
   "id": "b5350998",
   "metadata": {},
   "outputs": [],
   "source": [
    "df.column_y.replace(‘old_string’, ‘new_string’, inplace=True)"
   ]
  },
  {
   "cell_type": "markdown",
   "id": "e39d954c",
   "metadata": {},
   "source": [
    "#### alter values in one column based on values in another column"
   ]
  },
  {
   "cell_type": "code",
   "execution_count": null,
   "id": "4d65704e",
   "metadata": {},
   "outputs": [],
   "source": [
    "# changes occur in place\n",
    "# can use either .loc or .ix methods\n",
    "df.loc[df[“column_x”] == 5, “column_y”] = 1\n",
    "df.ix[df.column_x == “string_value”, “column_y”] = “new_string_value”"
   ]
  },
  {
   "cell_type": "markdown",
   "id": "f2dbe6ea",
   "metadata": {},
   "source": [
    "#### transpose data frame (i.e. rows become columns, columns become rows)"
   ]
  },
  {
   "cell_type": "code",
   "execution_count": null,
   "id": "864900c2",
   "metadata": {},
   "outputs": [],
   "source": [
    "df.T"
   ]
  },
  {
   "cell_type": "markdown",
   "id": "a1368f4b",
   "metadata": {},
   "source": [
    "#### string methods are accessed via ‘str’"
   ]
  },
  {
   "cell_type": "code",
   "execution_count": null,
   "id": "faac0b6b",
   "metadata": {},
   "outputs": [],
   "source": [
    "df.column_y.str.upper()"
   ]
  },
  {
   "cell_type": "markdown",
   "id": "40817b6b",
   "metadata": {},
   "source": [
    "#### converts to uppercase"
   ]
  },
  {
   "cell_type": "code",
   "execution_count": null,
   "id": "4ddf4611",
   "metadata": {},
   "outputs": [],
   "source": [
    "df.column_y.str.contains(‘value’, na=’False’) \n",
    "# checks for a substring, returns boolean series"
   ]
  },
  {
   "cell_type": "markdown",
   "id": "d09ea8cb",
   "metadata": {},
   "source": [
    "#### convert a string to the datetime_column format"
   ]
  },
  {
   "cell_type": "code",
   "execution_count": null,
   "id": "c47af9c7",
   "metadata": {},
   "outputs": [],
   "source": [
    "df[‘time_column’] = pd.to_datetime_column(df.time_column)\n",
    "df.time_column.dt.hour "
   ]
  },
  {
   "cell_type": "markdown",
   "id": "44368130",
   "metadata": {},
   "source": [
    "#### datetime_column format exposes convenient attributes"
   ]
  },
  {
   "cell_type": "code",
   "execution_count": null,
   "id": "a7ed7bd7",
   "metadata": {},
   "outputs": [],
   "source": [
    "(df.time_column.max() — df.time_column.min()).days"
   ]
  },
  {
   "cell_type": "markdown",
   "id": "7056604f",
   "metadata": {},
   "source": [
    "#### boolean filtering with datetime_column format"
   ]
  },
  {
   "cell_type": "code",
   "execution_count": null,
   "id": "23beb2dc",
   "metadata": {},
   "outputs": [],
   "source": [
    "df[df.time_column > pd.datetime_column(2014, 1, 1)]   \n",
    "# also allows you to do datetime_column “math”"
   ]
  },
  {
   "cell_type": "markdown",
   "id": "9966fdb9",
   "metadata": {},
   "source": [
    "#### setting and then removing an index, resetting index can help remove hierarchical indexes while preserving the table in its basic structure"
   ]
  },
  {
   "cell_type": "code",
   "execution_count": null,
   "id": "4f5e259c",
   "metadata": {},
   "outputs": [],
   "source": [
    "df.set_index(‘time_column’, inplace=True)\n",
    "df.reset_index(inplace=True)"
   ]
  },
  {
   "cell_type": "markdown",
   "id": "e9c6badb",
   "metadata": {},
   "source": [
    "#### sort a column by its index"
   ]
  },
  {
   "cell_type": "code",
   "execution_count": null,
   "id": "6cbd5c47",
   "metadata": {},
   "outputs": [],
   "source": [
    "df.column_y.value_counts().sort_index()"
   ]
  },
  {
   "cell_type": "markdown",
   "id": "ebf3d36c",
   "metadata": {},
   "source": [
    "#### change the data type of a column"
   ]
  },
  {
   "cell_type": "code",
   "execution_count": null,
   "id": "589643df",
   "metadata": {},
   "outputs": [],
   "source": [
    "df[‘column_x’] = df.column_x.astype(‘float’)"
   ]
  },
  {
   "cell_type": "markdown",
   "id": "8a0eb123",
   "metadata": {},
   "source": [
    "#### change the data type of a column when reading in a file"
   ]
  },
  {
   "cell_type": "code",
   "execution_count": null,
   "id": "a9319bbf",
   "metadata": {},
   "outputs": [],
   "source": [
    "pd.read_csv(‘df.csv’, dtype={‘column_x’:float})"
   ]
  },
  {
   "cell_type": "markdown",
   "id": "bdb2d993",
   "metadata": {},
   "source": [
    "#### create dummy variables for ‘column_x’ and exclude first dummy column"
   ]
  },
  {
   "cell_type": "code",
   "execution_count": null,
   "id": "6c3fcc17",
   "metadata": {},
   "outputs": [],
   "source": [
    "column_x_dummies = pd.get_dummies(df.column_x).iloc[:, 1:]"
   ]
  },
  {
   "cell_type": "markdown",
   "id": "154e781b",
   "metadata": {},
   "source": [
    "#### concatenate two DataFrames (axis=0 for rows, axis=1 for columns)"
   ]
  },
  {
   "cell_type": "code",
   "execution_count": null,
   "id": "b1eaa5c4",
   "metadata": {},
   "outputs": [],
   "source": [
    "df = pd.concat([df, column_x_dummies], axis=1)"
   ]
  },
  {
   "cell_type": "markdown",
   "id": "cb80da00",
   "metadata": {},
   "source": [
    "#### Loop through rows in a DataFrame"
   ]
  },
  {
   "cell_type": "code",
   "execution_count": null,
   "id": "2b8cc74e",
   "metadata": {},
   "outputs": [],
   "source": [
    "# Loop through rows in a DataFrame\n",
    "for index, row in df.iterrows():\n",
    " print index, row[‘column_x’]\n",
    "\n",
    "# Much faster way to loop through DataFrame rows if you can work with tuples\n",
    "for row in df.itertuples():\n",
    " print(row)"
   ]
  },
  {
   "cell_type": "markdown",
   "id": "19096cc0",
   "metadata": {},
   "source": [
    "#### Get rid of non-numeric values throughout a DataFrame"
   ]
  },
  {
   "cell_type": "code",
   "execution_count": null,
   "id": "de6dea90",
   "metadata": {},
   "outputs": [],
   "source": [
    "for col in df.columns.values:\n",
    " df[col] = df[col].replace(‘[⁰-9]+.-’, ‘’, regex=True)"
   ]
  },
  {
   "cell_type": "markdown",
   "id": "d15fb3a3",
   "metadata": {},
   "source": [
    "#### Change all NaNs to None (useful before loading to a db)"
   ]
  },
  {
   "cell_type": "code",
   "execution_count": null,
   "id": "6b3d4a80",
   "metadata": {},
   "outputs": [],
   "source": [
    "df = df.where((pd.notnull(df)), None)"
   ]
  },
  {
   "cell_type": "markdown",
   "id": "90d48d08",
   "metadata": {},
   "source": [
    "#### Split delimited values in a DataFrame column into two new columns"
   ]
  },
  {
   "cell_type": "code",
   "execution_count": null,
   "id": "a7354607",
   "metadata": {},
   "outputs": [],
   "source": [
    "df[‘new_col1’], df[‘new_col2’] = zip(*df[‘original_col’].apply(lambda x: x.split(‘: ‘, 1)))"
   ]
  },
  {
   "cell_type": "markdown",
   "id": "2caf40fe",
   "metadata": {},
   "source": [
    "#### Collapse hierarchical column indexes"
   ]
  },
  {
   "cell_type": "code",
   "execution_count": null,
   "id": "f1649654",
   "metadata": {},
   "outputs": [],
   "source": [
    "df.columns = df.columns.get_level_values(0)"
   ]
  },
  {
   "cell_type": "markdown",
   "id": "123808a3",
   "metadata": {},
   "source": [
    "#### change a Series to the ‘category’ data type (reduces memory usage and increases performance)"
   ]
  },
  {
   "cell_type": "code",
   "execution_count": null,
   "id": "97237d59",
   "metadata": {},
   "outputs": [],
   "source": [
    "df[‘column_y’] = df.column_y.astype(‘category’)"
   ]
  },
  {
   "cell_type": "markdown",
   "id": "a40183c1",
   "metadata": {},
   "source": [
    "#### temporarily define a new column as a function of existing columns"
   ]
  },
  {
   "cell_type": "code",
   "execution_count": null,
   "id": "5e2be27e",
   "metadata": {},
   "outputs": [],
   "source": [
    "df.assign(new_column = df.column_x + df.spirit + df.column_y)"
   ]
  },
  {
   "cell_type": "markdown",
   "id": "9a8421d2",
   "metadata": {},
   "source": [
    "# Thank you "
   ]
  }
 ],
 "metadata": {
  "kernelspec": {
   "display_name": "Python 3 (ipykernel)",
   "language": "python",
   "name": "python3"
  },
  "language_info": {
   "codemirror_mode": {
    "name": "ipython",
    "version": 3
   },
   "file_extension": ".py",
   "mimetype": "text/x-python",
   "name": "python",
   "nbconvert_exporter": "python",
   "pygments_lexer": "ipython3",
   "version": "3.9.7"
  }
 },
 "nbformat": 4,
 "nbformat_minor": 5
}
